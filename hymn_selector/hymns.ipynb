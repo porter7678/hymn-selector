{
 "cells": [
  {
   "attachments": {},
   "cell_type": "markdown",
   "id": "fe153eff-ff7a-4ef4-9869-42c66368dd10",
   "metadata": {},
   "source": [
    "## TODO\n",
    " - Make a list of important dates (holidays, fast sundays, stake conferences)\n",
    " - Add a check for all future-scheduled dates that they don't have any hymns that were sung recently. This would happen if a hymn got changed after the schedule was made."
   ]
  },
  {
   "attachments": {},
   "cell_type": "markdown",
   "id": "5a0e8093",
   "metadata": {},
   "source": [
    "# Steps to use:\n",
    " 1. Make sure the history is accurate for the past few weeks\n",
    " 2. Check if there are any holidays, fast sundays, or special meetings coming up\n",
    " 3. Run most of the notebook to generate suggestions\n",
    " 4. Select hymns, enter on Edify\n",
    " 5. Add selected hymns to history\n",
    " 6. Add hymns to Gospel Library\n",
    " 7. Update ward program, if needed, using Gospel Library as reference\n",
    " 8. Email Ilene Shelton what the hymns are ileneshelton66@gmail.com\n"
   ]
  },
  {
   "cell_type": "code",
   "execution_count": 1,
   "id": "b3502914-dbad-43f8-a504-99b09d89e2f2",
   "metadata": {},
   "outputs": [
    {
     "data": {
      "text/plain": [
       "polars.config.Config"
      ]
     },
     "execution_count": 1,
     "metadata": {},
     "output_type": "execute_result"
    }
   ],
   "source": [
    "import datetime as dt\n",
    "\n",
    "import numpy as np\n",
    "import polars as pl\n",
    "\n",
    "pl.Config().set_tbl_rows(30)\n",
    "pl.Config().set_fmt_str_lengths(50)"
   ]
  },
  {
   "cell_type": "code",
   "execution_count": 2,
   "id": "b0f87709",
   "metadata": {},
   "outputs": [],
   "source": [
    "def add_last_sung_col(df):\n",
    "    # Load history df\n",
    "    history_df = pl.read_csv('history.csv', infer_schema_length=None)\n",
    "    history_df = history_df.with_columns(\n",
    "        pl.col(\"date\").str.strptime(pl.Date, \"%m/%d/%Y\").alias(\"date\"),\n",
    "    ).drop('name').drop_nulls()\n",
    "    history_df.head()\n",
    "\n",
    "    last_sung = history_df.group_by('id').agg(pl.max('date').alias('last_sung'))\n",
    "    df = df.join(last_sung, on='id', how='left')\n",
    "    return df\n",
    "\n",
    "\n",
    "def get_ranking_score(df: pl.DataFrame, type_col: str, popularity_weight=0.5, noise=0.0) -> pl.Series:\n",
    "    score_df = df.filter((pl.col(type_col) == 1) & (pl.col('flagged').fill_null(0) != 1))\n",
    "    weeks_since_fill_value = 100\n",
    "    # Add days since last sung column\n",
    "    score_df = score_df.with_columns(\n",
    "        ((pl.lit(dt.datetime.today()) - pl.col('last_sung')).dt.total_days()//7)\n",
    "        .fill_null(weeks_since_fill_value)\n",
    "        .alias('weeks_since')\n",
    "    )\n",
    "\n",
    "    midpoint = 7\n",
    "    slope = 2\n",
    "\n",
    "    def popularity_func(x): return np.round(\n",
    "        1 / (1 + np.exp(-slope * (x - midpoint))), 2)\n",
    "    weeks_cutoff = 8\n",
    "    score_df = score_df.with_columns((pl.col('popularity') + pl.col('popularity_adjustment').fill_null(0)).alias('adj_popularity'))\n",
    "    score_df = score_df.with_columns(\n",
    "        pl.col('adj_popularity').map_elements(popularity_func).alias('popularity_score'),\n",
    "        pl.when(pl.col('weeks_since') > weeks_cutoff)\n",
    "        .then((pl.col('weeks_since') / (weeks_since_fill_value/2)).round(3))\n",
    "        .otherwise(-100).alias('weeks_since_score'),\n",
    "        pl.Series(np.round(np.random.uniform(-noise, noise,\n",
    "                  len(score_df)), 2)).alias('noise'),\n",
    "    ).with_columns(\n",
    "        (pl.col('popularity_score') * popularity_weight + pl.col('weeks_since_score')\n",
    "         * (1 - popularity_weight)).alias('score') + pl.col('noise')\n",
    "    )\n",
    "\n",
    "    score_df = score_df.select([\n",
    "        'id', 'name', 'length', 'adj_popularity', 'weeks_since', 'popularity_score', 'weeks_since_score', 'score'\n",
    "    ]).sort('score', descending=True)\n",
    "\n",
    "    return score_df"
   ]
  },
  {
   "cell_type": "code",
   "execution_count": 3,
   "id": "e60d50c3",
   "metadata": {},
   "outputs": [],
   "source": [
    "df = pl.read_csv(\"hymns.csv\")\n",
    "df = add_last_sung_col(df)"
   ]
  },
  {
   "attachments": {},
   "cell_type": "markdown",
   "id": "65fc7e07",
   "metadata": {},
   "source": [
    "## Sacrament Hymn"
   ]
  },
  {
   "cell_type": "code",
   "execution_count": 4,
   "id": "092bf52d",
   "metadata": {},
   "outputs": [
    {
     "data": {
      "text/html": [
       "<div><style>\n",
       ".dataframe > thead > tr,\n",
       ".dataframe > tbody > tr {\n",
       "  text-align: right;\n",
       "  white-space: pre-wrap;\n",
       "}\n",
       "</style>\n",
       "<small>shape: (10, 8)</small><table border=\"1\" class=\"dataframe\"><thead><tr><th>id</th><th>name</th><th>length</th><th>adj_popularity</th><th>weeks_since</th><th>popularity_score</th><th>weeks_since_score</th><th>score</th></tr><tr><td>i64</td><td>str</td><td>str</td><td>i64</td><td>i64</td><td>f64</td><td>f64</td><td>f64</td></tr></thead><tbody><tr><td>189</td><td>&quot;O Thou, Before the World Began&quot;</td><td>&quot;3:06&quot;</td><td>6</td><td>100</td><td>0.12</td><td>2.0</td><td>1.06</td></tr><tr><td>194</td><td>&quot;There Is a Green Hill Far Away&quot;</td><td>&quot;2:19&quot;</td><td>10</td><td>21</td><td>1.0</td><td>0.42</td><td>0.81</td></tr><tr><td>178</td><td>&quot;O Lord of Hosts&quot;</td><td>&quot;2:12&quot;</td><td>9</td><td>29</td><td>0.98</td><td>0.58</td><td>0.8</td></tr><tr><td>183</td><td>&quot;In Rememberance of Thy Suffering&quot;</td><td>&quot;3:25&quot;</td><td>10</td><td>28</td><td>1.0</td><td>0.56</td><td>0.8</td></tr><tr><td>177</td><td>&quot;Tis Sweet to Sing the Matchless Love (HANCOCK)&quot;</td><td>&quot;3:08&quot;</td><td>10</td><td>22</td><td>1.0</td><td>0.44</td><td>0.79</td></tr><tr><td>171</td><td>&quot;With Humble Heart&quot;</td><td>&quot;2:44&quot;</td><td>10</td><td>19</td><td>1.0</td><td>0.38</td><td>0.78</td></tr><tr><td>173</td><td>&quot;While of These Emblems We Partake (SAUL)&quot;</td><td>&quot;2:53&quot;</td><td>10</td><td>15</td><td>1.0</td><td>0.3</td><td>0.75</td></tr><tr><td>182</td><td>&quot;We&#x27;ll Sing All Hail to Jesus&#x27; Name&quot;</td><td>&quot;2:48&quot;</td><td>10</td><td>20</td><td>1.0</td><td>0.4</td><td>0.75</td></tr><tr><td>188</td><td>&quot;Thy Will, O Lord, Be Done&quot;</td><td>&quot;2:18&quot;</td><td>10</td><td>26</td><td>1.0</td><td>0.52</td><td>0.72</td></tr><tr><td>146</td><td>&quot;Gently Raise the Sacred Strain&quot;</td><td>&quot;3:55&quot;</td><td>8</td><td>30</td><td>0.88</td><td>0.6</td><td>0.71</td></tr></tbody></table></div>"
      ],
      "text/plain": [
       "shape: (10, 8)\n",
       "┌─────┬───────────────┬────────┬───────────────┬─────────────┬──────────────┬──────────────┬───────┐\n",
       "│ id  ┆ name          ┆ length ┆ adj_popularit ┆ weeks_since ┆ popularity_s ┆ weeks_since_ ┆ score │\n",
       "│ --- ┆ ---           ┆ ---    ┆ y             ┆ ---         ┆ core         ┆ score        ┆ ---   │\n",
       "│ i64 ┆ str           ┆ str    ┆ ---           ┆ i64         ┆ ---          ┆ ---          ┆ f64   │\n",
       "│     ┆               ┆        ┆ i64           ┆             ┆ f64          ┆ f64          ┆       │\n",
       "╞═════╪═══════════════╪════════╪═══════════════╪═════════════╪══════════════╪══════════════╪═══════╡\n",
       "│ 189 ┆ O Thou,       ┆ 3:06   ┆ 6             ┆ 100         ┆ 0.12         ┆ 2.0          ┆ 1.06  │\n",
       "│     ┆ Before the    ┆        ┆               ┆             ┆              ┆              ┆       │\n",
       "│     ┆ World Began   ┆        ┆               ┆             ┆              ┆              ┆       │\n",
       "│ 194 ┆ There Is a    ┆ 2:19   ┆ 10            ┆ 21          ┆ 1.0          ┆ 0.42         ┆ 0.81  │\n",
       "│     ┆ Green Hill    ┆        ┆               ┆             ┆              ┆              ┆       │\n",
       "│     ┆ Far Away      ┆        ┆               ┆             ┆              ┆              ┆       │\n",
       "│ 178 ┆ O Lord of     ┆ 2:12   ┆ 9             ┆ 29          ┆ 0.98         ┆ 0.58         ┆ 0.8   │\n",
       "│     ┆ Hosts         ┆        ┆               ┆             ┆              ┆              ┆       │\n",
       "│ 183 ┆ In            ┆ 3:25   ┆ 10            ┆ 28          ┆ 1.0          ┆ 0.56         ┆ 0.8   │\n",
       "│     ┆ Rememberance  ┆        ┆               ┆             ┆              ┆              ┆       │\n",
       "│     ┆ of Thy        ┆        ┆               ┆             ┆              ┆              ┆       │\n",
       "│     ┆ Suffering     ┆        ┆               ┆             ┆              ┆              ┆       │\n",
       "│ 177 ┆ Tis Sweet to  ┆ 3:08   ┆ 10            ┆ 22          ┆ 1.0          ┆ 0.44         ┆ 0.79  │\n",
       "│     ┆ Sing the      ┆        ┆               ┆             ┆              ┆              ┆       │\n",
       "│     ┆ Matchless     ┆        ┆               ┆             ┆              ┆              ┆       │\n",
       "│     ┆ Love          ┆        ┆               ┆             ┆              ┆              ┆       │\n",
       "│     ┆ (HANCOCK)     ┆        ┆               ┆             ┆              ┆              ┆       │\n",
       "│ 171 ┆ With Humble   ┆ 2:44   ┆ 10            ┆ 19          ┆ 1.0          ┆ 0.38         ┆ 0.78  │\n",
       "│     ┆ Heart         ┆        ┆               ┆             ┆              ┆              ┆       │\n",
       "│ 173 ┆ While of      ┆ 2:53   ┆ 10            ┆ 15          ┆ 1.0          ┆ 0.3          ┆ 0.75  │\n",
       "│     ┆ These Emblems ┆        ┆               ┆             ┆              ┆              ┆       │\n",
       "│     ┆ We Partake    ┆        ┆               ┆             ┆              ┆              ┆       │\n",
       "│     ┆ (SAUL)        ┆        ┆               ┆             ┆              ┆              ┆       │\n",
       "│ 182 ┆ We'll Sing    ┆ 2:48   ┆ 10            ┆ 20          ┆ 1.0          ┆ 0.4          ┆ 0.75  │\n",
       "│     ┆ All Hail to   ┆        ┆               ┆             ┆              ┆              ┆       │\n",
       "│     ┆ Jesus' Name   ┆        ┆               ┆             ┆              ┆              ┆       │\n",
       "│ 188 ┆ Thy Will, O   ┆ 2:18   ┆ 10            ┆ 26          ┆ 1.0          ┆ 0.52         ┆ 0.72  │\n",
       "│     ┆ Lord, Be Done ┆        ┆               ┆             ┆              ┆              ┆       │\n",
       "│ 146 ┆ Gently Raise  ┆ 3:55   ┆ 8             ┆ 30          ┆ 0.88         ┆ 0.6          ┆ 0.71  │\n",
       "│     ┆ the Sacred    ┆        ┆               ┆             ┆              ┆              ┆       │\n",
       "│     ┆ Strain        ┆        ┆               ┆             ┆              ┆              ┆       │\n",
       "└─────┴───────────────┴────────┴───────────────┴─────────────┴──────────────┴──────────────┴───────┘"
      ]
     },
     "metadata": {},
     "output_type": "display_data"
    }
   ],
   "source": [
    "sacrament_ranking = get_ranking_score(df, 'is_sacrament', noise=0.1)\n",
    "display(sacrament_ranking.head(10))"
   ]
  },
  {
   "attachments": {},
   "cell_type": "markdown",
   "id": "0f84e2cb",
   "metadata": {},
   "source": [
    "## General Hymns"
   ]
  },
  {
   "cell_type": "code",
   "execution_count": 7,
   "id": "eb1890f3",
   "metadata": {},
   "outputs": [
    {
     "data": {
      "text/html": [
       "<div><style>\n",
       ".dataframe > thead > tr,\n",
       ".dataframe > tbody > tr {\n",
       "  text-align: right;\n",
       "  white-space: pre-wrap;\n",
       "}\n",
       "</style>\n",
       "<small>shape: (30, 8)</small><table border=\"1\" class=\"dataframe\"><thead><tr><th>id</th><th>name</th><th>length</th><th>adj_popularity</th><th>weeks_since</th><th>popularity_score</th><th>weeks_since_score</th><th>score</th></tr><tr><td>i64</td><td>str</td><td>str</td><td>i64</td><td>i64</td><td>f64</td><td>f64</td><td>f64</td></tr></thead><tbody><tr><td>21</td><td>&quot;Come, Listen to a Prophet&#x27;s Voice&quot;</td><td>&quot;3:13&quot;</td><td>7</td><td>100</td><td>0.5</td><td>2.0</td><td>1.08</td></tr><tr><td>157</td><td>&quot;Thy Spirit, Lord, Has Stirred Our Souls&quot;</td><td>&quot;1:39&quot;</td><td>7</td><td>100</td><td>0.5</td><td>2.0</td><td>1.03</td></tr><tr><td>3</td><td>&quot;Now Let Us Rejoice&quot;</td><td>&quot;3:29&quot;</td><td>10</td><td>23</td><td>1.0</td><td>0.46</td><td>0.978</td></tr><tr><td>89</td><td>&quot;The Lord Is My Light&quot;</td><td>&quot;3:39&quot;</td><td>10</td><td>31</td><td>1.0</td><td>0.62</td><td>0.966</td></tr><tr><td>142</td><td>&quot;Sweet Hour of Prayer&quot;</td><td>&quot;2:58&quot;</td><td>8</td><td>37</td><td>0.88</td><td>0.74</td><td>0.938</td></tr><tr><td>277</td><td>&quot;As I Search the Holy Scriptures&quot;</td><td>&quot;2:16&quot;</td><td>8</td><td>30</td><td>0.88</td><td>0.6</td><td>0.926</td></tr><tr><td>308</td><td>&quot;Love One Another&quot;</td><td>&quot;1:22&quot;</td><td>8</td><td>32</td><td>0.88</td><td>0.64</td><td>0.918</td></tr><tr><td>131</td><td>&quot;More Holiness Give Me&quot;</td><td>&quot;2:49&quot;</td><td>9</td><td>22</td><td>0.98</td><td>0.44</td><td>0.908</td></tr><tr><td>97</td><td>&quot;Lead, Kindly Light&quot;</td><td>&quot;3:12&quot;</td><td>9</td><td>26</td><td>0.98</td><td>0.52</td><td>0.902</td></tr><tr><td>243</td><td>&quot;Let Us All Press On&quot;</td><td>&quot;2:22&quot;</td><td>9</td><td>23</td><td>0.98</td><td>0.46</td><td>0.864</td></tr><tr><td>298</td><td>&quot;Home Can Be a Heaven on Earth&quot;</td><td>&quot;2:38&quot;</td><td>9</td><td>18</td><td>0.98</td><td>0.36</td><td>0.854</td></tr><tr><td>152</td><td>&quot;God Be with You Till We Meet Again&quot;</td><td>&quot;3:15&quot;</td><td>8</td><td>21</td><td>0.88</td><td>0.42</td><td>0.852</td></tr><tr><td>274</td><td>&quot;The Iron Rod&quot;</td><td>&quot;2:36&quot;</td><td>9</td><td>20</td><td>0.98</td><td>0.4</td><td>0.846</td></tr><tr><td>117</td><td>&quot;Come unto Jesus&quot;</td><td>&quot;3:37&quot;</td><td>8</td><td>35</td><td>0.88</td><td>0.7</td><td>0.836</td></tr><tr><td>252</td><td>&quot;Put Your Shoulder to the Wheel&quot;</td><td>&quot;3:07&quot;</td><td>9</td><td>27</td><td>0.98</td><td>0.54</td><td>0.828</td></tr><tr><td>10</td><td>&quot;Come, Sing to the Lord&quot;</td><td>&quot;2:18&quot;</td><td>6</td><td>100</td><td>0.12</td><td>2.0</td><td>0.824</td></tr><tr><td>96</td><td>&quot;Dearest Children, God Is Near You&quot;</td><td>&quot;2:50&quot;</td><td>8</td><td>31</td><td>0.88</td><td>0.62</td><td>0.822</td></tr><tr><td>26</td><td>&quot;Joseph Smith&#x27;s First Prayer&quot;</td><td>&quot;3:37&quot;</td><td>8</td><td>41</td><td>0.88</td><td>0.82</td><td>0.822</td></tr><tr><td>137</td><td>&quot;Testimony&quot;</td><td>&quot;2:13&quot;</td><td>8</td><td>29</td><td>0.88</td><td>0.58</td><td>0.82</td></tr><tr><td>294</td><td>&quot;Love at Home&quot;</td><td>&quot;3:39&quot;</td><td>9</td><td>28</td><td>0.98</td><td>0.56</td><td>0.814</td></tr><tr><td>141</td><td>&quot;Jesus, the Very Thought of Thee&quot;</td><td>&quot;2:30&quot;</td><td>8</td><td>9</td><td>0.88</td><td>0.18</td><td>0.81</td></tr><tr><td>116</td><td>&quot;Come, Follow Me&quot;</td><td>&quot;2:48&quot;</td><td>10</td><td>18</td><td>1.0</td><td>0.36</td><td>0.808</td></tr><tr><td>219</td><td>&quot;Because I Have Been Given Much&quot;</td><td>null</td><td>10</td><td>21</td><td>1.0</td><td>0.42</td><td>0.806</td></tr><tr><td>14</td><td>&quot;Sweet Is the Peace the Gospel Brings&quot;</td><td>&quot;1:42&quot;</td><td>6</td><td>100</td><td>0.12</td><td>2.0</td><td>0.804</td></tr><tr><td>108</td><td>&quot;The Lord Is My Shepherd&quot;</td><td>&quot;3:12&quot;</td><td>6</td><td>100</td><td>0.12</td><td>2.0</td><td>0.804</td></tr><tr><td>134</td><td>&quot;I Believe in Christ&quot;</td><td>&quot;5:00&quot;</td><td>10</td><td>29</td><td>1.0</td><td>0.58</td><td>0.804</td></tr><tr><td>129</td><td>&quot;Where Can I Turn for Peace?&quot;</td><td>&quot;2:59&quot;</td><td>8</td><td>32</td><td>0.88</td><td>0.64</td><td>0.798</td></tr><tr><td>263</td><td>&quot;Go Forth with Faith&quot;</td><td>&quot;2:29&quot;</td><td>8</td><td>30</td><td>0.88</td><td>0.6</td><td>0.786</td></tr><tr><td>86</td><td>&quot;How Great Thou Art&quot;</td><td>null</td><td>8</td><td>38</td><td>0.88</td><td>0.76</td><td>0.784</td></tr><tr><td>258</td><td>&quot;O Thou Rock of Our Salvation&quot;</td><td>&quot;3:16&quot;</td><td>6</td><td>100</td><td>0.12</td><td>2.0</td><td>0.784</td></tr></tbody></table></div>"
      ],
      "text/plain": [
       "shape: (30, 8)\n",
       "┌─────┬───────────────┬────────┬───────────────┬─────────────┬──────────────┬──────────────┬───────┐\n",
       "│ id  ┆ name          ┆ length ┆ adj_popularit ┆ weeks_since ┆ popularity_s ┆ weeks_since_ ┆ score │\n",
       "│ --- ┆ ---           ┆ ---    ┆ y             ┆ ---         ┆ core         ┆ score        ┆ ---   │\n",
       "│ i64 ┆ str           ┆ str    ┆ ---           ┆ i64         ┆ ---          ┆ ---          ┆ f64   │\n",
       "│     ┆               ┆        ┆ i64           ┆             ┆ f64          ┆ f64          ┆       │\n",
       "╞═════╪═══════════════╪════════╪═══════════════╪═════════════╪══════════════╪══════════════╪═══════╡\n",
       "│ 21  ┆ Come, Listen  ┆ 3:13   ┆ 7             ┆ 100         ┆ 0.5          ┆ 2.0          ┆ 1.08  │\n",
       "│     ┆ to a          ┆        ┆               ┆             ┆              ┆              ┆       │\n",
       "│     ┆ Prophet's     ┆        ┆               ┆             ┆              ┆              ┆       │\n",
       "│     ┆ Voice         ┆        ┆               ┆             ┆              ┆              ┆       │\n",
       "│ 157 ┆ Thy Spirit,   ┆ 1:39   ┆ 7             ┆ 100         ┆ 0.5          ┆ 2.0          ┆ 1.03  │\n",
       "│     ┆ Lord, Has     ┆        ┆               ┆             ┆              ┆              ┆       │\n",
       "│     ┆ Stirred Our   ┆        ┆               ┆             ┆              ┆              ┆       │\n",
       "│     ┆ Souls         ┆        ┆               ┆             ┆              ┆              ┆       │\n",
       "│ 3   ┆ Now Let Us    ┆ 3:29   ┆ 10            ┆ 23          ┆ 1.0          ┆ 0.46         ┆ 0.978 │\n",
       "│     ┆ Rejoice       ┆        ┆               ┆             ┆              ┆              ┆       │\n",
       "│ 89  ┆ The Lord Is   ┆ 3:39   ┆ 10            ┆ 31          ┆ 1.0          ┆ 0.62         ┆ 0.966 │\n",
       "│     ┆ My Light      ┆        ┆               ┆             ┆              ┆              ┆       │\n",
       "│ 142 ┆ Sweet Hour of ┆ 2:58   ┆ 8             ┆ 37          ┆ 0.88         ┆ 0.74         ┆ 0.938 │\n",
       "│     ┆ Prayer        ┆        ┆               ┆             ┆              ┆              ┆       │\n",
       "│ 277 ┆ As I Search   ┆ 2:16   ┆ 8             ┆ 30          ┆ 0.88         ┆ 0.6          ┆ 0.926 │\n",
       "│     ┆ the Holy      ┆        ┆               ┆             ┆              ┆              ┆       │\n",
       "│     ┆ Scriptures    ┆        ┆               ┆             ┆              ┆              ┆       │\n",
       "│ 308 ┆ Love One      ┆ 1:22   ┆ 8             ┆ 32          ┆ 0.88         ┆ 0.64         ┆ 0.918 │\n",
       "│     ┆ Another       ┆        ┆               ┆             ┆              ┆              ┆       │\n",
       "│ 131 ┆ More Holiness ┆ 2:49   ┆ 9             ┆ 22          ┆ 0.98         ┆ 0.44         ┆ 0.908 │\n",
       "│     ┆ Give Me       ┆        ┆               ┆             ┆              ┆              ┆       │\n",
       "│ 97  ┆ Lead, Kindly  ┆ 3:12   ┆ 9             ┆ 26          ┆ 0.98         ┆ 0.52         ┆ 0.902 │\n",
       "│     ┆ Light         ┆        ┆               ┆             ┆              ┆              ┆       │\n",
       "│ 243 ┆ Let Us All    ┆ 2:22   ┆ 9             ┆ 23          ┆ 0.98         ┆ 0.46         ┆ 0.864 │\n",
       "│     ┆ Press On      ┆        ┆               ┆             ┆              ┆              ┆       │\n",
       "│ 298 ┆ Home Can Be a ┆ 2:38   ┆ 9             ┆ 18          ┆ 0.98         ┆ 0.36         ┆ 0.854 │\n",
       "│     ┆ Heaven on     ┆        ┆               ┆             ┆              ┆              ┆       │\n",
       "│     ┆ Earth         ┆        ┆               ┆             ┆              ┆              ┆       │\n",
       "│ 152 ┆ God Be with   ┆ 3:15   ┆ 8             ┆ 21          ┆ 0.88         ┆ 0.42         ┆ 0.852 │\n",
       "│     ┆ You Till We   ┆        ┆               ┆             ┆              ┆              ┆       │\n",
       "│     ┆ Meet Again    ┆        ┆               ┆             ┆              ┆              ┆       │\n",
       "│ 274 ┆ The Iron Rod  ┆ 2:36   ┆ 9             ┆ 20          ┆ 0.98         ┆ 0.4          ┆ 0.846 │\n",
       "│ 117 ┆ Come unto     ┆ 3:37   ┆ 8             ┆ 35          ┆ 0.88         ┆ 0.7          ┆ 0.836 │\n",
       "│     ┆ Jesus         ┆        ┆               ┆             ┆              ┆              ┆       │\n",
       "│ 252 ┆ Put Your      ┆ 3:07   ┆ 9             ┆ 27          ┆ 0.98         ┆ 0.54         ┆ 0.828 │\n",
       "│     ┆ Shoulder to   ┆        ┆               ┆             ┆              ┆              ┆       │\n",
       "│     ┆ the Wheel     ┆        ┆               ┆             ┆              ┆              ┆       │\n",
       "│ 10  ┆ Come, Sing to ┆ 2:18   ┆ 6             ┆ 100         ┆ 0.12         ┆ 2.0          ┆ 0.824 │\n",
       "│     ┆ the Lord      ┆        ┆               ┆             ┆              ┆              ┆       │\n",
       "│ 96  ┆ Dearest       ┆ 2:50   ┆ 8             ┆ 31          ┆ 0.88         ┆ 0.62         ┆ 0.822 │\n",
       "│     ┆ Children, God ┆        ┆               ┆             ┆              ┆              ┆       │\n",
       "│     ┆ Is Near You   ┆        ┆               ┆             ┆              ┆              ┆       │\n",
       "│ 26  ┆ Joseph        ┆ 3:37   ┆ 8             ┆ 41          ┆ 0.88         ┆ 0.82         ┆ 0.822 │\n",
       "│     ┆ Smith's First ┆        ┆               ┆             ┆              ┆              ┆       │\n",
       "│     ┆ Prayer        ┆        ┆               ┆             ┆              ┆              ┆       │\n",
       "│ 137 ┆ Testimony     ┆ 2:13   ┆ 8             ┆ 29          ┆ 0.88         ┆ 0.58         ┆ 0.82  │\n",
       "│ 294 ┆ Love at Home  ┆ 3:39   ┆ 9             ┆ 28          ┆ 0.98         ┆ 0.56         ┆ 0.814 │\n",
       "│ 141 ┆ Jesus, the    ┆ 2:30   ┆ 8             ┆ 9           ┆ 0.88         ┆ 0.18         ┆ 0.81  │\n",
       "│     ┆ Very Thought  ┆        ┆               ┆             ┆              ┆              ┆       │\n",
       "│     ┆ of Thee       ┆        ┆               ┆             ┆              ┆              ┆       │\n",
       "│ 116 ┆ Come, Follow  ┆ 2:48   ┆ 10            ┆ 18          ┆ 1.0          ┆ 0.36         ┆ 0.808 │\n",
       "│     ┆ Me            ┆        ┆               ┆             ┆              ┆              ┆       │\n",
       "│ 219 ┆ Because I     ┆ null   ┆ 10            ┆ 21          ┆ 1.0          ┆ 0.42         ┆ 0.806 │\n",
       "│     ┆ Have Been     ┆        ┆               ┆             ┆              ┆              ┆       │\n",
       "│     ┆ Given Much    ┆        ┆               ┆             ┆              ┆              ┆       │\n",
       "│ 14  ┆ Sweet Is the  ┆ 1:42   ┆ 6             ┆ 100         ┆ 0.12         ┆ 2.0          ┆ 0.804 │\n",
       "│     ┆ Peace the     ┆        ┆               ┆             ┆              ┆              ┆       │\n",
       "│     ┆ Gospel Brings ┆        ┆               ┆             ┆              ┆              ┆       │\n",
       "│ 108 ┆ The Lord Is   ┆ 3:12   ┆ 6             ┆ 100         ┆ 0.12         ┆ 2.0          ┆ 0.804 │\n",
       "│     ┆ My Shepherd   ┆        ┆               ┆             ┆              ┆              ┆       │\n",
       "│ 134 ┆ I Believe in  ┆ 5:00   ┆ 10            ┆ 29          ┆ 1.0          ┆ 0.58         ┆ 0.804 │\n",
       "│     ┆ Christ        ┆        ┆               ┆             ┆              ┆              ┆       │\n",
       "│ 129 ┆ Where Can I   ┆ 2:59   ┆ 8             ┆ 32          ┆ 0.88         ┆ 0.64         ┆ 0.798 │\n",
       "│     ┆ Turn for      ┆        ┆               ┆             ┆              ┆              ┆       │\n",
       "│     ┆ Peace?        ┆        ┆               ┆             ┆              ┆              ┆       │\n",
       "│ 263 ┆ Go Forth with ┆ 2:29   ┆ 8             ┆ 30          ┆ 0.88         ┆ 0.6          ┆ 0.786 │\n",
       "│     ┆ Faith         ┆        ┆               ┆             ┆              ┆              ┆       │\n",
       "│ 86  ┆ How Great     ┆ null   ┆ 8             ┆ 38          ┆ 0.88         ┆ 0.76         ┆ 0.784 │\n",
       "│     ┆ Thou Art      ┆        ┆               ┆             ┆              ┆              ┆       │\n",
       "│ 258 ┆ O Thou Rock   ┆ 3:16   ┆ 6             ┆ 100         ┆ 0.12         ┆ 2.0          ┆ 0.784 │\n",
       "│     ┆ of Our        ┆        ┆               ┆             ┆              ┆              ┆       │\n",
       "│     ┆ Salvation     ┆        ┆               ┆             ┆              ┆              ┆       │\n",
       "└─────┴───────────────┴────────┴───────────────┴─────────────┴──────────────┴──────────────┴───────┘"
      ]
     },
     "metadata": {},
     "output_type": "display_data"
    }
   ],
   "source": [
    "general_ranking = get_ranking_score(df, 'is_general', noise=0.15, popularity_weight=0.7)\n",
    "display(general_ranking.head(30))"
   ]
  },
  {
   "attachments": {},
   "cell_type": "markdown",
   "id": "477fa8b3",
   "metadata": {},
   "source": [
    "# Add to History"
   ]
  },
  {
   "cell_type": "code",
   "execution_count": 6,
   "id": "930c85b9",
   "metadata": {},
   "outputs": [
    {
     "ename": "KeyboardInterrupt",
     "evalue": "This is here to stop you from running the whole notebook.",
     "output_type": "error",
     "traceback": [
      "\u001b[0;31m---------------------------------------------------------------------------\u001b[0m",
      "\u001b[0;31mKeyboardInterrupt\u001b[0m                         Traceback (most recent call last)",
      "Cell \u001b[0;32mIn[6], line 1\u001b[0m\n\u001b[0;32m----> 1\u001b[0m \u001b[38;5;28;01mraise\u001b[39;00m \u001b[38;5;167;01mKeyboardInterrupt\u001b[39;00m(\u001b[38;5;124m\"\u001b[39m\u001b[38;5;124mThis is here to stop you from running the whole notebook.\u001b[39m\u001b[38;5;124m\"\u001b[39m)\n",
      "\u001b[0;31mKeyboardInterrupt\u001b[0m: This is here to stop you from running the whole notebook."
     ]
    }
   ],
   "source": [
    "raise KeyboardInterrupt(\"This is here to stop you from running the whole notebook.\")"
   ]
  },
  {
   "cell_type": "code",
   "execution_count": null,
   "id": "175a466e",
   "metadata": {},
   "outputs": [],
   "source": [
    "def name_from_id(id):\n",
    "    name_row = df.filter(pl.col(\"id\") == id).select(\"name\")\n",
    "    if len(name_row) != 1:\n",
    "        raise ValueError(f\"Expected 1 row, got {len(name_row)}\")\n",
    "    return name_row[\"name\"].item()\n",
    "\n",
    "\n",
    "def format_for_csv(date, opening, sacrament, intermediate, closing):\n",
    "    str_list = []\n",
    "    if opening:\n",
    "        str_list.append(\n",
    "            f\"{date.strftime('%m/%d/%Y')},opening,{opening},\\\"{name_from_id(opening)}\\\"\"\n",
    "        )\n",
    "    if sacrament:\n",
    "        str_list.append(\n",
    "            f\"{date.strftime('%m/%d/%Y')},sacrament,{sacrament},\\\"{name_from_id(sacrament)}\\\"\"\n",
    "        )\n",
    "    if intermediate:\n",
    "        str_list.append(\n",
    "            f\"{date.strftime('%m/%d/%Y')},intermediate,{intermediate},\\\"{name_from_id(intermediate)}\\\"\"\n",
    "        )\n",
    "    if closing:\n",
    "        str_list.append(\n",
    "            f\"{date.strftime('%m/%d/%Y')},closing,{closing},\\\"{name_from_id(closing)}\\\"\"\n",
    "        )\n",
    "    csv_str = \"\\n\".join(str_list)\n",
    "    return csv_str"
   ]
  },
  {
   "cell_type": "code",
   "execution_count": null,
   "id": "7238d2cf",
   "metadata": {},
   "outputs": [],
   "source": [
    "date = dt.date(2024, 1, 28)\n",
    "opening = 30\n",
    "sacrament = 174\n",
    "intermediate = 249\n",
    "closing = 98"
   ]
  },
  {
   "cell_type": "code",
   "execution_count": null,
   "id": "1f8248b3",
   "metadata": {},
   "outputs": [
    {
     "name": "stdout",
     "output_type": "stream",
     "text": [
      "Does this look right?\n",
      "01/28/2024,opening,30,\"Come, Come, Ye Saints\"\n",
      "01/28/2024,sacrament,174,\"While of These Emblems We Partake (AEOLIAN)\"\n",
      "01/28/2024,intermediate,249,\"Called to Serve\"\n",
      "01/28/2024,closing,98,\"I Need Thee Every Hour\"\n"
     ]
    }
   ],
   "source": [
    "csv_str = format_for_csv(date, opening, sacrament, intermediate, closing)\n",
    "print(\"Does this look right?\")\n",
    "print(csv_str)"
   ]
  },
  {
   "cell_type": "code",
   "execution_count": null,
   "id": "1bc805b4",
   "metadata": {},
   "outputs": [],
   "source": [
    "# Append to history csv\n",
    "with open('history.csv', 'a') as f:\n",
    "    f.write(csv_str)\n",
    "    f.write(\"\\n\")"
   ]
  },
  {
   "cell_type": "code",
   "execution_count": null,
   "id": "5f5843b8",
   "metadata": {},
   "outputs": [],
   "source": []
  }
 ],
 "metadata": {
  "kernelspec": {
   "display_name": "Python 3",
   "language": "python",
   "name": "python3"
  },
  "language_info": {
   "codemirror_mode": {
    "name": "ipython",
    "version": 3
   },
   "file_extension": ".py",
   "mimetype": "text/x-python",
   "name": "python",
   "nbconvert_exporter": "python",
   "pygments_lexer": "ipython3",
   "version": "3.12.1"
  }
 },
 "nbformat": 4,
 "nbformat_minor": 5
}
