{
 "cells": [
  {
   "attachments": {},
   "cell_type": "markdown",
   "id": "fe153eff-ff7a-4ef4-9869-42c66368dd10",
   "metadata": {},
   "source": [
    "## TODO\n",
    " - Make a list of important dates (holidays, fast sundays, stake conferences)\n",
    " - Add a check for all future-scheduled dates that they don't have any hymns that were sung recently. This would happen if a hymn got changed after the schedule was made."
   ]
  },
  {
   "attachments": {},
   "cell_type": "markdown",
   "id": "5a0e8093",
   "metadata": {},
   "source": [
    "# Steps to use:\n",
    " 1. Make sure the history is accurate for the past few weeks\n",
    " 2. Check if there are any holidays, fast sundays, or special meetings coming up\n",
    " 3. Run most of the notebook to generate suggestions\n",
    " 4. Select hymns, enter on Edify\n",
    " 5. Add selected hymns to history\n",
    " 6. Add hymns to Gospel Library\n",
    " 7. Update ward program, if needed, using Gospel Library as reference\n"
   ]
  },
  {
   "cell_type": "code",
   "execution_count": 1,
   "id": "b3502914-dbad-43f8-a504-99b09d89e2f2",
   "metadata": {},
   "outputs": [
    {
     "data": {
      "text/plain": [
       "polars.config.Config"
      ]
     },
     "execution_count": 1,
     "metadata": {},
     "output_type": "execute_result"
    }
   ],
   "source": [
    "import datetime as dt\n",
    "\n",
    "import numpy as np\n",
    "import polars as pl\n",
    "\n",
    "pl.Config().set_tbl_rows(30)\n",
    "pl.Config().set_fmt_str_lengths(50)"
   ]
  },
  {
   "cell_type": "code",
   "execution_count": 2,
   "id": "b0f87709",
   "metadata": {},
   "outputs": [],
   "source": [
    "def load_history() -> pl.DataFrame:\n",
    "    history_df = pl.read_csv('history.csv', infer_schema_length=None)\n",
    "    history_df = history_df.with_columns(\n",
    "        pl.col(\"date\").str.strptime(pl.Date, \"%m/%d/%Y\").alias(\"date\"),\n",
    "    ).drop('name').drop_nulls()\n",
    "    return history_df\n",
    "\n",
    "def error_check_history() -> None:\n",
    "    \"\"\"Check that no future dates are duplicates with any dates since 8 weeks ago.\"\"\"\n",
    "    history_df = load_history()\n",
    "    num_weeks_cutoff = 8\n",
    "    today = dt.datetime.today().date()\n",
    "    lookback_date = today - dt.timedelta(days=7 * num_weeks_cutoff)\n",
    "    recent_and_future_history = history_df.filter(pl.col(\"date\") >= lookback_date)\n",
    "    value_counts = recent_and_future_history[\"id\"].value_counts()\n",
    "    recent_and_future_history = recent_and_future_history.join(\n",
    "        value_counts, on=\"id\", how=\"left\"\n",
    "    ).rename({\"count\": \"recent_count\"})\n",
    "\n",
    "    future_history = recent_and_future_history.filter(pl.col(\"date\") >= today)\n",
    "    duplicates = future_history.filter(pl.col(\"recent_count\") > 1)\n",
    "    if len(duplicates) > 0:\n",
    "        display(duplicates)\n",
    "        print(\">>> WARNING! DUPLICATES FOUND! <<<\\n\")\n",
    "        raise RuntimeWarning(\">>> WARNING! DUPLICATES FOUND! <<<\")\n",
    "\n",
    "def add_last_sung_col(df):\n",
    "    history_df = load_history()\n",
    "    last_sung = history_df.group_by('id').agg(pl.max('date').alias('last_sung'))\n",
    "    df = df.join(last_sung, on='id', how='left')\n",
    "    return df\n",
    "\n",
    "\n",
    "def get_ranking_score(df: pl.DataFrame, type_col: str, popularity_weight=0.5, noise=0.0) -> pl.Series:\n",
    "    score_df = df.filter((pl.col(type_col) == 1) & (pl.col('flagged').fill_null(0) != 1))\n",
    "    weeks_since_fill_value = 100\n",
    "    # Add days since last sung column\n",
    "    score_df = score_df.with_columns(\n",
    "        ((pl.lit(dt.datetime.today()) - pl.col('last_sung')).dt.total_days()//7)\n",
    "        .fill_null(weeks_since_fill_value)\n",
    "        .alias('weeks_since')\n",
    "    )\n",
    "\n",
    "    midpoint = 7\n",
    "    slope = 2\n",
    "\n",
    "    def popularity_func(x): return np.round(\n",
    "        1 / (1 + np.exp(-slope * (x - midpoint))), 2)\n",
    "    weeks_cutoff = 8\n",
    "    score_df = score_df.with_columns((pl.col('popularity') + pl.col('popularity_adjustment').fill_null(0)).alias('adj_popularity'))\n",
    "    score_df = score_df.with_columns(\n",
    "        pl.col('adj_popularity').map_elements(popularity_func).alias('popularity_score'),\n",
    "        pl.when(pl.col('weeks_since') > weeks_cutoff)\n",
    "        .then((pl.col('weeks_since') / (weeks_since_fill_value/2)).round(3))\n",
    "        .otherwise(-100).alias('weeks_since_score'),\n",
    "        pl.Series(np.round(np.random.uniform(-noise, noise,\n",
    "                  len(score_df)), 2)).alias('noise'),\n",
    "    ).with_columns(\n",
    "        (pl.col('popularity_score') * popularity_weight + pl.col('weeks_since_score')\n",
    "         * (1 - popularity_weight)).alias('score') + pl.col('noise')\n",
    "    )\n",
    "\n",
    "    score_df = score_df.select([\n",
    "        'id', 'name', 'length', 'adj_popularity', 'weeks_since', 'popularity_score', 'weeks_since_score', 'score'\n",
    "    ]).sort('score', descending=True)\n",
    "\n",
    "    return score_df"
   ]
  },
  {
   "cell_type": "code",
   "execution_count": 3,
   "id": "e60d50c3",
   "metadata": {},
   "outputs": [
    {
     "data": {
      "text/html": [
       "<div><style>\n",
       ".dataframe > thead > tr,\n",
       ".dataframe > tbody > tr {\n",
       "  text-align: right;\n",
       "  white-space: pre-wrap;\n",
       "}\n",
       "</style>\n",
       "<small>shape: (1, 4)</small><table border=\"1\" class=\"dataframe\"><thead><tr><th>date</th><th>slot</th><th>id</th><th>recent_count</th></tr><tr><td>date</td><td>str</td><td>i64</td><td>u32</td></tr></thead><tbody><tr><td>2024-06-02</td><td>&quot;opening&quot;</td><td>6</td><td>2</td></tr></tbody></table></div>"
      ],
      "text/plain": [
       "shape: (1, 4)\n",
       "┌────────────┬─────────┬─────┬──────────────┐\n",
       "│ date       ┆ slot    ┆ id  ┆ recent_count │\n",
       "│ ---        ┆ ---     ┆ --- ┆ ---          │\n",
       "│ date       ┆ str     ┆ i64 ┆ u32          │\n",
       "╞════════════╪═════════╪═════╪══════════════╡\n",
       "│ 2024-06-02 ┆ opening ┆ 6   ┆ 2            │\n",
       "└────────────┴─────────┴─────┴──────────────┘"
      ]
     },
     "metadata": {},
     "output_type": "display_data"
    },
    {
     "name": "stdout",
     "output_type": "stream",
     "text": [
      ">>> WARNING! DUPLICATES FOUND! <<<\n",
      "\n"
     ]
    },
    {
     "ename": "RuntimeWarning",
     "evalue": "",
     "output_type": "error",
     "traceback": [
      "\u001b[0;31m---------------------------------------------------------------------------\u001b[0m",
      "\u001b[0;31mRuntimeWarning\u001b[0m                            Traceback (most recent call last)",
      "Cell \u001b[0;32mIn[3], line 1\u001b[0m\n\u001b[0;32m----> 1\u001b[0m \u001b[43merror_check_history\u001b[49m\u001b[43m(\u001b[49m\u001b[43m)\u001b[49m\n",
      "Cell \u001b[0;32mIn[2], line 25\u001b[0m, in \u001b[0;36merror_check_history\u001b[0;34m()\u001b[0m\n\u001b[1;32m     23\u001b[0m display(duplicates)\n\u001b[1;32m     24\u001b[0m \u001b[38;5;28mprint\u001b[39m(\u001b[38;5;124m\"\u001b[39m\u001b[38;5;124m>>> WARNING! DUPLICATES FOUND! <<<\u001b[39m\u001b[38;5;130;01m\\n\u001b[39;00m\u001b[38;5;124m\"\u001b[39m)\n\u001b[0;32m---> 25\u001b[0m \u001b[38;5;28;01mraise\u001b[39;00m \u001b[38;5;167;01mRuntimeWarning\u001b[39;00m()\n",
      "\u001b[0;31mRuntimeWarning\u001b[0m: "
     ]
    }
   ],
   "source": [
    "error_check_history()"
   ]
  },
  {
   "cell_type": "code",
   "execution_count": 5,
   "id": "fff3afb1",
   "metadata": {},
   "outputs": [],
   "source": [
    "df = pl.read_csv(\"hymns.csv\")\n",
    "df = add_last_sung_col(df)"
   ]
  },
  {
   "attachments": {},
   "cell_type": "markdown",
   "id": "65fc7e07",
   "metadata": {},
   "source": [
    "## Sacrament Hymn"
   ]
  },
  {
   "cell_type": "code",
   "execution_count": 6,
   "id": "092bf52d",
   "metadata": {},
   "outputs": [
    {
     "data": {
      "text/html": [
       "<div><style>\n",
       ".dataframe > thead > tr,\n",
       ".dataframe > tbody > tr {\n",
       "  text-align: right;\n",
       "  white-space: pre-wrap;\n",
       "}\n",
       "</style>\n",
       "<small>shape: (10, 8)</small><table border=\"1\" class=\"dataframe\"><thead><tr><th>id</th><th>name</th><th>length</th><th>adj_popularity</th><th>weeks_since</th><th>popularity_score</th><th>weeks_since_score</th><th>score</th></tr><tr><td>i64</td><td>str</td><td>str</td><td>i64</td><td>i64</td><td>f64</td><td>f64</td><td>f64</td></tr></thead><tbody><tr><td>1008</td><td>&quot;Bread of Life, Living Water&quot;</td><td>&quot;3:10&quot;</td><td>11</td><td>100</td><td>1.0</td><td>2.0</td><td>1.44</td></tr><tr><td>1007</td><td>&quot;As Bread Is Broken&quot;</td><td>&quot;2:06&quot;</td><td>13</td><td>100</td><td>1.0</td><td>2.0</td><td>1.4</td></tr><tr><td>185</td><td>&quot;Reverently and Meekly Now&quot;</td><td>&quot;5:06&quot;</td><td>8</td><td>42</td><td>0.88</td><td>0.84</td><td>0.95</td></tr><tr><td>169</td><td>&quot;As Now We Take the Sacrament&quot;</td><td>&quot;3:01&quot;</td><td>10</td><td>30</td><td>1.0</td><td>0.6</td><td>0.9</td></tr><tr><td>181</td><td>&quot;Jesus of Nazareth, Savior and King&quot;</td><td>&quot;2:52&quot;</td><td>10</td><td>25</td><td>1.0</td><td>0.5</td><td>0.82</td></tr><tr><td>192</td><td>&quot;He Died! The Great Redeemer Died&quot;</td><td>&quot;3:05&quot;</td><td>10</td><td>20</td><td>1.0</td><td>0.4</td><td>0.77</td></tr><tr><td>187</td><td>&quot;God Loved Us, So He Sent His Son&quot;</td><td>&quot;1:46&quot;</td><td>10</td><td>19</td><td>1.0</td><td>0.38</td><td>0.75</td></tr><tr><td>197</td><td>&quot;O Savior, Thou Who Wearest a Crown&quot;</td><td>&quot;4:16&quot;</td><td>6</td><td>67</td><td>0.12</td><td>1.34</td><td>0.75</td></tr><tr><td>183</td><td>&quot;In Rememberance of Thy Suffering&quot;</td><td>&quot;3:25&quot;</td><td>10</td><td>15</td><td>1.0</td><td>0.3</td><td>0.74</td></tr><tr><td>195</td><td>&quot;How Great the Wisdom and the Love&quot;</td><td>&quot;3:57&quot;</td><td>10</td><td>23</td><td>1.0</td><td>0.46</td><td>0.74</td></tr></tbody></table></div>"
      ],
      "text/plain": [
       "shape: (10, 8)\n",
       "┌──────┬───────────────┬────────┬──────────────┬─────────────┬──────────────┬──────────────┬───────┐\n",
       "│ id   ┆ name          ┆ length ┆ adj_populari ┆ weeks_since ┆ popularity_s ┆ weeks_since_ ┆ score │\n",
       "│ ---  ┆ ---           ┆ ---    ┆ ty           ┆ ---         ┆ core         ┆ score        ┆ ---   │\n",
       "│ i64  ┆ str           ┆ str    ┆ ---          ┆ i64         ┆ ---          ┆ ---          ┆ f64   │\n",
       "│      ┆               ┆        ┆ i64          ┆             ┆ f64          ┆ f64          ┆       │\n",
       "╞══════╪═══════════════╪════════╪══════════════╪═════════════╪══════════════╪══════════════╪═══════╡\n",
       "│ 1008 ┆ Bread of      ┆ 3:10   ┆ 11           ┆ 100         ┆ 1.0          ┆ 2.0          ┆ 1.44  │\n",
       "│      ┆ Life, Living  ┆        ┆              ┆             ┆              ┆              ┆       │\n",
       "│      ┆ Water         ┆        ┆              ┆             ┆              ┆              ┆       │\n",
       "│ 1007 ┆ As Bread Is   ┆ 2:06   ┆ 13           ┆ 100         ┆ 1.0          ┆ 2.0          ┆ 1.4   │\n",
       "│      ┆ Broken        ┆        ┆              ┆             ┆              ┆              ┆       │\n",
       "│ 185  ┆ Reverently    ┆ 5:06   ┆ 8            ┆ 42          ┆ 0.88         ┆ 0.84         ┆ 0.95  │\n",
       "│      ┆ and Meekly    ┆        ┆              ┆             ┆              ┆              ┆       │\n",
       "│      ┆ Now           ┆        ┆              ┆             ┆              ┆              ┆       │\n",
       "│ 169  ┆ As Now We     ┆ 3:01   ┆ 10           ┆ 30          ┆ 1.0          ┆ 0.6          ┆ 0.9   │\n",
       "│      ┆ Take the      ┆        ┆              ┆             ┆              ┆              ┆       │\n",
       "│      ┆ Sacrament     ┆        ┆              ┆             ┆              ┆              ┆       │\n",
       "│ 181  ┆ Jesus of      ┆ 2:52   ┆ 10           ┆ 25          ┆ 1.0          ┆ 0.5          ┆ 0.82  │\n",
       "│      ┆ Nazareth,     ┆        ┆              ┆             ┆              ┆              ┆       │\n",
       "│      ┆ Savior and    ┆        ┆              ┆             ┆              ┆              ┆       │\n",
       "│      ┆ King          ┆        ┆              ┆             ┆              ┆              ┆       │\n",
       "│ 192  ┆ He Died! The  ┆ 3:05   ┆ 10           ┆ 20          ┆ 1.0          ┆ 0.4          ┆ 0.77  │\n",
       "│      ┆ Great         ┆        ┆              ┆             ┆              ┆              ┆       │\n",
       "│      ┆ Redeemer Died ┆        ┆              ┆             ┆              ┆              ┆       │\n",
       "│ 187  ┆ God Loved Us, ┆ 1:46   ┆ 10           ┆ 19          ┆ 1.0          ┆ 0.38         ┆ 0.75  │\n",
       "│      ┆ So He Sent    ┆        ┆              ┆             ┆              ┆              ┆       │\n",
       "│      ┆ His Son       ┆        ┆              ┆             ┆              ┆              ┆       │\n",
       "│ 197  ┆ O Savior,     ┆ 4:16   ┆ 6            ┆ 67          ┆ 0.12         ┆ 1.34         ┆ 0.75  │\n",
       "│      ┆ Thou Who      ┆        ┆              ┆             ┆              ┆              ┆       │\n",
       "│      ┆ Wearest a     ┆        ┆              ┆             ┆              ┆              ┆       │\n",
       "│      ┆ Crown         ┆        ┆              ┆             ┆              ┆              ┆       │\n",
       "│ 183  ┆ In            ┆ 3:25   ┆ 10           ┆ 15          ┆ 1.0          ┆ 0.3          ┆ 0.74  │\n",
       "│      ┆ Rememberance  ┆        ┆              ┆             ┆              ┆              ┆       │\n",
       "│      ┆ of Thy        ┆        ┆              ┆             ┆              ┆              ┆       │\n",
       "│      ┆ Suffering     ┆        ┆              ┆             ┆              ┆              ┆       │\n",
       "│ 195  ┆ How Great the ┆ 3:57   ┆ 10           ┆ 23          ┆ 1.0          ┆ 0.46         ┆ 0.74  │\n",
       "│      ┆ Wisdom and    ┆        ┆              ┆             ┆              ┆              ┆       │\n",
       "│      ┆ the Love      ┆        ┆              ┆             ┆              ┆              ┆       │\n",
       "└──────┴───────────────┴────────┴──────────────┴─────────────┴──────────────┴──────────────┴───────┘"
      ]
     },
     "metadata": {},
     "output_type": "display_data"
    }
   ],
   "source": [
    "sacrament_ranking = get_ranking_score(df, 'is_sacrament', noise=0.1)\n",
    "display(sacrament_ranking.head(10))"
   ]
  },
  {
   "attachments": {},
   "cell_type": "markdown",
   "id": "0f84e2cb",
   "metadata": {},
   "source": [
    "## General Hymns"
   ]
  },
  {
   "cell_type": "code",
   "execution_count": 11,
   "id": "eb1890f3",
   "metadata": {},
   "outputs": [
    {
     "data": {
      "text/html": [
       "<div><style>\n",
       ".dataframe > thead > tr,\n",
       ".dataframe > tbody > tr {\n",
       "  text-align: right;\n",
       "  white-space: pre-wrap;\n",
       "}\n",
       "</style>\n",
       "<small>shape: (30, 8)</small><table border=\"1\" class=\"dataframe\"><thead><tr><th>id</th><th>name</th><th>length</th><th>adj_popularity</th><th>weeks_since</th><th>popularity_score</th><th>weeks_since_score</th><th>score</th></tr><tr><td>i64</td><td>str</td><td>str</td><td>i64</td><td>i64</td><td>f64</td><td>f64</td><td>f64</td></tr></thead><tbody><tr><td>1001</td><td>&quot;Come, Thou Fount of Every Blessing&quot;</td><td>&quot;2:32&quot;</td><td>13</td><td>100</td><td>1.0</td><td>2.0</td><td>1.16</td></tr><tr><td>1003</td><td>&quot;It Is Well With My Soul&quot;</td><td>&quot;3:21&quot;</td><td>12</td><td>100</td><td>1.0</td><td>2.0</td><td>1.16</td></tr><tr><td>134</td><td>&quot;I Believe in Christ&quot;</td><td>&quot;5:00&quot;</td><td>8</td><td>47</td><td>0.88</td><td>0.94</td><td>0.928</td></tr><tr><td>237</td><td>&quot;Do What Is Right&quot;</td><td>&quot;3:03&quot;</td><td>8</td><td>31</td><td>0.88</td><td>0.62</td><td>0.922</td></tr><tr><td>98</td><td>&quot;I Need Thee Every Hour&quot;</td><td>&quot;4:07&quot;</td><td>9</td><td>18</td><td>0.98</td><td>0.36</td><td>0.904</td></tr><tr><td>66</td><td>&quot;Rejoice, the Lord Is King!&quot;</td><td>&quot;2:19&quot;</td><td>9</td><td>17</td><td>0.98</td><td>0.34</td><td>0.898</td></tr><tr><td>277</td><td>&quot;As I Search the Holy Scriptures&quot;</td><td>&quot;2:16&quot;</td><td>8</td><td>48</td><td>0.88</td><td>0.96</td><td>0.894</td></tr><tr><td>220</td><td>&quot;Lord, I Would Follow Thee&quot;</td><td>&quot;3:01&quot;</td><td>10</td><td>21</td><td>1.0</td><td>0.42</td><td>0.876</td></tr><tr><td>130</td><td>&quot;Be Thou Humble&quot;</td><td>&quot;1:56&quot;</td><td>7</td><td>70</td><td>0.5</td><td>1.4</td><td>0.87</td></tr><tr><td>89</td><td>&quot;The Lord Is My Light&quot;</td><td>&quot;3:39&quot;</td><td>10</td><td>12</td><td>1.0</td><td>0.24</td><td>0.852</td></tr><tr><td>136</td><td>&quot;I Know That My Redeemer Lives&quot;</td><td>&quot;4:19&quot;</td><td>10</td><td>9</td><td>1.0</td><td>0.18</td><td>0.834</td></tr><tr><td>3</td><td>&quot;Now Let Us Rejoice&quot;</td><td>&quot;3:29&quot;</td><td>10</td><td>12</td><td>1.0</td><td>0.24</td><td>0.832</td></tr><tr><td>139</td><td>&quot;In Fasting We Approach Thee&quot;</td><td>&quot;2:31&quot;</td><td>8</td><td>34</td><td>0.88</td><td>0.68</td><td>0.83</td></tr><tr><td>156</td><td>&quot;Sing We Now at Parting&quot;</td><td>&quot;2:47&quot;</td><td>8</td><td>20</td><td>0.88</td><td>0.4</td><td>0.826</td></tr><tr><td>254</td><td>&quot;True to the Faith&quot;</td><td>&quot;3:22&quot;</td><td>6</td><td>100</td><td>0.12</td><td>2.0</td><td>0.824</td></tr><tr><td>100</td><td>&quot;Nearer, My God, To Thee&quot;</td><td>&quot;3:12&quot;</td><td>8</td><td>16</td><td>0.88</td><td>0.32</td><td>0.822</td></tr><tr><td>294</td><td>&quot;Love at Home&quot;</td><td>&quot;3:39&quot;</td><td>9</td><td>15</td><td>0.98</td><td>0.3</td><td>0.816</td></tr><tr><td>270</td><td>&quot;I&#x27;ll Go Where You Want Me to Go&quot;</td><td>&quot;4:42&quot;</td><td>9</td><td>19</td><td>0.98</td><td>0.38</td><td>0.81</td></tr><tr><td>76</td><td>&quot;God of Our Fathers, We Come unto Thee&quot;</td><td>&quot;3:51&quot;</td><td>6</td><td>100</td><td>0.12</td><td>2.0</td><td>0.804</td></tr><tr><td>30</td><td>&quot;Come, Come, Ye Saints&quot;</td><td>&quot;3:53&quot;</td><td>9</td><td>18</td><td>0.98</td><td>0.36</td><td>0.804</td></tr><tr><td>158</td><td>&quot;Before Thee, Lord, I Bow My Head&quot;</td><td>&quot;4:04&quot;</td><td>6</td><td>100</td><td>0.12</td><td>2.0</td><td>0.794</td></tr><tr><td>5</td><td>&quot;High on the Mountain Top&quot;</td><td>&quot;2:33&quot;</td><td>10</td><td>21</td><td>1.0</td><td>0.42</td><td>0.786</td></tr><tr><td>14</td><td>&quot;Sweet Is the Peace the Gospel Brings&quot;</td><td>&quot;1:42&quot;</td><td>6</td><td>100</td><td>0.12</td><td>2.0</td><td>0.784</td></tr><tr><td>258</td><td>&quot;O Thou Rock of Our Salvation&quot;</td><td>&quot;3:16&quot;</td><td>6</td><td>100</td><td>0.12</td><td>2.0</td><td>0.784</td></tr><tr><td>239</td><td>&quot;Choose the Right&quot;</td><td>&quot;2:41&quot;</td><td>9</td><td>16</td><td>0.98</td><td>0.32</td><td>0.782</td></tr><tr><td>62</td><td>&quot;All Creatures of Our God and King&quot;</td><td>null</td><td>8</td><td>9</td><td>0.88</td><td>0.18</td><td>0.78</td></tr><tr><td>141</td><td>&quot;Jesus, the Very Thought of Thee&quot;</td><td>&quot;2:30&quot;</td><td>8</td><td>10</td><td>0.88</td><td>0.2</td><td>0.776</td></tr><tr><td>116</td><td>&quot;Come, Follow Me&quot;</td><td>&quot;2:48&quot;</td><td>10</td><td>36</td><td>1.0</td><td>0.72</td><td>0.776</td></tr><tr><td>9</td><td>&quot;Come, Rejoice&quot;</td><td>&quot;2:34&quot;</td><td>6</td><td>100</td><td>0.12</td><td>2.0</td><td>0.774</td></tr><tr><td>292</td><td>&quot;O My Father&quot;</td><td>&quot;4:25&quot;</td><td>8</td><td>50</td><td>0.88</td><td>1.0</td><td>0.766</td></tr></tbody></table></div>"
      ],
      "text/plain": [
       "shape: (30, 8)\n",
       "┌──────┬───────────────┬────────┬──────────────┬─────────────┬──────────────┬──────────────┬───────┐\n",
       "│ id   ┆ name          ┆ length ┆ adj_populari ┆ weeks_since ┆ popularity_s ┆ weeks_since_ ┆ score │\n",
       "│ ---  ┆ ---           ┆ ---    ┆ ty           ┆ ---         ┆ core         ┆ score        ┆ ---   │\n",
       "│ i64  ┆ str           ┆ str    ┆ ---          ┆ i64         ┆ ---          ┆ ---          ┆ f64   │\n",
       "│      ┆               ┆        ┆ i64          ┆             ┆ f64          ┆ f64          ┆       │\n",
       "╞══════╪═══════════════╪════════╪══════════════╪═════════════╪══════════════╪══════════════╪═══════╡\n",
       "│ 1001 ┆ Come, Thou    ┆ 2:32   ┆ 13           ┆ 100         ┆ 1.0          ┆ 2.0          ┆ 1.16  │\n",
       "│      ┆ Fount of      ┆        ┆              ┆             ┆              ┆              ┆       │\n",
       "│      ┆ Every         ┆        ┆              ┆             ┆              ┆              ┆       │\n",
       "│      ┆ Blessing      ┆        ┆              ┆             ┆              ┆              ┆       │\n",
       "│ 1003 ┆ It Is Well    ┆ 3:21   ┆ 12           ┆ 100         ┆ 1.0          ┆ 2.0          ┆ 1.16  │\n",
       "│      ┆ With My Soul  ┆        ┆              ┆             ┆              ┆              ┆       │\n",
       "│ 134  ┆ I Believe in  ┆ 5:00   ┆ 8            ┆ 47          ┆ 0.88         ┆ 0.94         ┆ 0.928 │\n",
       "│      ┆ Christ        ┆        ┆              ┆             ┆              ┆              ┆       │\n",
       "│ 237  ┆ Do What Is    ┆ 3:03   ┆ 8            ┆ 31          ┆ 0.88         ┆ 0.62         ┆ 0.922 │\n",
       "│      ┆ Right         ┆        ┆              ┆             ┆              ┆              ┆       │\n",
       "│ 98   ┆ I Need Thee   ┆ 4:07   ┆ 9            ┆ 18          ┆ 0.98         ┆ 0.36         ┆ 0.904 │\n",
       "│      ┆ Every Hour    ┆        ┆              ┆             ┆              ┆              ┆       │\n",
       "│ 66   ┆ Rejoice, the  ┆ 2:19   ┆ 9            ┆ 17          ┆ 0.98         ┆ 0.34         ┆ 0.898 │\n",
       "│      ┆ Lord Is King! ┆        ┆              ┆             ┆              ┆              ┆       │\n",
       "│ 277  ┆ As I Search   ┆ 2:16   ┆ 8            ┆ 48          ┆ 0.88         ┆ 0.96         ┆ 0.894 │\n",
       "│      ┆ the Holy      ┆        ┆              ┆             ┆              ┆              ┆       │\n",
       "│      ┆ Scriptures    ┆        ┆              ┆             ┆              ┆              ┆       │\n",
       "│ 220  ┆ Lord, I Would ┆ 3:01   ┆ 10           ┆ 21          ┆ 1.0          ┆ 0.42         ┆ 0.876 │\n",
       "│      ┆ Follow Thee   ┆        ┆              ┆             ┆              ┆              ┆       │\n",
       "│ 130  ┆ Be Thou       ┆ 1:56   ┆ 7            ┆ 70          ┆ 0.5          ┆ 1.4          ┆ 0.87  │\n",
       "│      ┆ Humble        ┆        ┆              ┆             ┆              ┆              ┆       │\n",
       "│ 89   ┆ The Lord Is   ┆ 3:39   ┆ 10           ┆ 12          ┆ 1.0          ┆ 0.24         ┆ 0.852 │\n",
       "│      ┆ My Light      ┆        ┆              ┆             ┆              ┆              ┆       │\n",
       "│ 136  ┆ I Know That   ┆ 4:19   ┆ 10           ┆ 9           ┆ 1.0          ┆ 0.18         ┆ 0.834 │\n",
       "│      ┆ My Redeemer   ┆        ┆              ┆             ┆              ┆              ┆       │\n",
       "│      ┆ Lives         ┆        ┆              ┆             ┆              ┆              ┆       │\n",
       "│ 3    ┆ Now Let Us    ┆ 3:29   ┆ 10           ┆ 12          ┆ 1.0          ┆ 0.24         ┆ 0.832 │\n",
       "│      ┆ Rejoice       ┆        ┆              ┆             ┆              ┆              ┆       │\n",
       "│ 139  ┆ In Fasting We ┆ 2:31   ┆ 8            ┆ 34          ┆ 0.88         ┆ 0.68         ┆ 0.83  │\n",
       "│      ┆ Approach Thee ┆        ┆              ┆             ┆              ┆              ┆       │\n",
       "│ 156  ┆ Sing We Now   ┆ 2:47   ┆ 8            ┆ 20          ┆ 0.88         ┆ 0.4          ┆ 0.826 │\n",
       "│      ┆ at Parting    ┆        ┆              ┆             ┆              ┆              ┆       │\n",
       "│ 254  ┆ True to the   ┆ 3:22   ┆ 6            ┆ 100         ┆ 0.12         ┆ 2.0          ┆ 0.824 │\n",
       "│      ┆ Faith         ┆        ┆              ┆             ┆              ┆              ┆       │\n",
       "│ 100  ┆ Nearer, My    ┆ 3:12   ┆ 8            ┆ 16          ┆ 0.88         ┆ 0.32         ┆ 0.822 │\n",
       "│      ┆ God, To Thee  ┆        ┆              ┆             ┆              ┆              ┆       │\n",
       "│ 294  ┆ Love at Home  ┆ 3:39   ┆ 9            ┆ 15          ┆ 0.98         ┆ 0.3          ┆ 0.816 │\n",
       "│ 270  ┆ I'll Go Where ┆ 4:42   ┆ 9            ┆ 19          ┆ 0.98         ┆ 0.38         ┆ 0.81  │\n",
       "│      ┆ You Want Me   ┆        ┆              ┆             ┆              ┆              ┆       │\n",
       "│      ┆ to Go         ┆        ┆              ┆             ┆              ┆              ┆       │\n",
       "│ 76   ┆ God of Our    ┆ 3:51   ┆ 6            ┆ 100         ┆ 0.12         ┆ 2.0          ┆ 0.804 │\n",
       "│      ┆ Fathers, We   ┆        ┆              ┆             ┆              ┆              ┆       │\n",
       "│      ┆ Come unto     ┆        ┆              ┆             ┆              ┆              ┆       │\n",
       "│      ┆ Thee          ┆        ┆              ┆             ┆              ┆              ┆       │\n",
       "│ 30   ┆ Come, Come,   ┆ 3:53   ┆ 9            ┆ 18          ┆ 0.98         ┆ 0.36         ┆ 0.804 │\n",
       "│      ┆ Ye Saints     ┆        ┆              ┆             ┆              ┆              ┆       │\n",
       "│ 158  ┆ Before Thee,  ┆ 4:04   ┆ 6            ┆ 100         ┆ 0.12         ┆ 2.0          ┆ 0.794 │\n",
       "│      ┆ Lord, I Bow   ┆        ┆              ┆             ┆              ┆              ┆       │\n",
       "│      ┆ My Head       ┆        ┆              ┆             ┆              ┆              ┆       │\n",
       "│ 5    ┆ High on the   ┆ 2:33   ┆ 10           ┆ 21          ┆ 1.0          ┆ 0.42         ┆ 0.786 │\n",
       "│      ┆ Mountain Top  ┆        ┆              ┆             ┆              ┆              ┆       │\n",
       "│ 14   ┆ Sweet Is the  ┆ 1:42   ┆ 6            ┆ 100         ┆ 0.12         ┆ 2.0          ┆ 0.784 │\n",
       "│      ┆ Peace the     ┆        ┆              ┆             ┆              ┆              ┆       │\n",
       "│      ┆ Gospel Brings ┆        ┆              ┆             ┆              ┆              ┆       │\n",
       "│ 258  ┆ O Thou Rock   ┆ 3:16   ┆ 6            ┆ 100         ┆ 0.12         ┆ 2.0          ┆ 0.784 │\n",
       "│      ┆ of Our        ┆        ┆              ┆             ┆              ┆              ┆       │\n",
       "│      ┆ Salvation     ┆        ┆              ┆             ┆              ┆              ┆       │\n",
       "│ 239  ┆ Choose the    ┆ 2:41   ┆ 9            ┆ 16          ┆ 0.98         ┆ 0.32         ┆ 0.782 │\n",
       "│      ┆ Right         ┆        ┆              ┆             ┆              ┆              ┆       │\n",
       "│ 62   ┆ All Creatures ┆ null   ┆ 8            ┆ 9           ┆ 0.88         ┆ 0.18         ┆ 0.78  │\n",
       "│      ┆ of Our God    ┆        ┆              ┆             ┆              ┆              ┆       │\n",
       "│      ┆ and King      ┆        ┆              ┆             ┆              ┆              ┆       │\n",
       "│ 141  ┆ Jesus, the    ┆ 2:30   ┆ 8            ┆ 10          ┆ 0.88         ┆ 0.2          ┆ 0.776 │\n",
       "│      ┆ Very Thought  ┆        ┆              ┆             ┆              ┆              ┆       │\n",
       "│      ┆ of Thee       ┆        ┆              ┆             ┆              ┆              ┆       │\n",
       "│ 116  ┆ Come, Follow  ┆ 2:48   ┆ 10           ┆ 36          ┆ 1.0          ┆ 0.72         ┆ 0.776 │\n",
       "│      ┆ Me            ┆        ┆              ┆             ┆              ┆              ┆       │\n",
       "│ 9    ┆ Come, Rejoice ┆ 2:34   ┆ 6            ┆ 100         ┆ 0.12         ┆ 2.0          ┆ 0.774 │\n",
       "│ 292  ┆ O My Father   ┆ 4:25   ┆ 8            ┆ 50          ┆ 0.88         ┆ 1.0          ┆ 0.766 │\n",
       "└──────┴───────────────┴────────┴──────────────┴─────────────┴──────────────┴──────────────┴───────┘"
      ]
     },
     "metadata": {},
     "output_type": "display_data"
    }
   ],
   "source": [
    "general_ranking = get_ranking_score(df, 'is_general', noise=0.15, popularity_weight=0.7)\n",
    "display(general_ranking.head(30))"
   ]
  },
  {
   "attachments": {},
   "cell_type": "markdown",
   "id": "477fa8b3",
   "metadata": {},
   "source": [
    "# Add to History"
   ]
  },
  {
   "cell_type": "code",
   "execution_count": null,
   "id": "930c85b9",
   "metadata": {},
   "outputs": [
    {
     "ename": "KeyboardInterrupt",
     "evalue": "This is here to stop you from running the whole notebook.",
     "output_type": "error",
     "traceback": [
      "\u001b[0;31m---------------------------------------------------------------------------\u001b[0m",
      "\u001b[0;31mKeyboardInterrupt\u001b[0m                         Traceback (most recent call last)",
      "Cell \u001b[0;32mIn[6], line 1\u001b[0m\n\u001b[0;32m----> 1\u001b[0m \u001b[38;5;28;01mraise\u001b[39;00m \u001b[38;5;167;01mKeyboardInterrupt\u001b[39;00m(\u001b[38;5;124m\"\u001b[39m\u001b[38;5;124mThis is here to stop you from running the whole notebook.\u001b[39m\u001b[38;5;124m\"\u001b[39m)\n",
      "\u001b[0;31mKeyboardInterrupt\u001b[0m: This is here to stop you from running the whole notebook."
     ]
    }
   ],
   "source": [
    "raise KeyboardInterrupt(\"This is here to stop you from running the whole notebook.\")"
   ]
  },
  {
   "cell_type": "code",
   "execution_count": null,
   "id": "175a466e",
   "metadata": {},
   "outputs": [],
   "source": [
    "def name_from_id(id, trim_parens=False):\n",
    "    name_row = df.filter(pl.col(\"id\") == id).select(\"name\")\n",
    "    if len(name_row) != 1:\n",
    "        raise ValueError(f\"Expected 1 row, got {len(name_row)}\")\n",
    "    name = name_row[\"name\"].item()\n",
    "\n",
    "    if trim_parens:\n",
    "        if name.endswith(\")\") and \"(\" in name:\n",
    "            name = name[:name.rfind(\"(\")].strip()\n",
    "    \n",
    "    return name\n",
    "\n",
    "\n",
    "def format_for_csv(date, opening, sacrament, intermediate, closing):\n",
    "    str_list = []\n",
    "    if opening:\n",
    "        str_list.append(\n",
    "            f\"{date.strftime('%m/%d/%Y')},opening,{opening},\\\"{name_from_id(opening)}\\\"\"\n",
    "        )\n",
    "    if sacrament:\n",
    "        str_list.append(\n",
    "            f\"{date.strftime('%m/%d/%Y')},sacrament,{sacrament},\\\"{name_from_id(sacrament)}\\\"\"\n",
    "        )\n",
    "    if intermediate:\n",
    "        str_list.append(\n",
    "            f\"{date.strftime('%m/%d/%Y')},intermediate,{intermediate},\\\"{name_from_id(intermediate)}\\\"\"\n",
    "        )\n",
    "    if closing:\n",
    "        str_list.append(\n",
    "            f\"{date.strftime('%m/%d/%Y')},closing,{closing},\\\"{name_from_id(closing)}\\\"\"\n",
    "        )\n",
    "    csv_str = \"\\n\".join(str_list)\n",
    "    return csv_str\n",
    "\n",
    "\n",
    "def format_for_paste(opening, sacrament, intermediate, closing):\n",
    "    str_list = []\n",
    "    if opening:\n",
    "        str_list.append(\n",
    "            f\"{opening} - {name_from_id(opening, trim_parens=True)}\",\n",
    "        )\n",
    "    else:\n",
    "        str_list.append(\"~\")\n",
    "    if sacrament:\n",
    "        str_list.append(\n",
    "            f\"{sacrament} - {name_from_id(sacrament, trim_parens=True)}\",\n",
    "        )\n",
    "    else:\n",
    "        str_list.append(\"~\")\n",
    "    if intermediate:\n",
    "        str_list.append(\n",
    "            f\"{intermediate} - {name_from_id(intermediate, trim_parens=True)}\",\n",
    "        )\n",
    "    else:\n",
    "        str_list.append(\"~\")\n",
    "    if closing:\n",
    "        str_list.append(\n",
    "            f\"{closing} - {name_from_id(closing, trim_parens=True)}\",\n",
    "        )\n",
    "    else:\n",
    "        str_list.append(\"~\")\n",
    "    paste_str = \"\\n\".join(str_list)\n",
    "    return paste_str\n",
    "\n",
    "date = dt.date(2024, 6, 2) # EDIT ME!\n",
    "opening = 6\n",
    "sacrament = None\n",
    "intermediate = 301\n",
    "closing = 85"
   ]
  },
  {
   "cell_type": "code",
   "execution_count": null,
   "id": "1f8248b3",
   "metadata": {},
   "outputs": [
    {
     "name": "stdout",
     "output_type": "stream",
     "text": [
      "Does this look right?\n",
      "06/02/2024,opening,6,\"Redeemer of Israel\"\n",
      "06/02/2024,intermediate,301,\"I Am a Child of God\"\n",
      "06/02/2024,closing,85,\"How Firm a Foundation\"\n"
     ]
    }
   ],
   "source": [
    "csv_str = format_for_csv(date, opening, sacrament, intermediate, closing)\n",
    "print(\"Does this look right?\")\n",
    "print(csv_str)"
   ]
  },
  {
   "cell_type": "code",
   "execution_count": null,
   "id": "1bc805b4",
   "metadata": {},
   "outputs": [],
   "source": [
    "# Append to history csv\n",
    "with open('history.csv', 'a') as f:\n",
    "    f.write(csv_str)\n",
    "    f.write(\"\\n\")"
   ]
  },
  {
   "cell_type": "code",
   "execution_count": null,
   "id": "cface9a5",
   "metadata": {},
   "outputs": [
    {
     "name": "stdout",
     "output_type": "stream",
     "text": [
      "6 - Redeemer of Israel\n",
      "~\n",
      "301 - I Am a Child of God\n",
      "85 - How Firm a Foundation\n"
     ]
    }
   ],
   "source": [
    "paste_str = format_for_paste(opening, sacrament, intermediate, closing)\n",
    "print(paste_str)"
   ]
  },
  {
   "cell_type": "code",
   "execution_count": null,
   "id": "5f5843b8",
   "metadata": {},
   "outputs": [],
   "source": []
  }
 ],
 "metadata": {
  "kernelspec": {
   "display_name": "Python 3",
   "language": "python",
   "name": "python3"
  },
  "language_info": {
   "codemirror_mode": {
    "name": "ipython",
    "version": 3
   },
   "file_extension": ".py",
   "mimetype": "text/x-python",
   "name": "python",
   "nbconvert_exporter": "python",
   "pygments_lexer": "ipython3",
   "version": "3.12.1"
  }
 },
 "nbformat": 4,
 "nbformat_minor": 5
}
