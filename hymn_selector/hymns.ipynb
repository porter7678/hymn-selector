{
 "cells": [
  {
   "attachments": {},
   "cell_type": "markdown",
   "id": "fe153eff-ff7a-4ef4-9869-42c66368dd10",
   "metadata": {},
   "source": [
    "## TODO\n",
    " - Make a list of important dates (holidays, fast sundays, stake conferences)"
   ]
  },
  {
   "attachments": {},
   "cell_type": "markdown",
   "id": "5a0e8093",
   "metadata": {},
   "source": [
    "# Steps to use:\n",
    " 1. Make sure the history is accurate for the past few weeks\n",
    " 2. Check if there are any holidays, fast sundays, or special meetings coming up\n",
    " 3. Run most of the notebook to generate suggestions\n",
    " 4. Select hymns, enter on Edify\n",
    " 5. Add selected hymns to history\n",
    " 6. Add hymns to Gospel Library\n",
    " 7. Update ward program, if needed, using Gospel Library as reference\n"
   ]
  },
  {
   "cell_type": "code",
   "execution_count": 1,
   "id": "b3502914-dbad-43f8-a504-99b09d89e2f2",
   "metadata": {},
   "outputs": [
    {
     "data": {
      "text/plain": [
       "polars.config.Config"
      ]
     },
     "execution_count": 1,
     "metadata": {},
     "output_type": "execute_result"
    }
   ],
   "source": [
    "import datetime as dt\n",
    "\n",
    "import numpy as np\n",
    "import polars as pl\n",
    "\n",
    "pl.Config().set_tbl_rows(30)\n",
    "pl.Config().set_fmt_str_lengths(50)"
   ]
  },
  {
   "cell_type": "code",
   "execution_count": 2,
   "id": "b0f87709",
   "metadata": {},
   "outputs": [],
   "source": [
    "def load_history() -> pl.DataFrame:\n",
    "    history_df = pl.read_csv('history.csv', infer_schema_length=None)\n",
    "    history_df = history_df.with_columns(\n",
    "        pl.col(\"date\").str.strptime(pl.Date, \"%m/%d/%Y\").alias(\"date\"),\n",
    "    ).drop('name').drop_nulls()\n",
    "    return history_df\n",
    "\n",
    "def error_check_history() -> None:\n",
    "    \"\"\"Check that no future dates are duplicates with any dates since 8 weeks ago.\"\"\"\n",
    "    history_df = load_history()\n",
    "    num_weeks_cutoff = 8\n",
    "    today = dt.datetime.today().date()\n",
    "    lookback_date = today - dt.timedelta(days=7 * num_weeks_cutoff)\n",
    "    recent_and_future_history = history_df.filter(pl.col(\"date\") >= lookback_date)\n",
    "    value_counts = recent_and_future_history[\"id\"].value_counts()\n",
    "    recent_and_future_history = recent_and_future_history.join(\n",
    "        value_counts, on=\"id\", how=\"left\"\n",
    "    ).rename({\"count\": \"recent_count\"})\n",
    "\n",
    "    future_history = recent_and_future_history.filter(pl.col(\"date\") >= today)\n",
    "    duplicates = future_history.filter(pl.col(\"recent_count\") > 1)\n",
    "    if len(duplicates) > 0:\n",
    "        display(duplicates)\n",
    "        print(\">>> WARNING! DUPLICATES FOUND! <<<\\n\")\n",
    "        raise RuntimeWarning(\">>> WARNING! DUPLICATES FOUND! <<<\")\n",
    "\n",
    "def add_last_sung_col(df):\n",
    "    history_df = load_history()\n",
    "    last_sung = history_df.group_by('id').agg(pl.max('date').alias('last_sung'))\n",
    "    df = df.join(last_sung, on='id', how='left')\n",
    "    return df\n",
    "\n",
    "\n",
    "def get_ranking_score(df: pl.DataFrame, type_col: str, popularity_weight=0.5, noise=0.0) -> pl.Series:\n",
    "    score_df = df.filter((pl.col(type_col) == 1) & (pl.col('flagged').fill_null(0) != 1))\n",
    "    weeks_since_fill_value = 100\n",
    "    # Add days since last sung column\n",
    "    score_df = score_df.with_columns(\n",
    "        ((pl.lit(dt.datetime.today()) - pl.col('last_sung')).dt.total_days()//7)\n",
    "        .fill_null(weeks_since_fill_value)\n",
    "        .alias('weeks_since')\n",
    "    )\n",
    "\n",
    "    midpoint = 7\n",
    "    slope = 2\n",
    "\n",
    "    def popularity_func(x): return np.round(\n",
    "        1 / (1 + np.exp(-slope * (x - midpoint))), 2)\n",
    "    weeks_cutoff = 8\n",
    "    score_df = score_df.with_columns((pl.col('popularity') + pl.col('popularity_adjustment').fill_null(0)).alias('adj_popularity'))\n",
    "    score_df = score_df.with_columns(\n",
    "        pl.col('adj_popularity').map_elements(popularity_func).alias('popularity_score'),\n",
    "        pl.when(pl.col('weeks_since') > weeks_cutoff)\n",
    "        .then((pl.col('weeks_since') / (weeks_since_fill_value/2)).round(3))\n",
    "        .otherwise(-100).alias('weeks_since_score'),\n",
    "        pl.Series(np.round(np.random.uniform(-noise, noise,\n",
    "                  len(score_df)), 2)).alias('noise'),\n",
    "    ).with_columns(\n",
    "        (pl.col('popularity_score') * popularity_weight + pl.col('weeks_since_score')\n",
    "         * (1 - popularity_weight)).alias('score') + pl.col('noise')\n",
    "    )\n",
    "\n",
    "    score_df = score_df.select([\n",
    "        'id', 'name', 'length', 'adj_popularity', 'weeks_since', 'popularity_score', 'weeks_since_score', 'score'\n",
    "    ]).sort('score', descending=True)\n",
    "\n",
    "    return score_df"
   ]
  },
  {
   "cell_type": "code",
   "execution_count": 3,
   "id": "e60d50c3",
   "metadata": {},
   "outputs": [],
   "source": [
    "error_check_history()"
   ]
  },
  {
   "cell_type": "code",
   "execution_count": 4,
   "id": "fff3afb1",
   "metadata": {},
   "outputs": [],
   "source": [
    "df = pl.read_csv(\"hymns.csv\")\n",
    "df = add_last_sung_col(df)"
   ]
  },
  {
   "attachments": {},
   "cell_type": "markdown",
   "id": "65fc7e07",
   "metadata": {},
   "source": [
    "## Sacrament Hymn"
   ]
  },
  {
   "cell_type": "code",
   "execution_count": 5,
   "id": "092bf52d",
   "metadata": {},
   "outputs": [
    {
     "data": {
      "text/html": [
       "<div><style>\n",
       ".dataframe > thead > tr,\n",
       ".dataframe > tbody > tr {\n",
       "  text-align: right;\n",
       "  white-space: pre-wrap;\n",
       "}\n",
       "</style>\n",
       "<small>shape: (10, 8)</small><table border=\"1\" class=\"dataframe\"><thead><tr><th>id</th><th>name</th><th>length</th><th>adj_popularity</th><th>weeks_since</th><th>popularity_score</th><th>weeks_since_score</th><th>score</th></tr><tr><td>i64</td><td>str</td><td>str</td><td>i64</td><td>i64</td><td>f64</td><td>f64</td><td>f64</td></tr></thead><tbody><tr><td>197</td><td>&quot;O Savior, Thou Who Wearest a Crown&quot;</td><td>&quot;4:16&quot;</td><td>6</td><td>129</td><td>0.12</td><td>2.58</td><td>1.43</td></tr><tr><td>173</td><td>&quot;While of These Emblems We Partake (SAUL)&quot;</td><td>&quot;2:53&quot;</td><td>10</td><td>28</td><td>1.0</td><td>0.56</td><td>0.84</td></tr><tr><td>141</td><td>&quot;Jesus, the Very Thought of Thee&quot;</td><td>&quot;2:30&quot;</td><td>8</td><td>33</td><td>0.88</td><td>0.66</td><td>0.81</td></tr><tr><td>175</td><td>&quot;O God, the Eternal Father&quot;</td><td>&quot;4:18&quot;</td><td>10</td><td>32</td><td>1.0</td><td>0.64</td><td>0.8</td></tr><tr><td>172</td><td>&quot;In Humility, Our Savior&quot;</td><td>&quot;2:46&quot;</td><td>10</td><td>26</td><td>1.0</td><td>0.52</td><td>0.77</td></tr><tr><td>146</td><td>&quot;Gently Raise the Sacred Strain&quot;</td><td>&quot;3:55&quot;</td><td>8</td><td>27</td><td>0.88</td><td>0.54</td><td>0.72</td></tr><tr><td>1007</td><td>&quot;As Bread Is Broken&quot;</td><td>&quot;2:06&quot;</td><td>11</td><td>25</td><td>1.0</td><td>0.5</td><td>0.71</td></tr><tr><td>196</td><td>&quot;Jesus, Once of Humble Birth&quot;</td><td>&quot;3:33&quot;</td><td>10</td><td>17</td><td>1.0</td><td>0.34</td><td>0.7</td></tr><tr><td>177</td><td>&quot;Tis Sweet to Sing the Matchless Love (HANCOCK)&quot;</td><td>&quot;3:08&quot;</td><td>10</td><td>13</td><td>1.0</td><td>0.26</td><td>0.69</td></tr><tr><td>169</td><td>&quot;As Now We Take the Sacrament&quot;</td><td>&quot;3:01&quot;</td><td>10</td><td>22</td><td>1.0</td><td>0.44</td><td>0.67</td></tr></tbody></table></div>"
      ],
      "text/plain": [
       "shape: (10, 8)\n",
       "┌──────┬───────────────┬────────┬──────────────┬─────────────┬──────────────┬──────────────┬───────┐\n",
       "│ id   ┆ name          ┆ length ┆ adj_populari ┆ weeks_since ┆ popularity_s ┆ weeks_since_ ┆ score │\n",
       "│ ---  ┆ ---           ┆ ---    ┆ ty           ┆ ---         ┆ core         ┆ score        ┆ ---   │\n",
       "│ i64  ┆ str           ┆ str    ┆ ---          ┆ i64         ┆ ---          ┆ ---          ┆ f64   │\n",
       "│      ┆               ┆        ┆ i64          ┆             ┆ f64          ┆ f64          ┆       │\n",
       "╞══════╪═══════════════╪════════╪══════════════╪═════════════╪══════════════╪══════════════╪═══════╡\n",
       "│ 197  ┆ O Savior,     ┆ 4:16   ┆ 6            ┆ 129         ┆ 0.12         ┆ 2.58         ┆ 1.43  │\n",
       "│      ┆ Thou Who      ┆        ┆              ┆             ┆              ┆              ┆       │\n",
       "│      ┆ Wearest a     ┆        ┆              ┆             ┆              ┆              ┆       │\n",
       "│      ┆ Crown         ┆        ┆              ┆             ┆              ┆              ┆       │\n",
       "│ 173  ┆ While of      ┆ 2:53   ┆ 10           ┆ 28          ┆ 1.0          ┆ 0.56         ┆ 0.84  │\n",
       "│      ┆ These Emblems ┆        ┆              ┆             ┆              ┆              ┆       │\n",
       "│      ┆ We Partake    ┆        ┆              ┆             ┆              ┆              ┆       │\n",
       "│      ┆ (SAUL)        ┆        ┆              ┆             ┆              ┆              ┆       │\n",
       "│ 141  ┆ Jesus, the    ┆ 2:30   ┆ 8            ┆ 33          ┆ 0.88         ┆ 0.66         ┆ 0.81  │\n",
       "│      ┆ Very Thought  ┆        ┆              ┆             ┆              ┆              ┆       │\n",
       "│      ┆ of Thee       ┆        ┆              ┆             ┆              ┆              ┆       │\n",
       "│ 175  ┆ O God, the    ┆ 4:18   ┆ 10           ┆ 32          ┆ 1.0          ┆ 0.64         ┆ 0.8   │\n",
       "│      ┆ Eternal       ┆        ┆              ┆             ┆              ┆              ┆       │\n",
       "│      ┆ Father        ┆        ┆              ┆             ┆              ┆              ┆       │\n",
       "│ 172  ┆ In Humility,  ┆ 2:46   ┆ 10           ┆ 26          ┆ 1.0          ┆ 0.52         ┆ 0.77  │\n",
       "│      ┆ Our Savior    ┆        ┆              ┆             ┆              ┆              ┆       │\n",
       "│ 146  ┆ Gently Raise  ┆ 3:55   ┆ 8            ┆ 27          ┆ 0.88         ┆ 0.54         ┆ 0.72  │\n",
       "│      ┆ the Sacred    ┆        ┆              ┆             ┆              ┆              ┆       │\n",
       "│      ┆ Strain        ┆        ┆              ┆             ┆              ┆              ┆       │\n",
       "│ 1007 ┆ As Bread Is   ┆ 2:06   ┆ 11           ┆ 25          ┆ 1.0          ┆ 0.5          ┆ 0.71  │\n",
       "│      ┆ Broken        ┆        ┆              ┆             ┆              ┆              ┆       │\n",
       "│ 196  ┆ Jesus, Once   ┆ 3:33   ┆ 10           ┆ 17          ┆ 1.0          ┆ 0.34         ┆ 0.7   │\n",
       "│      ┆ of Humble     ┆        ┆              ┆             ┆              ┆              ┆       │\n",
       "│      ┆ Birth         ┆        ┆              ┆             ┆              ┆              ┆       │\n",
       "│ 177  ┆ Tis Sweet to  ┆ 3:08   ┆ 10           ┆ 13          ┆ 1.0          ┆ 0.26         ┆ 0.69  │\n",
       "│      ┆ Sing the      ┆        ┆              ┆             ┆              ┆              ┆       │\n",
       "│      ┆ Matchless     ┆        ┆              ┆             ┆              ┆              ┆       │\n",
       "│      ┆ Love          ┆        ┆              ┆             ┆              ┆              ┆       │\n",
       "│      ┆ (HANCOCK)     ┆        ┆              ┆             ┆              ┆              ┆       │\n",
       "│ 169  ┆ As Now We     ┆ 3:01   ┆ 10           ┆ 22          ┆ 1.0          ┆ 0.44         ┆ 0.67  │\n",
       "│      ┆ Take the      ┆        ┆              ┆             ┆              ┆              ┆       │\n",
       "│      ┆ Sacrament     ┆        ┆              ┆             ┆              ┆              ┆       │\n",
       "└──────┴───────────────┴────────┴──────────────┴─────────────┴──────────────┴──────────────┴───────┘"
      ]
     },
     "metadata": {},
     "output_type": "display_data"
    }
   ],
   "source": [
    "sacrament_ranking = get_ranking_score(df, 'is_sacrament', noise=0.1)\n",
    "display(sacrament_ranking.head(10))"
   ]
  },
  {
   "attachments": {},
   "cell_type": "markdown",
   "id": "0f84e2cb",
   "metadata": {},
   "source": [
    "## General Hymns"
   ]
  },
  {
   "cell_type": "code",
   "execution_count": 6,
   "id": "eb1890f3",
   "metadata": {},
   "outputs": [
    {
     "data": {
      "text/html": [
       "<div><style>\n",
       ".dataframe > thead > tr,\n",
       ".dataframe > tbody > tr {\n",
       "  text-align: right;\n",
       "  white-space: pre-wrap;\n",
       "}\n",
       "</style>\n",
       "<small>shape: (30, 8)</small><table border=\"1\" class=\"dataframe\"><thead><tr><th>id</th><th>name</th><th>length</th><th>adj_popularity</th><th>weeks_since</th><th>popularity_score</th><th>weeks_since_score</th><th>score</th></tr><tr><td>i64</td><td>str</td><td>str</td><td>i64</td><td>i64</td><td>f64</td><td>f64</td><td>f64</td></tr></thead><tbody><tr><td>219</td><td>&quot;Because I Have Been Given Much&quot;</td><td>null</td><td>10</td><td>30</td><td>1.0</td><td>0.6</td><td>0.97</td></tr><tr><td>166</td><td>&quot;Abide with Me!&quot;</td><td>&quot;2:57&quot;</td><td>8</td><td>52</td><td>0.88</td><td>1.04</td><td>0.948</td></tr><tr><td>141</td><td>&quot;Jesus, the Very Thought of Thee&quot;</td><td>&quot;2:30&quot;</td><td>8</td><td>33</td><td>0.88</td><td>0.66</td><td>0.934</td></tr><tr><td>125</td><td>&quot;How Gentle God&#x27;s Commands&quot;</td><td>&quot;2:27&quot;</td><td>8</td><td>25</td><td>0.88</td><td>0.5</td><td>0.916</td></tr><tr><td>98</td><td>&quot;I Need Thee Every Hour&quot;</td><td>&quot;4:07&quot;</td><td>9</td><td>24</td><td>0.98</td><td>0.48</td><td>0.91</td></tr><tr><td>97</td><td>&quot;Lead, Kindly Light&quot;</td><td>&quot;3:12&quot;</td><td>9</td><td>13</td><td>0.98</td><td>0.26</td><td>0.904</td></tr><tr><td>134</td><td>&quot;I Believe in Christ&quot;</td><td>&quot;5:00&quot;</td><td>8</td><td>41</td><td>0.88</td><td>0.82</td><td>0.892</td></tr><tr><td>1001</td><td>&quot;Come, Thou Fount of Every Blessing&quot;</td><td>&quot;2:32&quot;</td><td>13</td><td>28</td><td>1.0</td><td>0.56</td><td>0.888</td></tr><tr><td>116</td><td>&quot;Come, Follow Me&quot;</td><td>&quot;2:48&quot;</td><td>10</td><td>31</td><td>1.0</td><td>0.62</td><td>0.886</td></tr><tr><td>78</td><td>&quot;God of Our Fathers, Whose Almighty Hand&quot;</td><td>&quot;2:19&quot;</td><td>7</td><td>95</td><td>0.5</td><td>1.9</td><td>0.88</td></tr><tr><td>165</td><td>&quot;Abide with Me, &#x27;Tis Eventide&quot;</td><td>&quot;3:32&quot;</td><td>9</td><td>10</td><td>0.98</td><td>0.2</td><td>0.866</td></tr><tr><td>264</td><td>&quot;Hark, All Ye Nations!&quot;</td><td>&quot;2:24&quot;</td><td>9</td><td>11</td><td>0.98</td><td>0.22</td><td>0.862</td></tr><tr><td>146</td><td>&quot;Gently Raise the Sacred Strain&quot;</td><td>&quot;3:55&quot;</td><td>8</td><td>27</td><td>0.88</td><td>0.54</td><td>0.858</td></tr><tr><td>135</td><td>&quot;My Redeemer Lives&quot;</td><td>&quot;1:39&quot;</td><td>7</td><td>93</td><td>0.5</td><td>1.86</td><td>0.838</td></tr><tr><td>123</td><td>&quot;Oh, May My Soul Commune with Thee&quot;</td><td>&quot;2:38&quot;</td><td>6</td><td>100</td><td>0.12</td><td>2.0</td><td>0.834</td></tr><tr><td>163</td><td>&quot;Lord, Dismiss Us with Thy Blessing&quot;</td><td>&quot;1:40&quot;</td><td>5</td><td>131</td><td>0.02</td><td>2.62</td><td>0.83</td></tr><tr><td>84</td><td>&quot;Faith of Our Fathers&quot;</td><td>&quot;2:43&quot;</td><td>6</td><td>100</td><td>0.12</td><td>2.0</td><td>0.824</td></tr><tr><td>254</td><td>&quot;True to the Faith&quot;</td><td>&quot;3:22&quot;</td><td>6</td><td>100</td><td>0.12</td><td>2.0</td><td>0.824</td></tr><tr><td>274</td><td>&quot;The Iron Rod&quot;</td><td>&quot;2:36&quot;</td><td>9</td><td>12</td><td>0.98</td><td>0.24</td><td>0.818</td></tr><tr><td>1003</td><td>&quot;It Is Well With My Soul&quot;</td><td>&quot;3:21&quot;</td><td>12</td><td>30</td><td>1.0</td><td>0.6</td><td>0.81</td></tr><tr><td>1013</td><td>&quot;God&#x27;s Gracious Love&quot;</td><td>&quot;3:06&quot;</td><td>9</td><td>42</td><td>0.98</td><td>0.84</td><td>0.808</td></tr><tr><td>147</td><td>&quot;Sweet Is the Work&quot;</td><td>&quot;2:39&quot;</td><td>8</td><td>9</td><td>0.88</td><td>0.18</td><td>0.8</td></tr><tr><td>137</td><td>&quot;Testimony&quot;</td><td>&quot;2:13&quot;</td><td>8</td><td>40</td><td>0.88</td><td>0.8</td><td>0.796</td></tr><tr><td>107</td><td>&quot;Lord, Accept Our True Devotion&quot;</td><td>&quot;3:00&quot;</td><td>6</td><td>100</td><td>0.12</td><td>2.0</td><td>0.794</td></tr><tr><td>221</td><td>&quot;Dear to the Heart of the Shepherd&quot;</td><td>&quot;5:42&quot;</td><td>6</td><td>100</td><td>0.12</td><td>2.0</td><td>0.794</td></tr><tr><td>258</td><td>&quot;O Thou Rock of Our Salvation&quot;</td><td>&quot;3:16&quot;</td><td>6</td><td>100</td><td>0.12</td><td>2.0</td><td>0.794</td></tr><tr><td>30</td><td>&quot;Come, Come, Ye Saints&quot;</td><td>&quot;3:53&quot;</td><td>9</td><td>19</td><td>0.98</td><td>0.38</td><td>0.79</td></tr><tr><td>76</td><td>&quot;God of Our Fathers, We Come unto Thee&quot;</td><td>&quot;3:51&quot;</td><td>6</td><td>100</td><td>0.12</td><td>2.0</td><td>0.784</td></tr><tr><td>21</td><td>&quot;Come, Listen to a Prophet&#x27;s Voice&quot;</td><td>&quot;3:13&quot;</td><td>7</td><td>78</td><td>0.5</td><td>1.56</td><td>0.778</td></tr><tr><td>249</td><td>&quot;Called to Serve&quot;</td><td>&quot;2:08&quot;</td><td>9</td><td>22</td><td>0.98</td><td>0.44</td><td>0.778</td></tr></tbody></table></div>"
      ],
      "text/plain": [
       "shape: (30, 8)\n",
       "┌──────┬───────────────┬────────┬──────────────┬─────────────┬──────────────┬──────────────┬───────┐\n",
       "│ id   ┆ name          ┆ length ┆ adj_populari ┆ weeks_since ┆ popularity_s ┆ weeks_since_ ┆ score │\n",
       "│ ---  ┆ ---           ┆ ---    ┆ ty           ┆ ---         ┆ core         ┆ score        ┆ ---   │\n",
       "│ i64  ┆ str           ┆ str    ┆ ---          ┆ i64         ┆ ---          ┆ ---          ┆ f64   │\n",
       "│      ┆               ┆        ┆ i64          ┆             ┆ f64          ┆ f64          ┆       │\n",
       "╞══════╪═══════════════╪════════╪══════════════╪═════════════╪══════════════╪══════════════╪═══════╡\n",
       "│ 219  ┆ Because I     ┆ null   ┆ 10           ┆ 30          ┆ 1.0          ┆ 0.6          ┆ 0.97  │\n",
       "│      ┆ Have Been     ┆        ┆              ┆             ┆              ┆              ┆       │\n",
       "│      ┆ Given Much    ┆        ┆              ┆             ┆              ┆              ┆       │\n",
       "│ 166  ┆ Abide with    ┆ 2:57   ┆ 8            ┆ 52          ┆ 0.88         ┆ 1.04         ┆ 0.948 │\n",
       "│      ┆ Me!           ┆        ┆              ┆             ┆              ┆              ┆       │\n",
       "│ 141  ┆ Jesus, the    ┆ 2:30   ┆ 8            ┆ 33          ┆ 0.88         ┆ 0.66         ┆ 0.934 │\n",
       "│      ┆ Very Thought  ┆        ┆              ┆             ┆              ┆              ┆       │\n",
       "│      ┆ of Thee       ┆        ┆              ┆             ┆              ┆              ┆       │\n",
       "│ 125  ┆ How Gentle    ┆ 2:27   ┆ 8            ┆ 25          ┆ 0.88         ┆ 0.5          ┆ 0.916 │\n",
       "│      ┆ God's         ┆        ┆              ┆             ┆              ┆              ┆       │\n",
       "│      ┆ Commands      ┆        ┆              ┆             ┆              ┆              ┆       │\n",
       "│ 98   ┆ I Need Thee   ┆ 4:07   ┆ 9            ┆ 24          ┆ 0.98         ┆ 0.48         ┆ 0.91  │\n",
       "│      ┆ Every Hour    ┆        ┆              ┆             ┆              ┆              ┆       │\n",
       "│ 97   ┆ Lead, Kindly  ┆ 3:12   ┆ 9            ┆ 13          ┆ 0.98         ┆ 0.26         ┆ 0.904 │\n",
       "│      ┆ Light         ┆        ┆              ┆             ┆              ┆              ┆       │\n",
       "│ 134  ┆ I Believe in  ┆ 5:00   ┆ 8            ┆ 41          ┆ 0.88         ┆ 0.82         ┆ 0.892 │\n",
       "│      ┆ Christ        ┆        ┆              ┆             ┆              ┆              ┆       │\n",
       "│ 1001 ┆ Come, Thou    ┆ 2:32   ┆ 13           ┆ 28          ┆ 1.0          ┆ 0.56         ┆ 0.888 │\n",
       "│      ┆ Fount of      ┆        ┆              ┆             ┆              ┆              ┆       │\n",
       "│      ┆ Every         ┆        ┆              ┆             ┆              ┆              ┆       │\n",
       "│      ┆ Blessing      ┆        ┆              ┆             ┆              ┆              ┆       │\n",
       "│ 116  ┆ Come, Follow  ┆ 2:48   ┆ 10           ┆ 31          ┆ 1.0          ┆ 0.62         ┆ 0.886 │\n",
       "│      ┆ Me            ┆        ┆              ┆             ┆              ┆              ┆       │\n",
       "│ 78   ┆ God of Our    ┆ 2:19   ┆ 7            ┆ 95          ┆ 0.5          ┆ 1.9          ┆ 0.88  │\n",
       "│      ┆ Fathers,      ┆        ┆              ┆             ┆              ┆              ┆       │\n",
       "│      ┆ Whose         ┆        ┆              ┆             ┆              ┆              ┆       │\n",
       "│      ┆ Almighty Hand ┆        ┆              ┆             ┆              ┆              ┆       │\n",
       "│ 165  ┆ Abide with    ┆ 3:32   ┆ 9            ┆ 10          ┆ 0.98         ┆ 0.2          ┆ 0.866 │\n",
       "│      ┆ Me, 'Tis      ┆        ┆              ┆             ┆              ┆              ┆       │\n",
       "│      ┆ Eventide      ┆        ┆              ┆             ┆              ┆              ┆       │\n",
       "│ 264  ┆ Hark, All Ye  ┆ 2:24   ┆ 9            ┆ 11          ┆ 0.98         ┆ 0.22         ┆ 0.862 │\n",
       "│      ┆ Nations!      ┆        ┆              ┆             ┆              ┆              ┆       │\n",
       "│ 146  ┆ Gently Raise  ┆ 3:55   ┆ 8            ┆ 27          ┆ 0.88         ┆ 0.54         ┆ 0.858 │\n",
       "│      ┆ the Sacred    ┆        ┆              ┆             ┆              ┆              ┆       │\n",
       "│      ┆ Strain        ┆        ┆              ┆             ┆              ┆              ┆       │\n",
       "│ 135  ┆ My Redeemer   ┆ 1:39   ┆ 7            ┆ 93          ┆ 0.5          ┆ 1.86         ┆ 0.838 │\n",
       "│      ┆ Lives         ┆        ┆              ┆             ┆              ┆              ┆       │\n",
       "│ 123  ┆ Oh, May My    ┆ 2:38   ┆ 6            ┆ 100         ┆ 0.12         ┆ 2.0          ┆ 0.834 │\n",
       "│      ┆ Soul Commune  ┆        ┆              ┆             ┆              ┆              ┆       │\n",
       "│      ┆ with Thee     ┆        ┆              ┆             ┆              ┆              ┆       │\n",
       "│ 163  ┆ Lord, Dismiss ┆ 1:40   ┆ 5            ┆ 131         ┆ 0.02         ┆ 2.62         ┆ 0.83  │\n",
       "│      ┆ Us with Thy   ┆        ┆              ┆             ┆              ┆              ┆       │\n",
       "│      ┆ Blessing      ┆        ┆              ┆             ┆              ┆              ┆       │\n",
       "│ 84   ┆ Faith of Our  ┆ 2:43   ┆ 6            ┆ 100         ┆ 0.12         ┆ 2.0          ┆ 0.824 │\n",
       "│      ┆ Fathers       ┆        ┆              ┆             ┆              ┆              ┆       │\n",
       "│ 254  ┆ True to the   ┆ 3:22   ┆ 6            ┆ 100         ┆ 0.12         ┆ 2.0          ┆ 0.824 │\n",
       "│      ┆ Faith         ┆        ┆              ┆             ┆              ┆              ┆       │\n",
       "│ 274  ┆ The Iron Rod  ┆ 2:36   ┆ 9            ┆ 12          ┆ 0.98         ┆ 0.24         ┆ 0.818 │\n",
       "│ 1003 ┆ It Is Well    ┆ 3:21   ┆ 12           ┆ 30          ┆ 1.0          ┆ 0.6          ┆ 0.81  │\n",
       "│      ┆ With My Soul  ┆        ┆              ┆             ┆              ┆              ┆       │\n",
       "│ 1013 ┆ God's         ┆ 3:06   ┆ 9            ┆ 42          ┆ 0.98         ┆ 0.84         ┆ 0.808 │\n",
       "│      ┆ Gracious Love ┆        ┆              ┆             ┆              ┆              ┆       │\n",
       "│ 147  ┆ Sweet Is the  ┆ 2:39   ┆ 8            ┆ 9           ┆ 0.88         ┆ 0.18         ┆ 0.8   │\n",
       "│      ┆ Work          ┆        ┆              ┆             ┆              ┆              ┆       │\n",
       "│ 137  ┆ Testimony     ┆ 2:13   ┆ 8            ┆ 40          ┆ 0.88         ┆ 0.8          ┆ 0.796 │\n",
       "│ 107  ┆ Lord, Accept  ┆ 3:00   ┆ 6            ┆ 100         ┆ 0.12         ┆ 2.0          ┆ 0.794 │\n",
       "│      ┆ Our True      ┆        ┆              ┆             ┆              ┆              ┆       │\n",
       "│      ┆ Devotion      ┆        ┆              ┆             ┆              ┆              ┆       │\n",
       "│ 221  ┆ Dear to the   ┆ 5:42   ┆ 6            ┆ 100         ┆ 0.12         ┆ 2.0          ┆ 0.794 │\n",
       "│      ┆ Heart of the  ┆        ┆              ┆             ┆              ┆              ┆       │\n",
       "│      ┆ Shepherd      ┆        ┆              ┆             ┆              ┆              ┆       │\n",
       "│ 258  ┆ O Thou Rock   ┆ 3:16   ┆ 6            ┆ 100         ┆ 0.12         ┆ 2.0          ┆ 0.794 │\n",
       "│      ┆ of Our        ┆        ┆              ┆             ┆              ┆              ┆       │\n",
       "│      ┆ Salvation     ┆        ┆              ┆             ┆              ┆              ┆       │\n",
       "│ 30   ┆ Come, Come,   ┆ 3:53   ┆ 9            ┆ 19          ┆ 0.98         ┆ 0.38         ┆ 0.79  │\n",
       "│      ┆ Ye Saints     ┆        ┆              ┆             ┆              ┆              ┆       │\n",
       "│ 76   ┆ God of Our    ┆ 3:51   ┆ 6            ┆ 100         ┆ 0.12         ┆ 2.0          ┆ 0.784 │\n",
       "│      ┆ Fathers, We   ┆        ┆              ┆             ┆              ┆              ┆       │\n",
       "│      ┆ Come unto     ┆        ┆              ┆             ┆              ┆              ┆       │\n",
       "│      ┆ Thee          ┆        ┆              ┆             ┆              ┆              ┆       │\n",
       "│ 21   ┆ Come, Listen  ┆ 3:13   ┆ 7            ┆ 78          ┆ 0.5          ┆ 1.56         ┆ 0.778 │\n",
       "│      ┆ to a          ┆        ┆              ┆             ┆              ┆              ┆       │\n",
       "│      ┆ Prophet's     ┆        ┆              ┆             ┆              ┆              ┆       │\n",
       "│      ┆ Voice         ┆        ┆              ┆             ┆              ┆              ┆       │\n",
       "│ 249  ┆ Called to     ┆ 2:08   ┆ 9            ┆ 22          ┆ 0.98         ┆ 0.44         ┆ 0.778 │\n",
       "│      ┆ Serve         ┆        ┆              ┆             ┆              ┆              ┆       │\n",
       "└──────┴───────────────┴────────┴──────────────┴─────────────┴──────────────┴──────────────┴───────┘"
      ]
     },
     "metadata": {},
     "output_type": "display_data"
    }
   ],
   "source": [
    "general_ranking = get_ranking_score(df, 'is_general', noise=0.15, popularity_weight=0.7)\n",
    "display(general_ranking.head(30))"
   ]
  },
  {
   "attachments": {},
   "cell_type": "markdown",
   "id": "477fa8b3",
   "metadata": {},
   "source": [
    "# Add to History"
   ]
  },
  {
   "cell_type": "code",
   "execution_count": 7,
   "id": "930c85b9",
   "metadata": {},
   "outputs": [
    {
     "ename": "KeyboardInterrupt",
     "evalue": "This is here to stop you from running the whole notebook.",
     "output_type": "error",
     "traceback": [
      "\u001b[0;31m---------------------------------------------------------------------------\u001b[0m",
      "\u001b[0;31mKeyboardInterrupt\u001b[0m                         Traceback (most recent call last)",
      "Cell \u001b[0;32mIn[7], line 1\u001b[0m\n\u001b[0;32m----> 1\u001b[0m \u001b[38;5;28;01mraise\u001b[39;00m \u001b[38;5;167;01mKeyboardInterrupt\u001b[39;00m(\u001b[38;5;124m\"\u001b[39m\u001b[38;5;124mThis is here to stop you from running the whole notebook.\u001b[39m\u001b[38;5;124m\"\u001b[39m)\n",
      "\u001b[0;31mKeyboardInterrupt\u001b[0m: This is here to stop you from running the whole notebook."
     ]
    }
   ],
   "source": [
    "raise KeyboardInterrupt(\"This is here to stop you from running the whole notebook.\")"
   ]
  },
  {
   "cell_type": "code",
   "execution_count": 8,
   "id": "175a466e",
   "metadata": {},
   "outputs": [],
   "source": [
    "def name_from_id(id, trim_parens=False):\n",
    "    name_row = df.filter(pl.col(\"id\") == id).select(\"name\")\n",
    "    if len(name_row) != 1:\n",
    "        raise ValueError(f\"Expected 1 row, got {len(name_row)}\")\n",
    "    name = name_row[\"name\"].item()\n",
    "\n",
    "    if trim_parens:\n",
    "        if name.endswith(\")\") and \"(\" in name:\n",
    "            name = name[:name.rfind(\"(\")].strip()\n",
    "    \n",
    "    return name\n",
    "\n",
    "\n",
    "def format_for_csv(date, opening, sacrament, intermediate, closing):\n",
    "    str_list = []\n",
    "    if opening:\n",
    "        str_list.append(\n",
    "            f\"{date.strftime('%m/%d/%Y')},opening,{opening},\\\"{name_from_id(opening)}\\\"\"\n",
    "        )\n",
    "    if sacrament:\n",
    "        str_list.append(\n",
    "            f\"{date.strftime('%m/%d/%Y')},sacrament,{sacrament},\\\"{name_from_id(sacrament)}\\\"\"\n",
    "        )\n",
    "    if intermediate:\n",
    "        str_list.append(\n",
    "            f\"{date.strftime('%m/%d/%Y')},intermediate,{intermediate},\\\"{name_from_id(intermediate)}\\\"\"\n",
    "        )\n",
    "    if closing:\n",
    "        str_list.append(\n",
    "            f\"{date.strftime('%m/%d/%Y')},closing,{closing},\\\"{name_from_id(closing)}\\\"\"\n",
    "        )\n",
    "    csv_str = \"\\n\".join(str_list)\n",
    "    return csv_str\n",
    "\n",
    "\n",
    "def format_for_paste(opening, sacrament, intermediate, closing):\n",
    "    str_list = []\n",
    "    if opening:\n",
    "        str_list.append(\n",
    "            f\"{opening} - {name_from_id(opening, trim_parens=True)}\",\n",
    "        )\n",
    "    else:\n",
    "        str_list.append(\"~\")\n",
    "    if sacrament:\n",
    "        str_list.append(\n",
    "            f\"{sacrament} - {name_from_id(sacrament, trim_parens=True)}\",\n",
    "        )\n",
    "    else:\n",
    "        str_list.append(\"~\")\n",
    "    if intermediate:\n",
    "        str_list.append(\n",
    "            f\"{intermediate} - {name_from_id(intermediate, trim_parens=True)}\",\n",
    "        )\n",
    "    else:\n",
    "        str_list.append(\"~\")\n",
    "    if closing:\n",
    "        str_list.append(\n",
    "            f\"{closing} - {name_from_id(closing, trim_parens=True)}\",\n",
    "        )\n",
    "    else:\n",
    "        str_list.append(\"~\")\n",
    "    paste_str = \"\\n\".join(str_list)\n",
    "    return paste_str\n",
    "\n",
    "date = dt.date(2025, 9, 7) # EDIT ME!\n",
    "opening = 219\n",
    "sacrament = 173\n",
    "intermediate = None\n",
    "closing = 166"
   ]
  },
  {
   "cell_type": "code",
   "execution_count": 9,
   "id": "1f8248b3",
   "metadata": {},
   "outputs": [
    {
     "name": "stdout",
     "output_type": "stream",
     "text": [
      "Does this look right?\n",
      "09/07/2025,opening,219,\"Because I Have Been Given Much\"\n",
      "09/07/2025,sacrament,173,\"While of These Emblems We Partake (SAUL)\"\n",
      "09/07/2025,closing,166,\"Abide with Me!\"\n"
     ]
    }
   ],
   "source": [
    "csv_str = format_for_csv(date, opening, sacrament, intermediate, closing)\n",
    "print(\"Does this look right?\")\n",
    "print(csv_str)"
   ]
  },
  {
   "cell_type": "code",
   "execution_count": 10,
   "id": "1bc805b4",
   "metadata": {},
   "outputs": [],
   "source": [
    "# Append to history csv\n",
    "with open('history.csv', 'a') as f:\n",
    "    f.write(csv_str)\n",
    "    f.write(\"\\n\")"
   ]
  },
  {
   "cell_type": "code",
   "execution_count": 11,
   "id": "cface9a5",
   "metadata": {},
   "outputs": [
    {
     "name": "stdout",
     "output_type": "stream",
     "text": [
      "219 - Because I Have Been Given Much\n",
      "173 - While of These Emblems We Partake\n",
      "~\n",
      "166 - Abide with Me!\n"
     ]
    }
   ],
   "source": [
    "# In Google Sheets, paste (values only)\n",
    "paste_str = format_for_paste(opening, sacrament, intermediate, closing)\n",
    "print(paste_str)"
   ]
  },
  {
   "cell_type": "code",
   "execution_count": null,
   "id": "5f5843b8",
   "metadata": {},
   "outputs": [],
   "source": []
  }
 ],
 "metadata": {
  "kernelspec": {
   "display_name": "hymn-selector-py3.12",
   "language": "python",
   "name": "python3"
  },
  "language_info": {
   "codemirror_mode": {
    "name": "ipython",
    "version": 3
   },
   "file_extension": ".py",
   "mimetype": "text/x-python",
   "name": "python",
   "nbconvert_exporter": "python",
   "pygments_lexer": "ipython3",
   "version": "3.12.1"
  }
 },
 "nbformat": 4,
 "nbformat_minor": 5
}
