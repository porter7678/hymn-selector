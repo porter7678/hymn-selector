{
 "cells": [
  {
   "attachments": {},
   "cell_type": "markdown",
   "id": "fe153eff-ff7a-4ef4-9869-42c66368dd10",
   "metadata": {},
   "source": [
    "## TODO\n",
    " - Make a list of important dates (holidays, fast sundays, stake conferences)\n",
    " - Add a check for all future-scheduled dates that they don't have any hymns that were sung recently. This would happen if a hymn got changed after the schedule was made."
   ]
  },
  {
   "attachments": {},
   "cell_type": "markdown",
   "id": "5a0e8093",
   "metadata": {},
   "source": [
    "# Steps to use:\n",
    " 1. Make sure the history is accurate for the past few weeks\n",
    " 2. Check if there are any holidays, fast sundays, or special meetings coming up\n",
    " 3. Run most of the notebook to generate suggestions\n",
    " 4. Select hymns, enter on Edify\n",
    " 5. Add selected hymns to history\n",
    " 6. Add hymns to Gospel Library\n",
    " 7. Update ward program, if needed, using Gospel Library as reference\n"
   ]
  },
  {
   "cell_type": "code",
   "execution_count": 1,
   "id": "b3502914-dbad-43f8-a504-99b09d89e2f2",
   "metadata": {},
   "outputs": [
    {
     "data": {
      "text/plain": [
       "polars.config.Config"
      ]
     },
     "execution_count": 1,
     "metadata": {},
     "output_type": "execute_result"
    }
   ],
   "source": [
    "import datetime as dt\n",
    "\n",
    "import numpy as np\n",
    "import polars as pl\n",
    "\n",
    "pl.Config().set_tbl_rows(30)\n",
    "pl.Config().set_fmt_str_lengths(50)"
   ]
  },
  {
   "cell_type": "code",
   "execution_count": 2,
   "id": "b0f87709",
   "metadata": {},
   "outputs": [],
   "source": [
    "def load_history() -> pl.DataFrame:\n",
    "    history_df = pl.read_csv('history.csv', infer_schema_length=None)\n",
    "    history_df = history_df.with_columns(\n",
    "        pl.col(\"date\").str.strptime(pl.Date, \"%m/%d/%Y\").alias(\"date\"),\n",
    "    ).drop('name').drop_nulls()\n",
    "    return history_df\n",
    "\n",
    "def error_check_history() -> None:\n",
    "    \"\"\"Check that no future dates are duplicates with any dates since 8 weeks ago.\"\"\"\n",
    "    history_df = load_history()\n",
    "    num_weeks_cutoff = 8\n",
    "    today = dt.datetime.today().date()\n",
    "    lookback_date = today - dt.timedelta(days=7 * num_weeks_cutoff)\n",
    "    recent_and_future_history = history_df.filter(pl.col(\"date\") >= lookback_date)\n",
    "    value_counts = recent_and_future_history[\"id\"].value_counts()\n",
    "    recent_and_future_history = recent_and_future_history.join(\n",
    "        value_counts, on=\"id\", how=\"left\"\n",
    "    ).rename({\"count\": \"recent_count\"})\n",
    "\n",
    "    future_history = recent_and_future_history.filter(pl.col(\"date\") >= today)\n",
    "    duplicates = future_history.filter(pl.col(\"recent_count\") > 1)\n",
    "    if len(duplicates) > 0:\n",
    "        display(duplicates)\n",
    "        print(\">>> WARNING! DUPLICATES FOUND! <<<\\n\")\n",
    "\n",
    "def add_last_sung_col(df):\n",
    "    history_df = load_history()\n",
    "    last_sung = history_df.group_by('id').agg(pl.max('date').alias('last_sung'))\n",
    "    df = df.join(last_sung, on='id', how='left')\n",
    "    return df\n",
    "\n",
    "\n",
    "def get_ranking_score(df: pl.DataFrame, type_col: str, popularity_weight=0.5, noise=0.0) -> pl.Series:\n",
    "    score_df = df.filter((pl.col(type_col) == 1) & (pl.col('flagged').fill_null(0) != 1))\n",
    "    weeks_since_fill_value = 100\n",
    "    # Add days since last sung column\n",
    "    score_df = score_df.with_columns(\n",
    "        ((pl.lit(dt.datetime.today()) - pl.col('last_sung')).dt.total_days()//7)\n",
    "        .fill_null(weeks_since_fill_value)\n",
    "        .alias('weeks_since')\n",
    "    )\n",
    "\n",
    "    midpoint = 7\n",
    "    slope = 2\n",
    "\n",
    "    def popularity_func(x): return np.round(\n",
    "        1 / (1 + np.exp(-slope * (x - midpoint))), 2)\n",
    "    weeks_cutoff = 8\n",
    "    score_df = score_df.with_columns((pl.col('popularity') + pl.col('popularity_adjustment').fill_null(0)).alias('adj_popularity'))\n",
    "    score_df = score_df.with_columns(\n",
    "        pl.col('adj_popularity').map_elements(popularity_func).alias('popularity_score'),\n",
    "        pl.when(pl.col('weeks_since') > weeks_cutoff)\n",
    "        .then((pl.col('weeks_since') / (weeks_since_fill_value/2)).round(3))\n",
    "        .otherwise(-100).alias('weeks_since_score'),\n",
    "        pl.Series(np.round(np.random.uniform(-noise, noise,\n",
    "                  len(score_df)), 2)).alias('noise'),\n",
    "    ).with_columns(\n",
    "        (pl.col('popularity_score') * popularity_weight + pl.col('weeks_since_score')\n",
    "         * (1 - popularity_weight)).alias('score') + pl.col('noise')\n",
    "    )\n",
    "\n",
    "    score_df = score_df.select([\n",
    "        'id', 'name', 'length', 'adj_popularity', 'weeks_since', 'popularity_score', 'weeks_since_score', 'score'\n",
    "    ]).sort('score', descending=True)\n",
    "\n",
    "    return score_df"
   ]
  },
  {
   "cell_type": "code",
   "execution_count": 3,
   "id": "e60d50c3",
   "metadata": {},
   "outputs": [],
   "source": [
    "error_check_history()\n",
    "df = pl.read_csv(\"hymns.csv\")\n",
    "df = add_last_sung_col(df)"
   ]
  },
  {
   "attachments": {},
   "cell_type": "markdown",
   "id": "65fc7e07",
   "metadata": {},
   "source": [
    "## Sacrament Hymn"
   ]
  },
  {
   "cell_type": "code",
   "execution_count": 4,
   "id": "092bf52d",
   "metadata": {},
   "outputs": [
    {
     "data": {
      "text/html": [
       "<div><style>\n",
       ".dataframe > thead > tr,\n",
       ".dataframe > tbody > tr {\n",
       "  text-align: right;\n",
       "  white-space: pre-wrap;\n",
       "}\n",
       "</style>\n",
       "<small>shape: (10, 8)</small><table border=\"1\" class=\"dataframe\"><thead><tr><th>id</th><th>name</th><th>length</th><th>adj_popularity</th><th>weeks_since</th><th>popularity_score</th><th>weeks_since_score</th><th>score</th></tr><tr><td>i64</td><td>str</td><td>str</td><td>i64</td><td>i64</td><td>f64</td><td>f64</td><td>f64</td></tr></thead><tbody><tr><td>185</td><td>&quot;Reverently and Meekly Now&quot;</td><td>&quot;5:06&quot;</td><td>8</td><td>38</td><td>0.88</td><td>0.76</td><td>0.89</td></tr><tr><td>169</td><td>&quot;As Now We Take the Sacrament&quot;</td><td>&quot;3:01&quot;</td><td>10</td><td>26</td><td>1.0</td><td>0.52</td><td>0.85</td></tr><tr><td>174</td><td>&quot;While of These Emblems We Partake (AEOLIAN)&quot;</td><td>&quot;3:05&quot;</td><td>10</td><td>14</td><td>1.0</td><td>0.28</td><td>0.73</td></tr><tr><td>197</td><td>&quot;O Savior, Thou Who Wearest a Crown&quot;</td><td>&quot;4:16&quot;</td><td>6</td><td>63</td><td>0.12</td><td>1.26</td><td>0.7</td></tr><tr><td>176</td><td>&quot;Tis Sweet to Sing the Matchless Love (MEREDITH)&quot;</td><td>&quot;2:55&quot;</td><td>10</td><td>22</td><td>1.0</td><td>0.44</td><td>0.68</td></tr><tr><td>186</td><td>&quot;Again We Meet around the Board&quot;</td><td>&quot;2:57&quot;</td><td>8</td><td>27</td><td>0.88</td><td>0.54</td><td>0.66</td></tr><tr><td>195</td><td>&quot;How Great the Wisdom and the Love&quot;</td><td>&quot;3:57&quot;</td><td>10</td><td>19</td><td>1.0</td><td>0.38</td><td>0.66</td></tr><tr><td>184</td><td>&quot;Upon the Cross of Calvary&quot;</td><td>&quot;1:50&quot;</td><td>10</td><td>23</td><td>1.0</td><td>0.46</td><td>0.63</td></tr><tr><td>178</td><td>&quot;O Lord of Hosts&quot;</td><td>&quot;2:12&quot;</td><td>9</td><td>12</td><td>0.98</td><td>0.24</td><td>0.62</td></tr><tr><td>192</td><td>&quot;He Died! The Great Redeemer Died&quot;</td><td>&quot;3:05&quot;</td><td>10</td><td>16</td><td>1.0</td><td>0.32</td><td>0.62</td></tr></tbody></table></div>"
      ],
      "text/plain": [
       "shape: (10, 8)\n",
       "┌─────┬───────────────┬────────┬───────────────┬─────────────┬──────────────┬──────────────┬───────┐\n",
       "│ id  ┆ name          ┆ length ┆ adj_popularit ┆ weeks_since ┆ popularity_s ┆ weeks_since_ ┆ score │\n",
       "│ --- ┆ ---           ┆ ---    ┆ y             ┆ ---         ┆ core         ┆ score        ┆ ---   │\n",
       "│ i64 ┆ str           ┆ str    ┆ ---           ┆ i64         ┆ ---          ┆ ---          ┆ f64   │\n",
       "│     ┆               ┆        ┆ i64           ┆             ┆ f64          ┆ f64          ┆       │\n",
       "╞═════╪═══════════════╪════════╪═══════════════╪═════════════╪══════════════╪══════════════╪═══════╡\n",
       "│ 185 ┆ Reverently    ┆ 5:06   ┆ 8             ┆ 38          ┆ 0.88         ┆ 0.76         ┆ 0.89  │\n",
       "│     ┆ and Meekly    ┆        ┆               ┆             ┆              ┆              ┆       │\n",
       "│     ┆ Now           ┆        ┆               ┆             ┆              ┆              ┆       │\n",
       "│ 169 ┆ As Now We     ┆ 3:01   ┆ 10            ┆ 26          ┆ 1.0          ┆ 0.52         ┆ 0.85  │\n",
       "│     ┆ Take the      ┆        ┆               ┆             ┆              ┆              ┆       │\n",
       "│     ┆ Sacrament     ┆        ┆               ┆             ┆              ┆              ┆       │\n",
       "│ 174 ┆ While of      ┆ 3:05   ┆ 10            ┆ 14          ┆ 1.0          ┆ 0.28         ┆ 0.73  │\n",
       "│     ┆ These Emblems ┆        ┆               ┆             ┆              ┆              ┆       │\n",
       "│     ┆ We Partake    ┆        ┆               ┆             ┆              ┆              ┆       │\n",
       "│     ┆ (AEOLIAN)     ┆        ┆               ┆             ┆              ┆              ┆       │\n",
       "│ 197 ┆ O Savior,     ┆ 4:16   ┆ 6             ┆ 63          ┆ 0.12         ┆ 1.26         ┆ 0.7   │\n",
       "│     ┆ Thou Who      ┆        ┆               ┆             ┆              ┆              ┆       │\n",
       "│     ┆ Wearest a     ┆        ┆               ┆             ┆              ┆              ┆       │\n",
       "│     ┆ Crown         ┆        ┆               ┆             ┆              ┆              ┆       │\n",
       "│ 176 ┆ Tis Sweet to  ┆ 2:55   ┆ 10            ┆ 22          ┆ 1.0          ┆ 0.44         ┆ 0.68  │\n",
       "│     ┆ Sing the      ┆        ┆               ┆             ┆              ┆              ┆       │\n",
       "│     ┆ Matchless     ┆        ┆               ┆             ┆              ┆              ┆       │\n",
       "│     ┆ Love          ┆        ┆               ┆             ┆              ┆              ┆       │\n",
       "│     ┆ (MEREDITH)    ┆        ┆               ┆             ┆              ┆              ┆       │\n",
       "│ 186 ┆ Again We Meet ┆ 2:57   ┆ 8             ┆ 27          ┆ 0.88         ┆ 0.54         ┆ 0.66  │\n",
       "│     ┆ around the    ┆        ┆               ┆             ┆              ┆              ┆       │\n",
       "│     ┆ Board         ┆        ┆               ┆             ┆              ┆              ┆       │\n",
       "│ 195 ┆ How Great the ┆ 3:57   ┆ 10            ┆ 19          ┆ 1.0          ┆ 0.38         ┆ 0.66  │\n",
       "│     ┆ Wisdom and    ┆        ┆               ┆             ┆              ┆              ┆       │\n",
       "│     ┆ the Love      ┆        ┆               ┆             ┆              ┆              ┆       │\n",
       "│ 184 ┆ Upon the      ┆ 1:50   ┆ 10            ┆ 23          ┆ 1.0          ┆ 0.46         ┆ 0.63  │\n",
       "│     ┆ Cross of      ┆        ┆               ┆             ┆              ┆              ┆       │\n",
       "│     ┆ Calvary       ┆        ┆               ┆             ┆              ┆              ┆       │\n",
       "│ 178 ┆ O Lord of     ┆ 2:12   ┆ 9             ┆ 12          ┆ 0.98         ┆ 0.24         ┆ 0.62  │\n",
       "│     ┆ Hosts         ┆        ┆               ┆             ┆              ┆              ┆       │\n",
       "│ 192 ┆ He Died! The  ┆ 3:05   ┆ 10            ┆ 16          ┆ 1.0          ┆ 0.32         ┆ 0.62  │\n",
       "│     ┆ Great         ┆        ┆               ┆             ┆              ┆              ┆       │\n",
       "│     ┆ Redeemer Died ┆        ┆               ┆             ┆              ┆              ┆       │\n",
       "└─────┴───────────────┴────────┴───────────────┴─────────────┴──────────────┴──────────────┴───────┘"
      ]
     },
     "metadata": {},
     "output_type": "display_data"
    }
   ],
   "source": [
    "sacrament_ranking = get_ranking_score(df, 'is_sacrament', noise=0.1)\n",
    "display(sacrament_ranking.head(10))"
   ]
  },
  {
   "attachments": {},
   "cell_type": "markdown",
   "id": "0f84e2cb",
   "metadata": {},
   "source": [
    "## General Hymns"
   ]
  },
  {
   "cell_type": "code",
   "execution_count": 5,
   "id": "eb1890f3",
   "metadata": {},
   "outputs": [
    {
     "data": {
      "text/html": [
       "<div><style>\n",
       ".dataframe > thead > tr,\n",
       ".dataframe > tbody > tr {\n",
       "  text-align: right;\n",
       "  white-space: pre-wrap;\n",
       "}\n",
       "</style>\n",
       "<small>shape: (30, 8)</small><table border=\"1\" class=\"dataframe\"><thead><tr><th>id</th><th>name</th><th>length</th><th>adj_popularity</th><th>weeks_since</th><th>popularity_score</th><th>weeks_since_score</th><th>score</th></tr><tr><td>i64</td><td>str</td><td>str</td><td>i64</td><td>i64</td><td>f64</td><td>f64</td><td>f64</td></tr></thead><tbody><tr><td>85</td><td>&quot;How Firm a Foundation&quot;</td><td>&quot;2:42&quot;</td><td>10</td><td>26</td><td>1.0</td><td>0.52</td><td>0.936</td></tr><tr><td>220</td><td>&quot;Lord, I Would Follow Thee&quot;</td><td>&quot;3:01&quot;</td><td>10</td><td>17</td><td>1.0</td><td>0.34</td><td>0.902</td></tr><tr><td>227</td><td>&quot;There Is Sunshine in My Soul Today&quot;</td><td>&quot;3:12&quot;</td><td>9</td><td>32</td><td>0.98</td><td>0.64</td><td>0.898</td></tr><tr><td>139</td><td>&quot;In Fasting We Approach Thee&quot;</td><td>&quot;2:31&quot;</td><td>8</td><td>30</td><td>0.88</td><td>0.6</td><td>0.896</td></tr><tr><td>277</td><td>&quot;As I Search the Holy Scriptures&quot;</td><td>&quot;2:16&quot;</td><td>8</td><td>44</td><td>0.88</td><td>0.88</td><td>0.89</td></tr><tr><td>274</td><td>&quot;The Iron Rod&quot;</td><td>&quot;2:36&quot;</td><td>9</td><td>9</td><td>0.98</td><td>0.18</td><td>0.87</td></tr><tr><td>143</td><td>&quot;Let the Holy Spirit Guide&quot;</td><td>null</td><td>8</td><td>26</td><td>0.88</td><td>0.52</td><td>0.862</td></tr><tr><td>106</td><td>&quot;God Speed the Right&quot;</td><td>&quot;1:47&quot;</td><td>7</td><td>68</td><td>0.5</td><td>1.36</td><td>0.848</td></tr><tr><td>97</td><td>&quot;Lead, Kindly Light&quot;</td><td>&quot;3:12&quot;</td><td>9</td><td>11</td><td>0.98</td><td>0.22</td><td>0.832</td></tr><tr><td>163</td><td>&quot;Lord, Dismiss Us with Thy Blessing&quot;</td><td>&quot;1:40&quot;</td><td>7</td><td>65</td><td>0.5</td><td>1.3</td><td>0.82</td></tr><tr><td>100</td><td>&quot;Nearer, My God, To Thee&quot;</td><td>&quot;3:12&quot;</td><td>8</td><td>12</td><td>0.88</td><td>0.24</td><td>0.818</td></tr><tr><td>96</td><td>&quot;Dearest Children, God Is Near You&quot;</td><td>&quot;2:50&quot;</td><td>8</td><td>10</td><td>0.88</td><td>0.2</td><td>0.816</td></tr><tr><td>221</td><td>&quot;Dear to the Heart of the Shepherd&quot;</td><td>&quot;5:42&quot;</td><td>6</td><td>100</td><td>0.12</td><td>2.0</td><td>0.814</td></tr><tr><td>292</td><td>&quot;O My Father&quot;</td><td>&quot;4:25&quot;</td><td>8</td><td>46</td><td>0.88</td><td>0.92</td><td>0.812</td></tr><tr><td>130</td><td>&quot;Be Thou Humble&quot;</td><td>&quot;1:56&quot;</td><td>7</td><td>66</td><td>0.5</td><td>1.32</td><td>0.806</td></tr><tr><td>270</td><td>&quot;I&#x27;ll Go Where You Want Me to Go&quot;</td><td>&quot;4:42&quot;</td><td>9</td><td>15</td><td>0.98</td><td>0.3</td><td>0.806</td></tr><tr><td>133</td><td>&quot;Father in Heaven&quot;</td><td>&quot;2:41&quot;</td><td>6</td><td>100</td><td>0.12</td><td>2.0</td><td>0.804</td></tr><tr><td>230</td><td>&quot;Scatter Sunshine&quot;</td><td>&quot;2:48&quot;</td><td>6</td><td>100</td><td>0.12</td><td>2.0</td><td>0.804</td></tr><tr><td>251</td><td>&quot;Behold! A Royal Army&quot;</td><td>&quot;3:20&quot;</td><td>6</td><td>100</td><td>0.12</td><td>2.0</td><td>0.804</td></tr><tr><td>249</td><td>&quot;Called to Serve&quot;</td><td>&quot;2:08&quot;</td><td>9</td><td>14</td><td>0.98</td><td>0.28</td><td>0.8</td></tr><tr><td>108</td><td>&quot;The Lord Is My Shepherd&quot;</td><td>&quot;3:12&quot;</td><td>6</td><td>100</td><td>0.12</td><td>2.0</td><td>0.794</td></tr><tr><td>134</td><td>&quot;I Believe in Christ&quot;</td><td>&quot;5:00&quot;</td><td>8</td><td>43</td><td>0.88</td><td>0.86</td><td>0.794</td></tr><tr><td>116</td><td>&quot;Come, Follow Me&quot;</td><td>&quot;2:48&quot;</td><td>10</td><td>32</td><td>1.0</td><td>0.64</td><td>0.792</td></tr><tr><td>298</td><td>&quot;Home Can Be a Heaven on Earth&quot;</td><td>&quot;2:38&quot;</td><td>9</td><td>32</td><td>0.98</td><td>0.64</td><td>0.788</td></tr><tr><td>84</td><td>&quot;Faith of Our Fathers&quot;</td><td>&quot;2:43&quot;</td><td>6</td><td>100</td><td>0.12</td><td>2.0</td><td>0.784</td></tr><tr><td>105</td><td>&quot;Master, the Tempest Is Raging&quot;</td><td>&quot;4:13&quot;</td><td>8</td><td>27</td><td>0.88</td><td>0.54</td><td>0.778</td></tr><tr><td>153</td><td>&quot;Lord, We Ask Thee Ere We Part&quot;</td><td>&quot;2:16&quot;</td><td>7</td><td>61</td><td>0.5</td><td>1.22</td><td>0.776</td></tr><tr><td>9</td><td>&quot;Come, Rejoice&quot;</td><td>&quot;2:34&quot;</td><td>6</td><td>100</td><td>0.12</td><td>2.0</td><td>0.774</td></tr><tr><td>5</td><td>&quot;High on the Mountain Top&quot;</td><td>&quot;2:33&quot;</td><td>10</td><td>17</td><td>1.0</td><td>0.34</td><td>0.772</td></tr><tr><td>102</td><td>&quot;Jesus, Lover of My Soul&quot;</td><td>&quot;2:06&quot;</td><td>5</td><td>100</td><td>0.02</td><td>2.0</td><td>0.764</td></tr></tbody></table></div>"
      ],
      "text/plain": [
       "shape: (30, 8)\n",
       "┌─────┬───────────────┬────────┬───────────────┬─────────────┬──────────────┬──────────────┬───────┐\n",
       "│ id  ┆ name          ┆ length ┆ adj_popularit ┆ weeks_since ┆ popularity_s ┆ weeks_since_ ┆ score │\n",
       "│ --- ┆ ---           ┆ ---    ┆ y             ┆ ---         ┆ core         ┆ score        ┆ ---   │\n",
       "│ i64 ┆ str           ┆ str    ┆ ---           ┆ i64         ┆ ---          ┆ ---          ┆ f64   │\n",
       "│     ┆               ┆        ┆ i64           ┆             ┆ f64          ┆ f64          ┆       │\n",
       "╞═════╪═══════════════╪════════╪═══════════════╪═════════════╪══════════════╪══════════════╪═══════╡\n",
       "│ 85  ┆ How Firm a    ┆ 2:42   ┆ 10            ┆ 26          ┆ 1.0          ┆ 0.52         ┆ 0.936 │\n",
       "│     ┆ Foundation    ┆        ┆               ┆             ┆              ┆              ┆       │\n",
       "│ 220 ┆ Lord, I Would ┆ 3:01   ┆ 10            ┆ 17          ┆ 1.0          ┆ 0.34         ┆ 0.902 │\n",
       "│     ┆ Follow Thee   ┆        ┆               ┆             ┆              ┆              ┆       │\n",
       "│ 227 ┆ There Is      ┆ 3:12   ┆ 9             ┆ 32          ┆ 0.98         ┆ 0.64         ┆ 0.898 │\n",
       "│     ┆ Sunshine in   ┆        ┆               ┆             ┆              ┆              ┆       │\n",
       "│     ┆ My Soul Today ┆        ┆               ┆             ┆              ┆              ┆       │\n",
       "│ 139 ┆ In Fasting We ┆ 2:31   ┆ 8             ┆ 30          ┆ 0.88         ┆ 0.6          ┆ 0.896 │\n",
       "│     ┆ Approach Thee ┆        ┆               ┆             ┆              ┆              ┆       │\n",
       "│ 277 ┆ As I Search   ┆ 2:16   ┆ 8             ┆ 44          ┆ 0.88         ┆ 0.88         ┆ 0.89  │\n",
       "│     ┆ the Holy      ┆        ┆               ┆             ┆              ┆              ┆       │\n",
       "│     ┆ Scriptures    ┆        ┆               ┆             ┆              ┆              ┆       │\n",
       "│ 274 ┆ The Iron Rod  ┆ 2:36   ┆ 9             ┆ 9           ┆ 0.98         ┆ 0.18         ┆ 0.87  │\n",
       "│ 143 ┆ Let the Holy  ┆ null   ┆ 8             ┆ 26          ┆ 0.88         ┆ 0.52         ┆ 0.862 │\n",
       "│     ┆ Spirit Guide  ┆        ┆               ┆             ┆              ┆              ┆       │\n",
       "│ 106 ┆ God Speed the ┆ 1:47   ┆ 7             ┆ 68          ┆ 0.5          ┆ 1.36         ┆ 0.848 │\n",
       "│     ┆ Right         ┆        ┆               ┆             ┆              ┆              ┆       │\n",
       "│ 97  ┆ Lead, Kindly  ┆ 3:12   ┆ 9             ┆ 11          ┆ 0.98         ┆ 0.22         ┆ 0.832 │\n",
       "│     ┆ Light         ┆        ┆               ┆             ┆              ┆              ┆       │\n",
       "│ 163 ┆ Lord, Dismiss ┆ 1:40   ┆ 7             ┆ 65          ┆ 0.5          ┆ 1.3          ┆ 0.82  │\n",
       "│     ┆ Us with Thy   ┆        ┆               ┆             ┆              ┆              ┆       │\n",
       "│     ┆ Blessing      ┆        ┆               ┆             ┆              ┆              ┆       │\n",
       "│ 100 ┆ Nearer, My    ┆ 3:12   ┆ 8             ┆ 12          ┆ 0.88         ┆ 0.24         ┆ 0.818 │\n",
       "│     ┆ God, To Thee  ┆        ┆               ┆             ┆              ┆              ┆       │\n",
       "│ 96  ┆ Dearest       ┆ 2:50   ┆ 8             ┆ 10          ┆ 0.88         ┆ 0.2          ┆ 0.816 │\n",
       "│     ┆ Children, God ┆        ┆               ┆             ┆              ┆              ┆       │\n",
       "│     ┆ Is Near You   ┆        ┆               ┆             ┆              ┆              ┆       │\n",
       "│ 221 ┆ Dear to the   ┆ 5:42   ┆ 6             ┆ 100         ┆ 0.12         ┆ 2.0          ┆ 0.814 │\n",
       "│     ┆ Heart of the  ┆        ┆               ┆             ┆              ┆              ┆       │\n",
       "│     ┆ Shepherd      ┆        ┆               ┆             ┆              ┆              ┆       │\n",
       "│ 292 ┆ O My Father   ┆ 4:25   ┆ 8             ┆ 46          ┆ 0.88         ┆ 0.92         ┆ 0.812 │\n",
       "│ 130 ┆ Be Thou       ┆ 1:56   ┆ 7             ┆ 66          ┆ 0.5          ┆ 1.32         ┆ 0.806 │\n",
       "│     ┆ Humble        ┆        ┆               ┆             ┆              ┆              ┆       │\n",
       "│ 270 ┆ I'll Go Where ┆ 4:42   ┆ 9             ┆ 15          ┆ 0.98         ┆ 0.3          ┆ 0.806 │\n",
       "│     ┆ You Want Me   ┆        ┆               ┆             ┆              ┆              ┆       │\n",
       "│     ┆ to Go         ┆        ┆               ┆             ┆              ┆              ┆       │\n",
       "│ 133 ┆ Father in     ┆ 2:41   ┆ 6             ┆ 100         ┆ 0.12         ┆ 2.0          ┆ 0.804 │\n",
       "│     ┆ Heaven        ┆        ┆               ┆             ┆              ┆              ┆       │\n",
       "│ 230 ┆ Scatter       ┆ 2:48   ┆ 6             ┆ 100         ┆ 0.12         ┆ 2.0          ┆ 0.804 │\n",
       "│     ┆ Sunshine      ┆        ┆               ┆             ┆              ┆              ┆       │\n",
       "│ 251 ┆ Behold! A     ┆ 3:20   ┆ 6             ┆ 100         ┆ 0.12         ┆ 2.0          ┆ 0.804 │\n",
       "│     ┆ Royal Army    ┆        ┆               ┆             ┆              ┆              ┆       │\n",
       "│ 249 ┆ Called to     ┆ 2:08   ┆ 9             ┆ 14          ┆ 0.98         ┆ 0.28         ┆ 0.8   │\n",
       "│     ┆ Serve         ┆        ┆               ┆             ┆              ┆              ┆       │\n",
       "│ 108 ┆ The Lord Is   ┆ 3:12   ┆ 6             ┆ 100         ┆ 0.12         ┆ 2.0          ┆ 0.794 │\n",
       "│     ┆ My Shepherd   ┆        ┆               ┆             ┆              ┆              ┆       │\n",
       "│ 134 ┆ I Believe in  ┆ 5:00   ┆ 8             ┆ 43          ┆ 0.88         ┆ 0.86         ┆ 0.794 │\n",
       "│     ┆ Christ        ┆        ┆               ┆             ┆              ┆              ┆       │\n",
       "│ 116 ┆ Come, Follow  ┆ 2:48   ┆ 10            ┆ 32          ┆ 1.0          ┆ 0.64         ┆ 0.792 │\n",
       "│     ┆ Me            ┆        ┆               ┆             ┆              ┆              ┆       │\n",
       "│ 298 ┆ Home Can Be a ┆ 2:38   ┆ 9             ┆ 32          ┆ 0.98         ┆ 0.64         ┆ 0.788 │\n",
       "│     ┆ Heaven on     ┆        ┆               ┆             ┆              ┆              ┆       │\n",
       "│     ┆ Earth         ┆        ┆               ┆             ┆              ┆              ┆       │\n",
       "│ 84  ┆ Faith of Our  ┆ 2:43   ┆ 6             ┆ 100         ┆ 0.12         ┆ 2.0          ┆ 0.784 │\n",
       "│     ┆ Fathers       ┆        ┆               ┆             ┆              ┆              ┆       │\n",
       "│ 105 ┆ Master, the   ┆ 4:13   ┆ 8             ┆ 27          ┆ 0.88         ┆ 0.54         ┆ 0.778 │\n",
       "│     ┆ Tempest Is    ┆        ┆               ┆             ┆              ┆              ┆       │\n",
       "│     ┆ Raging        ┆        ┆               ┆             ┆              ┆              ┆       │\n",
       "│ 153 ┆ Lord, We Ask  ┆ 2:16   ┆ 7             ┆ 61          ┆ 0.5          ┆ 1.22         ┆ 0.776 │\n",
       "│     ┆ Thee Ere We   ┆        ┆               ┆             ┆              ┆              ┆       │\n",
       "│     ┆ Part          ┆        ┆               ┆             ┆              ┆              ┆       │\n",
       "│ 9   ┆ Come, Rejoice ┆ 2:34   ┆ 6             ┆ 100         ┆ 0.12         ┆ 2.0          ┆ 0.774 │\n",
       "│ 5   ┆ High on the   ┆ 2:33   ┆ 10            ┆ 17          ┆ 1.0          ┆ 0.34         ┆ 0.772 │\n",
       "│     ┆ Mountain Top  ┆        ┆               ┆             ┆              ┆              ┆       │\n",
       "│ 102 ┆ Jesus, Lover  ┆ 2:06   ┆ 5             ┆ 100         ┆ 0.02         ┆ 2.0          ┆ 0.764 │\n",
       "│     ┆ of My Soul    ┆        ┆               ┆             ┆              ┆              ┆       │\n",
       "└─────┴───────────────┴────────┴───────────────┴─────────────┴──────────────┴──────────────┴───────┘"
      ]
     },
     "metadata": {},
     "output_type": "display_data"
    }
   ],
   "source": [
    "general_ranking = get_ranking_score(df, 'is_general', noise=0.15, popularity_weight=0.7)\n",
    "display(general_ranking.head(30))"
   ]
  },
  {
   "attachments": {},
   "cell_type": "markdown",
   "id": "477fa8b3",
   "metadata": {},
   "source": [
    "# Add to History"
   ]
  },
  {
   "cell_type": "code",
   "execution_count": 6,
   "id": "930c85b9",
   "metadata": {},
   "outputs": [
    {
     "ename": "KeyboardInterrupt",
     "evalue": "This is here to stop you from running the whole notebook.",
     "output_type": "error",
     "traceback": [
      "\u001b[0;31m---------------------------------------------------------------------------\u001b[0m",
      "\u001b[0;31mKeyboardInterrupt\u001b[0m                         Traceback (most recent call last)",
      "Cell \u001b[0;32mIn[6], line 1\u001b[0m\n\u001b[0;32m----> 1\u001b[0m \u001b[38;5;28;01mraise\u001b[39;00m \u001b[38;5;167;01mKeyboardInterrupt\u001b[39;00m(\u001b[38;5;124m\"\u001b[39m\u001b[38;5;124mThis is here to stop you from running the whole notebook.\u001b[39m\u001b[38;5;124m\"\u001b[39m)\n",
      "\u001b[0;31mKeyboardInterrupt\u001b[0m: This is here to stop you from running the whole notebook."
     ]
    }
   ],
   "source": [
    "raise KeyboardInterrupt(\"This is here to stop you from running the whole notebook.\")"
   ]
  },
  {
   "cell_type": "code",
   "execution_count": 11,
   "id": "175a466e",
   "metadata": {},
   "outputs": [],
   "source": [
    "def name_from_id(id, trim_parens=False):\n",
    "    name_row = df.filter(pl.col(\"id\") == id).select(\"name\")\n",
    "    if len(name_row) != 1:\n",
    "        raise ValueError(f\"Expected 1 row, got {len(name_row)}\")\n",
    "    name = name_row[\"name\"].item()\n",
    "\n",
    "    if trim_parens:\n",
    "        if name.endswith(\")\") and \"(\" in name:\n",
    "            name = name[:name.rfind(\"(\")].strip()\n",
    "    \n",
    "    return name\n",
    "\n",
    "\n",
    "def format_for_csv(date, opening, sacrament, intermediate, closing):\n",
    "    str_list = []\n",
    "    if opening:\n",
    "        str_list.append(\n",
    "            f\"{date.strftime('%m/%d/%Y')},opening,{opening},\\\"{name_from_id(opening)}\\\"\"\n",
    "        )\n",
    "    if sacrament:\n",
    "        str_list.append(\n",
    "            f\"{date.strftime('%m/%d/%Y')},sacrament,{sacrament},\\\"{name_from_id(sacrament)}\\\"\"\n",
    "        )\n",
    "    if intermediate:\n",
    "        str_list.append(\n",
    "            f\"{date.strftime('%m/%d/%Y')},intermediate,{intermediate},\\\"{name_from_id(intermediate)}\\\"\"\n",
    "        )\n",
    "    if closing:\n",
    "        str_list.append(\n",
    "            f\"{date.strftime('%m/%d/%Y')},closing,{closing},\\\"{name_from_id(closing)}\\\"\"\n",
    "        )\n",
    "    csv_str = \"\\n\".join(str_list)\n",
    "    return csv_str\n",
    "\n",
    "\n",
    "def format_for_paste(opening, sacrament, intermediate, closing):\n",
    "    str_list = []\n",
    "    if opening:\n",
    "        str_list.append(\n",
    "            f\"{opening} - {name_from_id(opening, trim_parens=True)}\",\n",
    "        )\n",
    "    else:\n",
    "        str_list.append(\"~\")\n",
    "    if sacrament:\n",
    "        str_list.append(\n",
    "            f\"{sacrament} - {name_from_id(sacrament, trim_parens=True)}\",\n",
    "        )\n",
    "    else:\n",
    "        str_list.append(\"~\")\n",
    "    if intermediate:\n",
    "        str_list.append(\n",
    "            f\"{intermediate} - {name_from_id(intermediate, trim_parens=True)}\",\n",
    "        )\n",
    "    else:\n",
    "        str_list.append(\"~\")\n",
    "    if closing:\n",
    "        str_list.append(\n",
    "            f\"{closing} - {name_from_id(closing, trim_parens=True)}\",\n",
    "        )\n",
    "    else:\n",
    "        str_list.append(\"~\")\n",
    "    paste_str = \"\\n\".join(str_list)\n",
    "    return paste_str\n",
    "\n",
    "date = dt.date(2024, 6, 2) # EDIT ME!\n",
    "opening = 139\n",
    "sacrament = 169\n",
    "intermediate = None\n",
    "closing = 277"
   ]
  },
  {
   "cell_type": "code",
   "execution_count": 8,
   "id": "1f8248b3",
   "metadata": {},
   "outputs": [
    {
     "name": "stdout",
     "output_type": "stream",
     "text": [
      "Does this look right?\n",
      "06/02/2024,opening,139,\"In Fasting We Approach Thee\"\n",
      "06/02/2024,sacrament,169,\"As Now We Take the Sacrament\"\n",
      "06/02/2024,closing,277,\"As I Search the Holy Scriptures\"\n"
     ]
    }
   ],
   "source": [
    "csv_str = format_for_csv(date, opening, sacrament, intermediate, closing)\n",
    "print(\"Does this look right?\")\n",
    "print(csv_str)"
   ]
  },
  {
   "cell_type": "code",
   "execution_count": 9,
   "id": "1bc805b4",
   "metadata": {},
   "outputs": [],
   "source": [
    "# Append to history csv\n",
    "with open('history.csv', 'a') as f:\n",
    "    f.write(csv_str)\n",
    "    f.write(\"\\n\")"
   ]
  },
  {
   "cell_type": "code",
   "execution_count": 12,
   "id": "cface9a5",
   "metadata": {},
   "outputs": [
    {
     "name": "stdout",
     "output_type": "stream",
     "text": [
      "139 - In Fasting We Approach Thee\n",
      "169 - As Now We Take the Sacrament\n",
      "~\n",
      "277 - As I Search the Holy Scriptures\n"
     ]
    }
   ],
   "source": [
    "paste_str = format_for_paste(opening, sacrament, intermediate, closing)\n",
    "print(paste_str)"
   ]
  },
  {
   "cell_type": "code",
   "execution_count": null,
   "id": "5f5843b8",
   "metadata": {},
   "outputs": [],
   "source": []
  }
 ],
 "metadata": {
  "kernelspec": {
   "display_name": "Python 3",
   "language": "python",
   "name": "python3"
  },
  "language_info": {
   "codemirror_mode": {
    "name": "ipython",
    "version": 3
   },
   "file_extension": ".py",
   "mimetype": "text/x-python",
   "name": "python",
   "nbconvert_exporter": "python",
   "pygments_lexer": "ipython3",
   "version": "3.12.1"
  }
 },
 "nbformat": 4,
 "nbformat_minor": 5
}
