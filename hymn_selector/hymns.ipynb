{
 "cells": [
  {
   "attachments": {},
   "cell_type": "markdown",
   "id": "fe153eff-ff7a-4ef4-9869-42c66368dd10",
   "metadata": {},
   "source": [
    "## TODO\n",
    " - Make a list of important dates (holidays, fast sundays, stake conferences)\n",
    " - Add a check for all future-scheduled dates that they don't have any hymns that were sung recently. This would happen if a hymn got changed after the schedule was made."
   ]
  },
  {
   "attachments": {},
   "cell_type": "markdown",
   "id": "5a0e8093",
   "metadata": {},
   "source": [
    "# Steps to use:\n",
    " 1. Make sure the history is accurate for the past few weeks\n",
    " 2. Check if there are any holidays, fast sundays, or special meetings coming up\n",
    " 3. Run most of the notebook to generate suggestions\n",
    " 4. Select hymns, enter on Edify\n",
    " 5. Add selected hymns to history\n",
    " 6. Add hymns to Gospel Library\n",
    " 7. Update ward program, if needed, using Gospel Library as reference\n"
   ]
  },
  {
   "cell_type": "code",
   "execution_count": null,
   "id": "b3502914-dbad-43f8-a504-99b09d89e2f2",
   "metadata": {},
   "outputs": [],
   "source": [
    "import datetime as dt\n",
    "\n",
    "import numpy as np\n",
    "import polars as pl\n",
    "\n",
    "pl.Config().set_tbl_rows(30)\n",
    "pl.Config().set_fmt_str_lengths(50)"
   ]
  },
  {
   "cell_type": "code",
   "execution_count": null,
   "id": "b0f87709",
   "metadata": {},
   "outputs": [],
   "source": [
    "def load_history() -> pl.DataFrame:\n",
    "    history_df = pl.read_csv('history.csv', infer_schema_length=None)\n",
    "    history_df = history_df.with_columns(\n",
    "        pl.col(\"date\").str.strptime(pl.Date, \"%m/%d/%Y\").alias(\"date\"),\n",
    "    ).drop('name').drop_nulls()\n",
    "    return history_df\n",
    "\n",
    "def error_check_history() -> None:\n",
    "    \"\"\"Check that no future dates are duplicates with any dates since 8 weeks ago.\"\"\"\n",
    "    history_df = load_history()\n",
    "    num_weeks_cutoff = 8\n",
    "    today = dt.datetime.today().date()\n",
    "    lookback_date = today - dt.timedelta(days=7 * num_weeks_cutoff)\n",
    "    recent_and_future_history = history_df.filter(pl.col(\"date\") >= lookback_date)\n",
    "    value_counts = recent_and_future_history[\"id\"].value_counts()\n",
    "    recent_and_future_history = recent_and_future_history.join(\n",
    "        value_counts, on=\"id\", how=\"left\"\n",
    "    ).rename({\"count\": \"recent_count\"})\n",
    "\n",
    "    future_history = recent_and_future_history.filter(pl.col(\"date\") >= today)\n",
    "    duplicates = future_history.filter(pl.col(\"recent_count\") > 1)\n",
    "    if len(duplicates) > 0:\n",
    "        display(duplicates)\n",
    "        print(\">>> WARNING! DUPLICATES FOUND! <<<\\n\")\n",
    "        raise RuntimeWarning(\">>> WARNING! DUPLICATES FOUND! <<<\")\n",
    "\n",
    "def add_last_sung_col(df):\n",
    "    history_df = load_history()\n",
    "    last_sung = history_df.group_by('id').agg(pl.max('date').alias('last_sung'))\n",
    "    df = df.join(last_sung, on='id', how='left')\n",
    "    return df\n",
    "\n",
    "\n",
    "def get_ranking_score(df: pl.DataFrame, type_col: str, popularity_weight=0.5, noise=0.0) -> pl.Series:\n",
    "    score_df = df.filter((pl.col(type_col) == 1) & (pl.col('flagged').fill_null(0) != 1))\n",
    "    weeks_since_fill_value = 100\n",
    "    # Add days since last sung column\n",
    "    score_df = score_df.with_columns(\n",
    "        ((pl.lit(dt.datetime.today()) - pl.col('last_sung')).dt.total_days()//7)\n",
    "        .fill_null(weeks_since_fill_value)\n",
    "        .alias('weeks_since')\n",
    "    )\n",
    "\n",
    "    midpoint = 7\n",
    "    slope = 2\n",
    "\n",
    "    def popularity_func(x): return np.round(\n",
    "        1 / (1 + np.exp(-slope * (x - midpoint))), 2)\n",
    "    weeks_cutoff = 8\n",
    "    score_df = score_df.with_columns((pl.col('popularity') + pl.col('popularity_adjustment').fill_null(0)).alias('adj_popularity'))\n",
    "    score_df = score_df.with_columns(\n",
    "        pl.col('adj_popularity').map_elements(popularity_func).alias('popularity_score'),\n",
    "        pl.when(pl.col('weeks_since') > weeks_cutoff)\n",
    "        .then((pl.col('weeks_since') / (weeks_since_fill_value/2)).round(3))\n",
    "        .otherwise(-100).alias('weeks_since_score'),\n",
    "        pl.Series(np.round(np.random.uniform(-noise, noise,\n",
    "                  len(score_df)), 2)).alias('noise'),\n",
    "    ).with_columns(\n",
    "        (pl.col('popularity_score') * popularity_weight + pl.col('weeks_since_score')\n",
    "         * (1 - popularity_weight)).alias('score') + pl.col('noise')\n",
    "    )\n",
    "\n",
    "    score_df = score_df.select([\n",
    "        'id', 'name', 'length', 'adj_popularity', 'weeks_since', 'popularity_score', 'weeks_since_score', 'score'\n",
    "    ]).sort('score', descending=True)\n",
    "\n",
    "    return score_df"
   ]
  },
  {
   "cell_type": "code",
   "execution_count": null,
   "id": "e60d50c3",
   "metadata": {},
   "outputs": [],
   "source": [
    "error_check_history()"
   ]
  },
  {
   "cell_type": "code",
   "execution_count": null,
   "id": "fff3afb1",
   "metadata": {},
   "outputs": [],
   "source": [
    "df = pl.read_csv(\"hymns.csv\")\n",
    "df = add_last_sung_col(df)"
   ]
  },
  {
   "attachments": {},
   "cell_type": "markdown",
   "id": "65fc7e07",
   "metadata": {},
   "source": [
    "## Sacrament Hymn"
   ]
  },
  {
   "cell_type": "code",
   "execution_count": null,
   "id": "092bf52d",
   "metadata": {},
   "outputs": [],
   "source": [
    "sacrament_ranking = get_ranking_score(df, 'is_sacrament', noise=0.1)\n",
    "display(sacrament_ranking.head(10))"
   ]
  },
  {
   "attachments": {},
   "cell_type": "markdown",
   "id": "0f84e2cb",
   "metadata": {},
   "source": [
    "## General Hymns"
   ]
  },
  {
   "cell_type": "code",
   "execution_count": null,
   "id": "eb1890f3",
   "metadata": {},
   "outputs": [],
   "source": [
    "general_ranking = get_ranking_score(df, 'is_general', noise=0.15, popularity_weight=0.7)\n",
    "display(general_ranking.head(30))"
   ]
  },
  {
   "attachments": {},
   "cell_type": "markdown",
   "id": "477fa8b3",
   "metadata": {},
   "source": [
    "# Add to History"
   ]
  },
  {
   "cell_type": "code",
   "execution_count": null,
   "id": "930c85b9",
   "metadata": {},
   "outputs": [],
   "source": [
    "raise KeyboardInterrupt(\"This is here to stop you from running the whole notebook.\")"
   ]
  },
  {
   "cell_type": "code",
   "execution_count": null,
   "id": "175a466e",
   "metadata": {},
   "outputs": [],
   "source": [
    "def name_from_id(id, trim_parens=False):\n",
    "    name_row = df.filter(pl.col(\"id\") == id).select(\"name\")\n",
    "    if len(name_row) != 1:\n",
    "        raise ValueError(f\"Expected 1 row, got {len(name_row)}\")\n",
    "    name = name_row[\"name\"].item()\n",
    "\n",
    "    if trim_parens:\n",
    "        if name.endswith(\")\") and \"(\" in name:\n",
    "            name = name[:name.rfind(\"(\")].strip()\n",
    "    \n",
    "    return name\n",
    "\n",
    "\n",
    "def format_for_csv(date, opening, sacrament, intermediate, closing):\n",
    "    str_list = []\n",
    "    if opening:\n",
    "        str_list.append(\n",
    "            f\"{date.strftime('%m/%d/%Y')},opening,{opening},\\\"{name_from_id(opening)}\\\"\"\n",
    "        )\n",
    "    if sacrament:\n",
    "        str_list.append(\n",
    "            f\"{date.strftime('%m/%d/%Y')},sacrament,{sacrament},\\\"{name_from_id(sacrament)}\\\"\"\n",
    "        )\n",
    "    if intermediate:\n",
    "        str_list.append(\n",
    "            f\"{date.strftime('%m/%d/%Y')},intermediate,{intermediate},\\\"{name_from_id(intermediate)}\\\"\"\n",
    "        )\n",
    "    if closing:\n",
    "        str_list.append(\n",
    "            f\"{date.strftime('%m/%d/%Y')},closing,{closing},\\\"{name_from_id(closing)}\\\"\"\n",
    "        )\n",
    "    csv_str = \"\\n\".join(str_list)\n",
    "    return csv_str\n",
    "\n",
    "\n",
    "def format_for_paste(opening, sacrament, intermediate, closing):\n",
    "    str_list = []\n",
    "    if opening:\n",
    "        str_list.append(\n",
    "            f\"{opening} - {name_from_id(opening, trim_parens=True)}\",\n",
    "        )\n",
    "    else:\n",
    "        str_list.append(\"~\")\n",
    "    if sacrament:\n",
    "        str_list.append(\n",
    "            f\"{sacrament} - {name_from_id(sacrament, trim_parens=True)}\",\n",
    "        )\n",
    "    else:\n",
    "        str_list.append(\"~\")\n",
    "    if intermediate:\n",
    "        str_list.append(\n",
    "            f\"{intermediate} - {name_from_id(intermediate, trim_parens=True)}\",\n",
    "        )\n",
    "    else:\n",
    "        str_list.append(\"~\")\n",
    "    if closing:\n",
    "        str_list.append(\n",
    "            f\"{closing} - {name_from_id(closing, trim_parens=True)}\",\n",
    "        )\n",
    "    else:\n",
    "        str_list.append(\"~\")\n",
    "    paste_str = \"\\n\".join(str_list)\n",
    "    return paste_str\n",
    "\n",
    "date = dt.date(2024, 8, 25) # EDIT ME!\n",
    "opening = 249\n",
    "sacrament = 1008\n",
    "intermediate = 52\n",
    "closing = 136"
   ]
  },
  {
   "cell_type": "code",
   "execution_count": null,
   "id": "1f8248b3",
   "metadata": {},
   "outputs": [],
   "source": [
    "csv_str = format_for_csv(date, opening, sacrament, intermediate, closing)\n",
    "print(\"Does this look right?\")\n",
    "print(csv_str)"
   ]
  },
  {
   "cell_type": "code",
   "execution_count": null,
   "id": "1bc805b4",
   "metadata": {},
   "outputs": [],
   "source": [
    "# Append to history csv\n",
    "with open('history.csv', 'a') as f:\n",
    "    f.write(csv_str)\n",
    "    f.write(\"\\n\")"
   ]
  },
  {
   "cell_type": "code",
   "execution_count": null,
   "id": "cface9a5",
   "metadata": {},
   "outputs": [],
   "source": [
    "# In Google Sheets, paste with *CTRL + SHIFT + V*\n",
    "paste_str = format_for_paste(opening, sacrament, intermediate, closing)\n",
    "print(paste_str)"
   ]
  },
  {
   "cell_type": "code",
   "execution_count": null,
   "id": "5f5843b8",
   "metadata": {},
   "outputs": [],
   "source": []
  }
 ],
 "metadata": {
  "kernelspec": {
   "display_name": "Python 3",
   "language": "python",
   "name": "python3"
  },
  "language_info": {
   "codemirror_mode": {
    "name": "ipython",
    "version": 3
   },
   "file_extension": ".py",
   "mimetype": "text/x-python",
   "name": "python",
   "nbconvert_exporter": "python",
   "pygments_lexer": "ipython3",
   "version": "3.12.1"
  }
 },
 "nbformat": 4,
 "nbformat_minor": 5
}
