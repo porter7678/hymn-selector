{
 "cells": [
  {
   "attachments": {},
   "cell_type": "markdown",
   "id": "fe153eff-ff7a-4ef4-9869-42c66368dd10",
   "metadata": {},
   "source": [
    "## TODO\n",
    " - Make a list of important dates (holidays, fast sundays, stake conferences)\n",
    " - Add a check for all future-scheduled dates that they don't have any hymns that were sung recently. This would happen if a hymn got changed after the schedule was made."
   ]
  },
  {
   "attachments": {},
   "cell_type": "markdown",
   "id": "5a0e8093",
   "metadata": {},
   "source": [
    "# Steps to use:\n",
    " 1. Make sure the history is accurate for the past few weeks\n",
    " 2. Check if there are any holidays, fast sundays, or special meetings coming up\n",
    " 3. Run most of the notebook to generate suggestions\n",
    " 4. Select hymns, enter on Edify\n",
    " 5. Add selected hymns to history\n",
    " 6. Add hymns to Gospel Library\n",
    " 7. Update ward program, if needed, using Gospel Library as reference\n"
   ]
  },
  {
   "cell_type": "code",
   "execution_count": 1,
   "id": "b3502914-dbad-43f8-a504-99b09d89e2f2",
   "metadata": {},
   "outputs": [
    {
     "data": {
      "text/plain": [
       "polars.config.Config"
      ]
     },
     "execution_count": 1,
     "metadata": {},
     "output_type": "execute_result"
    }
   ],
   "source": [
    "import datetime as dt\n",
    "\n",
    "import numpy as np\n",
    "import polars as pl\n",
    "\n",
    "pl.Config().set_tbl_rows(30)\n",
    "pl.Config().set_fmt_str_lengths(50)"
   ]
  },
  {
   "cell_type": "code",
   "execution_count": 2,
   "id": "b0f87709",
   "metadata": {},
   "outputs": [],
   "source": [
    "def load_history() -> pl.DataFrame:\n",
    "    history_df = pl.read_csv('history.csv', infer_schema_length=None)\n",
    "    history_df = history_df.with_columns(\n",
    "        pl.col(\"date\").str.strptime(pl.Date, \"%m/%d/%Y\").alias(\"date\"),\n",
    "    ).drop('name').drop_nulls()\n",
    "    return history_df\n",
    "\n",
    "def error_check_history() -> None:\n",
    "    \"\"\"Check that no future dates are duplicates with any dates since 8 weeks ago.\"\"\"\n",
    "    history_df = load_history()\n",
    "    num_weeks_cutoff = 8\n",
    "    today = dt.datetime.today().date()\n",
    "    lookback_date = today - dt.timedelta(days=7 * num_weeks_cutoff)\n",
    "    recent_and_future_history = history_df.filter(pl.col(\"date\") >= lookback_date)\n",
    "    value_counts = recent_and_future_history[\"id\"].value_counts()\n",
    "    recent_and_future_history = recent_and_future_history.join(\n",
    "        value_counts, on=\"id\", how=\"left\"\n",
    "    ).rename({\"count\": \"recent_count\"})\n",
    "\n",
    "    future_history = recent_and_future_history.filter(pl.col(\"date\") >= today)\n",
    "    duplicates = future_history.filter(pl.col(\"recent_count\") > 1)\n",
    "    if len(duplicates) > 0:\n",
    "        display(duplicates)\n",
    "        print(\">>> WARNING! DUPLICATES FOUND! <<<\\n\")\n",
    "        raise RuntimeWarning(\">>> WARNING! DUPLICATES FOUND! <<<\")\n",
    "\n",
    "def add_last_sung_col(df):\n",
    "    history_df = load_history()\n",
    "    last_sung = history_df.group_by('id').agg(pl.max('date').alias('last_sung'))\n",
    "    df = df.join(last_sung, on='id', how='left')\n",
    "    return df\n",
    "\n",
    "\n",
    "def get_ranking_score(df: pl.DataFrame, type_col: str, popularity_weight=0.5, noise=0.0) -> pl.Series:\n",
    "    score_df = df.filter((pl.col(type_col) == 1) & (pl.col('flagged').fill_null(0) != 1))\n",
    "    weeks_since_fill_value = 100\n",
    "    # Add days since last sung column\n",
    "    score_df = score_df.with_columns(\n",
    "        ((pl.lit(dt.datetime.today()) - pl.col('last_sung')).dt.total_days()//7)\n",
    "        .fill_null(weeks_since_fill_value)\n",
    "        .alias('weeks_since')\n",
    "    )\n",
    "\n",
    "    midpoint = 7\n",
    "    slope = 2\n",
    "\n",
    "    def popularity_func(x): return np.round(\n",
    "        1 / (1 + np.exp(-slope * (x - midpoint))), 2)\n",
    "    weeks_cutoff = 8\n",
    "    score_df = score_df.with_columns((pl.col('popularity') + pl.col('popularity_adjustment').fill_null(0)).alias('adj_popularity'))\n",
    "    score_df = score_df.with_columns(\n",
    "        pl.col('adj_popularity').map_elements(popularity_func).alias('popularity_score'),\n",
    "        pl.when(pl.col('weeks_since') > weeks_cutoff)\n",
    "        .then((pl.col('weeks_since') / (weeks_since_fill_value/2)).round(3))\n",
    "        .otherwise(-100).alias('weeks_since_score'),\n",
    "        pl.Series(np.round(np.random.uniform(-noise, noise,\n",
    "                  len(score_df)), 2)).alias('noise'),\n",
    "    ).with_columns(\n",
    "        (pl.col('popularity_score') * popularity_weight + pl.col('weeks_since_score')\n",
    "         * (1 - popularity_weight)).alias('score') + pl.col('noise')\n",
    "    )\n",
    "\n",
    "    score_df = score_df.select([\n",
    "        'id', 'name', 'length', 'adj_popularity', 'weeks_since', 'popularity_score', 'weeks_since_score', 'score'\n",
    "    ]).sort('score', descending=True)\n",
    "\n",
    "    return score_df"
   ]
  },
  {
   "cell_type": "code",
   "execution_count": 3,
   "id": "e60d50c3",
   "metadata": {},
   "outputs": [],
   "source": [
    "error_check_history()"
   ]
  },
  {
   "cell_type": "code",
   "execution_count": 4,
   "id": "fff3afb1",
   "metadata": {},
   "outputs": [],
   "source": [
    "df = pl.read_csv(\"hymns.csv\")\n",
    "df = add_last_sung_col(df)"
   ]
  },
  {
   "attachments": {},
   "cell_type": "markdown",
   "id": "65fc7e07",
   "metadata": {},
   "source": [
    "## Sacrament Hymn"
   ]
  },
  {
   "cell_type": "code",
   "execution_count": 5,
   "id": "092bf52d",
   "metadata": {},
   "outputs": [
    {
     "data": {
      "text/html": [
       "<div><style>\n",
       ".dataframe > thead > tr,\n",
       ".dataframe > tbody > tr {\n",
       "  text-align: right;\n",
       "  white-space: pre-wrap;\n",
       "}\n",
       "</style>\n",
       "<small>shape: (10, 8)</small><table border=\"1\" class=\"dataframe\"><thead><tr><th>id</th><th>name</th><th>length</th><th>adj_popularity</th><th>weeks_since</th><th>popularity_score</th><th>weeks_since_score</th><th>score</th></tr><tr><td>i64</td><td>str</td><td>str</td><td>i64</td><td>i64</td><td>f64</td><td>f64</td><td>f64</td></tr></thead><tbody><tr><td>197</td><td>&quot;O Savior, Thou Who Wearest a Crown&quot;</td><td>&quot;4:16&quot;</td><td>6</td><td>99</td><td>0.12</td><td>1.98</td><td>0.99</td></tr><tr><td>170</td><td>&quot;God, Our Father, Hear Us Pray&quot;</td><td>&quot;2:21&quot;</td><td>10</td><td>30</td><td>1.0</td><td>0.6</td><td>0.9</td></tr><tr><td>172</td><td>&quot;In Humility, Our Savior&quot;</td><td>&quot;2:46&quot;</td><td>10</td><td>35</td><td>1.0</td><td>0.7</td><td>0.86</td></tr><tr><td>169</td><td>&quot;As Now We Take the Sacrament&quot;</td><td>&quot;3:01&quot;</td><td>10</td><td>31</td><td>1.0</td><td>0.62</td><td>0.83</td></tr><tr><td>176</td><td>&quot;Tis Sweet to Sing the Matchless Love (MEREDITH)&quot;</td><td>&quot;2:55&quot;</td><td>10</td><td>25</td><td>1.0</td><td>0.5</td><td>0.8</td></tr><tr><td>191</td><td>&quot;Behold the Great Redeemer Die&quot;</td><td>&quot;3:19&quot;</td><td>10</td><td>21</td><td>1.0</td><td>0.42</td><td>0.78</td></tr><tr><td>185</td><td>&quot;Reverently and Meekly Now&quot;</td><td>&quot;5:06&quot;</td><td>8</td><td>29</td><td>0.88</td><td>0.58</td><td>0.75</td></tr><tr><td>195</td><td>&quot;How Great the Wisdom and the Love&quot;</td><td>&quot;3:57&quot;</td><td>10</td><td>22</td><td>1.0</td><td>0.44</td><td>0.74</td></tr><tr><td>178</td><td>&quot;O Lord of Hosts&quot;</td><td>&quot;2:12&quot;</td><td>9</td><td>16</td><td>0.98</td><td>0.32</td><td>0.73</td></tr><tr><td>179</td><td>&quot;Again, Our Dear Redeeming Lord&quot;</td><td>&quot;2:36&quot;</td><td>9</td><td>15</td><td>0.98</td><td>0.3</td><td>0.72</td></tr></tbody></table></div>"
      ],
      "text/plain": [
       "shape: (10, 8)\n",
       "┌─────┬───────────────┬────────┬───────────────┬─────────────┬──────────────┬──────────────┬───────┐\n",
       "│ id  ┆ name          ┆ length ┆ adj_popularit ┆ weeks_since ┆ popularity_s ┆ weeks_since_ ┆ score │\n",
       "│ --- ┆ ---           ┆ ---    ┆ y             ┆ ---         ┆ core         ┆ score        ┆ ---   │\n",
       "│ i64 ┆ str           ┆ str    ┆ ---           ┆ i64         ┆ ---          ┆ ---          ┆ f64   │\n",
       "│     ┆               ┆        ┆ i64           ┆             ┆ f64          ┆ f64          ┆       │\n",
       "╞═════╪═══════════════╪════════╪═══════════════╪═════════════╪══════════════╪══════════════╪═══════╡\n",
       "│ 197 ┆ O Savior,     ┆ 4:16   ┆ 6             ┆ 99          ┆ 0.12         ┆ 1.98         ┆ 0.99  │\n",
       "│     ┆ Thou Who      ┆        ┆               ┆             ┆              ┆              ┆       │\n",
       "│     ┆ Wearest a     ┆        ┆               ┆             ┆              ┆              ┆       │\n",
       "│     ┆ Crown         ┆        ┆               ┆             ┆              ┆              ┆       │\n",
       "│ 170 ┆ God, Our      ┆ 2:21   ┆ 10            ┆ 30          ┆ 1.0          ┆ 0.6          ┆ 0.9   │\n",
       "│     ┆ Father, Hear  ┆        ┆               ┆             ┆              ┆              ┆       │\n",
       "│     ┆ Us Pray       ┆        ┆               ┆             ┆              ┆              ┆       │\n",
       "│ 172 ┆ In Humility,  ┆ 2:46   ┆ 10            ┆ 35          ┆ 1.0          ┆ 0.7          ┆ 0.86  │\n",
       "│     ┆ Our Savior    ┆        ┆               ┆             ┆              ┆              ┆       │\n",
       "│ 169 ┆ As Now We     ┆ 3:01   ┆ 10            ┆ 31          ┆ 1.0          ┆ 0.62         ┆ 0.83  │\n",
       "│     ┆ Take the      ┆        ┆               ┆             ┆              ┆              ┆       │\n",
       "│     ┆ Sacrament     ┆        ┆               ┆             ┆              ┆              ┆       │\n",
       "│ 176 ┆ Tis Sweet to  ┆ 2:55   ┆ 10            ┆ 25          ┆ 1.0          ┆ 0.5          ┆ 0.8   │\n",
       "│     ┆ Sing the      ┆        ┆               ┆             ┆              ┆              ┆       │\n",
       "│     ┆ Matchless     ┆        ┆               ┆             ┆              ┆              ┆       │\n",
       "│     ┆ Love          ┆        ┆               ┆             ┆              ┆              ┆       │\n",
       "│     ┆ (MEREDITH)    ┆        ┆               ┆             ┆              ┆              ┆       │\n",
       "│ 191 ┆ Behold the    ┆ 3:19   ┆ 10            ┆ 21          ┆ 1.0          ┆ 0.42         ┆ 0.78  │\n",
       "│     ┆ Great         ┆        ┆               ┆             ┆              ┆              ┆       │\n",
       "│     ┆ Redeemer Die  ┆        ┆               ┆             ┆              ┆              ┆       │\n",
       "│ 185 ┆ Reverently    ┆ 5:06   ┆ 8             ┆ 29          ┆ 0.88         ┆ 0.58         ┆ 0.75  │\n",
       "│     ┆ and Meekly    ┆        ┆               ┆             ┆              ┆              ┆       │\n",
       "│     ┆ Now           ┆        ┆               ┆             ┆              ┆              ┆       │\n",
       "│ 195 ┆ How Great the ┆ 3:57   ┆ 10            ┆ 22          ┆ 1.0          ┆ 0.44         ┆ 0.74  │\n",
       "│     ┆ Wisdom and    ┆        ┆               ┆             ┆              ┆              ┆       │\n",
       "│     ┆ the Love      ┆        ┆               ┆             ┆              ┆              ┆       │\n",
       "│ 178 ┆ O Lord of     ┆ 2:12   ┆ 9             ┆ 16          ┆ 0.98         ┆ 0.32         ┆ 0.73  │\n",
       "│     ┆ Hosts         ┆        ┆               ┆             ┆              ┆              ┆       │\n",
       "│ 179 ┆ Again, Our    ┆ 2:36   ┆ 9             ┆ 15          ┆ 0.98         ┆ 0.3          ┆ 0.72  │\n",
       "│     ┆ Dear          ┆        ┆               ┆             ┆              ┆              ┆       │\n",
       "│     ┆ Redeeming     ┆        ┆               ┆             ┆              ┆              ┆       │\n",
       "│     ┆ Lord          ┆        ┆               ┆             ┆              ┆              ┆       │\n",
       "└─────┴───────────────┴────────┴───────────────┴─────────────┴──────────────┴──────────────┴───────┘"
      ]
     },
     "metadata": {},
     "output_type": "display_data"
    }
   ],
   "source": [
    "sacrament_ranking = get_ranking_score(df, 'is_sacrament', noise=0.1)\n",
    "display(sacrament_ranking.head(10))"
   ]
  },
  {
   "attachments": {},
   "cell_type": "markdown",
   "id": "0f84e2cb",
   "metadata": {},
   "source": [
    "## General Hymns"
   ]
  },
  {
   "cell_type": "code",
   "execution_count": 6,
   "id": "eb1890f3",
   "metadata": {},
   "outputs": [
    {
     "data": {
      "text/html": [
       "<div><style>\n",
       ".dataframe > thead > tr,\n",
       ".dataframe > tbody > tr {\n",
       "  text-align: right;\n",
       "  white-space: pre-wrap;\n",
       "}\n",
       "</style>\n",
       "<small>shape: (30, 8)</small><table border=\"1\" class=\"dataframe\"><thead><tr><th>id</th><th>name</th><th>length</th><th>adj_popularity</th><th>weeks_since</th><th>popularity_score</th><th>weeks_since_score</th><th>score</th></tr><tr><td>i64</td><td>str</td><td>str</td><td>i64</td><td>i64</td><td>f64</td><td>f64</td><td>f64</td></tr></thead><tbody><tr><td>298</td><td>&quot;Home Can Be a Heaven on Earth&quot;</td><td>&quot;2:38&quot;</td><td>9</td><td>29</td><td>0.98</td><td>0.58</td><td>1.01</td></tr><tr><td>230</td><td>&quot;Scatter Sunshine&quot;</td><td>&quot;2:48&quot;</td><td>7</td><td>100</td><td>0.5</td><td>2.0</td><td>0.99</td></tr><tr><td>26</td><td>&quot;Joseph Smith&#x27;s First Prayer&quot;</td><td>&quot;3:37&quot;</td><td>8</td><td>38</td><td>0.88</td><td>0.76</td><td>0.984</td></tr><tr><td>223</td><td>&quot;Have I Done Any Good?&quot;</td><td>&quot;2:46&quot;</td><td>8</td><td>37</td><td>0.88</td><td>0.74</td><td>0.968</td></tr><tr><td>136</td><td>&quot;I Know That My Redeemer Lives&quot;</td><td>&quot;4:19&quot;</td><td>10</td><td>20</td><td>1.0</td><td>0.4</td><td>0.94</td></tr><tr><td>6</td><td>&quot;Redeemer of Israel&quot;</td><td>&quot;2:45&quot;</td><td>9</td><td>32</td><td>0.98</td><td>0.64</td><td>0.938</td></tr><tr><td>89</td><td>&quot;The Lord Is My Light&quot;</td><td>&quot;3:39&quot;</td><td>10</td><td>16</td><td>1.0</td><td>0.32</td><td>0.936</td></tr><tr><td>140</td><td>&quot;Did you Think to Pray?&quot;</td><td>&quot;3:04&quot;</td><td>9</td><td>16</td><td>0.98</td><td>0.32</td><td>0.932</td></tr><tr><td>292</td><td>&quot;O My Father&quot;</td><td>&quot;4:25&quot;</td><td>8</td><td>30</td><td>0.88</td><td>0.6</td><td>0.926</td></tr><tr><td>152</td><td>&quot;God Be with You Till We Meet Again&quot;</td><td>&quot;3:15&quot;</td><td>8</td><td>39</td><td>0.88</td><td>0.78</td><td>0.91</td></tr><tr><td>58</td><td>&quot;Come, Ye Children of the Lord&quot;</td><td>&quot;2:18&quot;</td><td>9</td><td>24</td><td>0.98</td><td>0.48</td><td>0.9</td></tr><tr><td>308</td><td>&quot;Love One Another&quot;</td><td>&quot;1:22&quot;</td><td>8</td><td>30</td><td>0.88</td><td>0.6</td><td>0.896</td></tr><tr><td>277</td><td>&quot;As I Search the Holy Scriptures&quot;</td><td>&quot;2:16&quot;</td><td>8</td><td>31</td><td>0.88</td><td>0.62</td><td>0.892</td></tr><tr><td>66</td><td>&quot;Rejoice, the Lord Is King!&quot;</td><td>&quot;2:19&quot;</td><td>9</td><td>23</td><td>0.98</td><td>0.46</td><td>0.874</td></tr><tr><td>5</td><td>&quot;High on the Mountain Top&quot;</td><td>&quot;2:33&quot;</td><td>10</td><td>25</td><td>1.0</td><td>0.5</td><td>0.87</td></tr><tr><td>255</td><td>&quot;Carry On&quot;</td><td>&quot;3:03&quot;</td><td>7</td><td>66</td><td>0.5</td><td>1.32</td><td>0.866</td></tr><tr><td>60</td><td>&quot;Battle Hymn of the Republic&quot;</td><td>&quot;2:19&quot;</td><td>7</td><td>74</td><td>0.5</td><td>1.48</td><td>0.854</td></tr><tr><td>243</td><td>&quot;Let Us All Press On&quot;</td><td>&quot;2:22&quot;</td><td>9</td><td>38</td><td>0.98</td><td>0.76</td><td>0.854</td></tr><tr><td>105</td><td>&quot;Master, the Tempest Is Raging&quot;</td><td>&quot;4:13&quot;</td><td>8</td><td>26</td><td>0.88</td><td>0.52</td><td>0.852</td></tr><tr><td>30</td><td>&quot;Come, Come, Ye Saints&quot;</td><td>&quot;3:53&quot;</td><td>9</td><td>28</td><td>0.98</td><td>0.56</td><td>0.844</td></tr><tr><td>156</td><td>&quot;Sing We Now at Parting&quot;</td><td>&quot;2:47&quot;</td><td>8</td><td>16</td><td>0.88</td><td>0.32</td><td>0.842</td></tr><tr><td>78</td><td>&quot;God of Our Fathers, Whose Almighty Hand&quot;</td><td>&quot;2:19&quot;</td><td>7</td><td>65</td><td>0.5</td><td>1.3</td><td>0.84</td></tr><tr><td>270</td><td>&quot;I&#x27;ll Go Where You Want Me to Go&quot;</td><td>&quot;4:42&quot;</td><td>9</td><td>24</td><td>0.98</td><td>0.48</td><td>0.83</td></tr><tr><td>303</td><td>&quot;Keep the Commandments&quot;</td><td>&quot;1:07&quot;</td><td>7</td><td>78</td><td>0.5</td><td>1.56</td><td>0.828</td></tr><tr><td>81</td><td>&quot;Press Forward, Saints&quot;</td><td>&quot;2:27&quot;</td><td>9</td><td>33</td><td>0.98</td><td>0.66</td><td>0.824</td></tr><tr><td>139</td><td>&quot;In Fasting We Approach Thee&quot;</td><td>&quot;2:31&quot;</td><td>8</td><td>23</td><td>0.88</td><td>0.46</td><td>0.824</td></tr><tr><td>98</td><td>&quot;I Need Thee Every Hour&quot;</td><td>&quot;4:07&quot;</td><td>9</td><td>27</td><td>0.98</td><td>0.54</td><td>0.818</td></tr><tr><td>123</td><td>&quot;Oh, May My Soul Commune with Thee&quot;</td><td>&quot;2:38&quot;</td><td>6</td><td>100</td><td>0.12</td><td>2.0</td><td>0.814</td></tr><tr><td>3</td><td>&quot;Now Let Us Rejoice&quot;</td><td>&quot;3:29&quot;</td><td>10</td><td>20</td><td>1.0</td><td>0.4</td><td>0.81</td></tr><tr><td>96</td><td>&quot;Dearest Children, God Is Near You&quot;</td><td>&quot;2:50&quot;</td><td>8</td><td>12</td><td>0.88</td><td>0.24</td><td>0.808</td></tr></tbody></table></div>"
      ],
      "text/plain": [
       "shape: (30, 8)\n",
       "┌─────┬───────────────┬────────┬───────────────┬─────────────┬──────────────┬──────────────┬───────┐\n",
       "│ id  ┆ name          ┆ length ┆ adj_popularit ┆ weeks_since ┆ popularity_s ┆ weeks_since_ ┆ score │\n",
       "│ --- ┆ ---           ┆ ---    ┆ y             ┆ ---         ┆ core         ┆ score        ┆ ---   │\n",
       "│ i64 ┆ str           ┆ str    ┆ ---           ┆ i64         ┆ ---          ┆ ---          ┆ f64   │\n",
       "│     ┆               ┆        ┆ i64           ┆             ┆ f64          ┆ f64          ┆       │\n",
       "╞═════╪═══════════════╪════════╪═══════════════╪═════════════╪══════════════╪══════════════╪═══════╡\n",
       "│ 298 ┆ Home Can Be a ┆ 2:38   ┆ 9             ┆ 29          ┆ 0.98         ┆ 0.58         ┆ 1.01  │\n",
       "│     ┆ Heaven on     ┆        ┆               ┆             ┆              ┆              ┆       │\n",
       "│     ┆ Earth         ┆        ┆               ┆             ┆              ┆              ┆       │\n",
       "│ 230 ┆ Scatter       ┆ 2:48   ┆ 7             ┆ 100         ┆ 0.5          ┆ 2.0          ┆ 0.99  │\n",
       "│     ┆ Sunshine      ┆        ┆               ┆             ┆              ┆              ┆       │\n",
       "│ 26  ┆ Joseph        ┆ 3:37   ┆ 8             ┆ 38          ┆ 0.88         ┆ 0.76         ┆ 0.984 │\n",
       "│     ┆ Smith's First ┆        ┆               ┆             ┆              ┆              ┆       │\n",
       "│     ┆ Prayer        ┆        ┆               ┆             ┆              ┆              ┆       │\n",
       "│ 223 ┆ Have I Done   ┆ 2:46   ┆ 8             ┆ 37          ┆ 0.88         ┆ 0.74         ┆ 0.968 │\n",
       "│     ┆ Any Good?     ┆        ┆               ┆             ┆              ┆              ┆       │\n",
       "│ 136 ┆ I Know That   ┆ 4:19   ┆ 10            ┆ 20          ┆ 1.0          ┆ 0.4          ┆ 0.94  │\n",
       "│     ┆ My Redeemer   ┆        ┆               ┆             ┆              ┆              ┆       │\n",
       "│     ┆ Lives         ┆        ┆               ┆             ┆              ┆              ┆       │\n",
       "│ 6   ┆ Redeemer of   ┆ 2:45   ┆ 9             ┆ 32          ┆ 0.98         ┆ 0.64         ┆ 0.938 │\n",
       "│     ┆ Israel        ┆        ┆               ┆             ┆              ┆              ┆       │\n",
       "│ 89  ┆ The Lord Is   ┆ 3:39   ┆ 10            ┆ 16          ┆ 1.0          ┆ 0.32         ┆ 0.936 │\n",
       "│     ┆ My Light      ┆        ┆               ┆             ┆              ┆              ┆       │\n",
       "│ 140 ┆ Did you Think ┆ 3:04   ┆ 9             ┆ 16          ┆ 0.98         ┆ 0.32         ┆ 0.932 │\n",
       "│     ┆ to Pray?      ┆        ┆               ┆             ┆              ┆              ┆       │\n",
       "│ 292 ┆ O My Father   ┆ 4:25   ┆ 8             ┆ 30          ┆ 0.88         ┆ 0.6          ┆ 0.926 │\n",
       "│ 152 ┆ God Be with   ┆ 3:15   ┆ 8             ┆ 39          ┆ 0.88         ┆ 0.78         ┆ 0.91  │\n",
       "│     ┆ You Till We   ┆        ┆               ┆             ┆              ┆              ┆       │\n",
       "│     ┆ Meet Again    ┆        ┆               ┆             ┆              ┆              ┆       │\n",
       "│ 58  ┆ Come, Ye      ┆ 2:18   ┆ 9             ┆ 24          ┆ 0.98         ┆ 0.48         ┆ 0.9   │\n",
       "│     ┆ Children of   ┆        ┆               ┆             ┆              ┆              ┆       │\n",
       "│     ┆ the Lord      ┆        ┆               ┆             ┆              ┆              ┆       │\n",
       "│ 308 ┆ Love One      ┆ 1:22   ┆ 8             ┆ 30          ┆ 0.88         ┆ 0.6          ┆ 0.896 │\n",
       "│     ┆ Another       ┆        ┆               ┆             ┆              ┆              ┆       │\n",
       "│ 277 ┆ As I Search   ┆ 2:16   ┆ 8             ┆ 31          ┆ 0.88         ┆ 0.62         ┆ 0.892 │\n",
       "│     ┆ the Holy      ┆        ┆               ┆             ┆              ┆              ┆       │\n",
       "│     ┆ Scriptures    ┆        ┆               ┆             ┆              ┆              ┆       │\n",
       "│ 66  ┆ Rejoice, the  ┆ 2:19   ┆ 9             ┆ 23          ┆ 0.98         ┆ 0.46         ┆ 0.874 │\n",
       "│     ┆ Lord Is King! ┆        ┆               ┆             ┆              ┆              ┆       │\n",
       "│ 5   ┆ High on the   ┆ 2:33   ┆ 10            ┆ 25          ┆ 1.0          ┆ 0.5          ┆ 0.87  │\n",
       "│     ┆ Mountain Top  ┆        ┆               ┆             ┆              ┆              ┆       │\n",
       "│ 255 ┆ Carry On      ┆ 3:03   ┆ 7             ┆ 66          ┆ 0.5          ┆ 1.32         ┆ 0.866 │\n",
       "│ 60  ┆ Battle Hymn   ┆ 2:19   ┆ 7             ┆ 74          ┆ 0.5          ┆ 1.48         ┆ 0.854 │\n",
       "│     ┆ of the        ┆        ┆               ┆             ┆              ┆              ┆       │\n",
       "│     ┆ Republic      ┆        ┆               ┆             ┆              ┆              ┆       │\n",
       "│ 243 ┆ Let Us All    ┆ 2:22   ┆ 9             ┆ 38          ┆ 0.98         ┆ 0.76         ┆ 0.854 │\n",
       "│     ┆ Press On      ┆        ┆               ┆             ┆              ┆              ┆       │\n",
       "│ 105 ┆ Master, the   ┆ 4:13   ┆ 8             ┆ 26          ┆ 0.88         ┆ 0.52         ┆ 0.852 │\n",
       "│     ┆ Tempest Is    ┆        ┆               ┆             ┆              ┆              ┆       │\n",
       "│     ┆ Raging        ┆        ┆               ┆             ┆              ┆              ┆       │\n",
       "│ 30  ┆ Come, Come,   ┆ 3:53   ┆ 9             ┆ 28          ┆ 0.98         ┆ 0.56         ┆ 0.844 │\n",
       "│     ┆ Ye Saints     ┆        ┆               ┆             ┆              ┆              ┆       │\n",
       "│ 156 ┆ Sing We Now   ┆ 2:47   ┆ 8             ┆ 16          ┆ 0.88         ┆ 0.32         ┆ 0.842 │\n",
       "│     ┆ at Parting    ┆        ┆               ┆             ┆              ┆              ┆       │\n",
       "│ 78  ┆ God of Our    ┆ 2:19   ┆ 7             ┆ 65          ┆ 0.5          ┆ 1.3          ┆ 0.84  │\n",
       "│     ┆ Fathers,      ┆        ┆               ┆             ┆              ┆              ┆       │\n",
       "│     ┆ Whose         ┆        ┆               ┆             ┆              ┆              ┆       │\n",
       "│     ┆ Almighty Hand ┆        ┆               ┆             ┆              ┆              ┆       │\n",
       "│ 270 ┆ I'll Go Where ┆ 4:42   ┆ 9             ┆ 24          ┆ 0.98         ┆ 0.48         ┆ 0.83  │\n",
       "│     ┆ You Want Me   ┆        ┆               ┆             ┆              ┆              ┆       │\n",
       "│     ┆ to Go         ┆        ┆               ┆             ┆              ┆              ┆       │\n",
       "│ 303 ┆ Keep the      ┆ 1:07   ┆ 7             ┆ 78          ┆ 0.5          ┆ 1.56         ┆ 0.828 │\n",
       "│     ┆ Commandments  ┆        ┆               ┆             ┆              ┆              ┆       │\n",
       "│ 81  ┆ Press         ┆ 2:27   ┆ 9             ┆ 33          ┆ 0.98         ┆ 0.66         ┆ 0.824 │\n",
       "│     ┆ Forward,      ┆        ┆               ┆             ┆              ┆              ┆       │\n",
       "│     ┆ Saints        ┆        ┆               ┆             ┆              ┆              ┆       │\n",
       "│ 139 ┆ In Fasting We ┆ 2:31   ┆ 8             ┆ 23          ┆ 0.88         ┆ 0.46         ┆ 0.824 │\n",
       "│     ┆ Approach Thee ┆        ┆               ┆             ┆              ┆              ┆       │\n",
       "│ 98  ┆ I Need Thee   ┆ 4:07   ┆ 9             ┆ 27          ┆ 0.98         ┆ 0.54         ┆ 0.818 │\n",
       "│     ┆ Every Hour    ┆        ┆               ┆             ┆              ┆              ┆       │\n",
       "│ 123 ┆ Oh, May My    ┆ 2:38   ┆ 6             ┆ 100         ┆ 0.12         ┆ 2.0          ┆ 0.814 │\n",
       "│     ┆ Soul Commune  ┆        ┆               ┆             ┆              ┆              ┆       │\n",
       "│     ┆ with Thee     ┆        ┆               ┆             ┆              ┆              ┆       │\n",
       "│ 3   ┆ Now Let Us    ┆ 3:29   ┆ 10            ┆ 20          ┆ 1.0          ┆ 0.4          ┆ 0.81  │\n",
       "│     ┆ Rejoice       ┆        ┆               ┆             ┆              ┆              ┆       │\n",
       "│ 96  ┆ Dearest       ┆ 2:50   ┆ 8             ┆ 12          ┆ 0.88         ┆ 0.24         ┆ 0.808 │\n",
       "│     ┆ Children, God ┆        ┆               ┆             ┆              ┆              ┆       │\n",
       "│     ┆ Is Near You   ┆        ┆               ┆             ┆              ┆              ┆       │\n",
       "└─────┴───────────────┴────────┴───────────────┴─────────────┴──────────────┴──────────────┴───────┘"
      ]
     },
     "metadata": {},
     "output_type": "display_data"
    }
   ],
   "source": [
    "general_ranking = get_ranking_score(df, 'is_general', noise=0.15, popularity_weight=0.7)\n",
    "display(general_ranking.head(30))"
   ]
  },
  {
   "attachments": {},
   "cell_type": "markdown",
   "id": "477fa8b3",
   "metadata": {},
   "source": [
    "# Add to History"
   ]
  },
  {
   "cell_type": "code",
   "execution_count": 7,
   "id": "930c85b9",
   "metadata": {},
   "outputs": [
    {
     "ename": "KeyboardInterrupt",
     "evalue": "This is here to stop you from running the whole notebook.",
     "output_type": "error",
     "traceback": [
      "\u001b[0;31m---------------------------------------------------------------------------\u001b[0m",
      "\u001b[0;31mKeyboardInterrupt\u001b[0m                         Traceback (most recent call last)",
      "Cell \u001b[0;32mIn[7], line 1\u001b[0m\n\u001b[0;32m----> 1\u001b[0m \u001b[38;5;28;01mraise\u001b[39;00m \u001b[38;5;167;01mKeyboardInterrupt\u001b[39;00m(\u001b[38;5;124m\"\u001b[39m\u001b[38;5;124mThis is here to stop you from running the whole notebook.\u001b[39m\u001b[38;5;124m\"\u001b[39m)\n",
      "\u001b[0;31mKeyboardInterrupt\u001b[0m: This is here to stop you from running the whole notebook."
     ]
    }
   ],
   "source": [
    "raise KeyboardInterrupt(\"This is here to stop you from running the whole notebook.\")"
   ]
  },
  {
   "cell_type": "code",
   "execution_count": 8,
   "id": "175a466e",
   "metadata": {},
   "outputs": [],
   "source": [
    "def name_from_id(id, trim_parens=False):\n",
    "    name_row = df.filter(pl.col(\"id\") == id).select(\"name\")\n",
    "    if len(name_row) != 1:\n",
    "        raise ValueError(f\"Expected 1 row, got {len(name_row)}\")\n",
    "    name = name_row[\"name\"].item()\n",
    "\n",
    "    if trim_parens:\n",
    "        if name.endswith(\")\") and \"(\" in name:\n",
    "            name = name[:name.rfind(\"(\")].strip()\n",
    "    \n",
    "    return name\n",
    "\n",
    "\n",
    "def format_for_csv(date, opening, sacrament, intermediate, closing):\n",
    "    str_list = []\n",
    "    if opening:\n",
    "        str_list.append(\n",
    "            f\"{date.strftime('%m/%d/%Y')},opening,{opening},\\\"{name_from_id(opening)}\\\"\"\n",
    "        )\n",
    "    if sacrament:\n",
    "        str_list.append(\n",
    "            f\"{date.strftime('%m/%d/%Y')},sacrament,{sacrament},\\\"{name_from_id(sacrament)}\\\"\"\n",
    "        )\n",
    "    if intermediate:\n",
    "        str_list.append(\n",
    "            f\"{date.strftime('%m/%d/%Y')},intermediate,{intermediate},\\\"{name_from_id(intermediate)}\\\"\"\n",
    "        )\n",
    "    if closing:\n",
    "        str_list.append(\n",
    "            f\"{date.strftime('%m/%d/%Y')},closing,{closing},\\\"{name_from_id(closing)}\\\"\"\n",
    "        )\n",
    "    csv_str = \"\\n\".join(str_list)\n",
    "    return csv_str\n",
    "\n",
    "\n",
    "def format_for_paste(opening, sacrament, intermediate, closing):\n",
    "    str_list = []\n",
    "    if opening:\n",
    "        str_list.append(\n",
    "            f\"{opening} - {name_from_id(opening, trim_parens=True)}\",\n",
    "        )\n",
    "    else:\n",
    "        str_list.append(\"~\")\n",
    "    if sacrament:\n",
    "        str_list.append(\n",
    "            f\"{sacrament} - {name_from_id(sacrament, trim_parens=True)}\",\n",
    "        )\n",
    "    else:\n",
    "        str_list.append(\"~\")\n",
    "    if intermediate:\n",
    "        str_list.append(\n",
    "            f\"{intermediate} - {name_from_id(intermediate, trim_parens=True)}\",\n",
    "        )\n",
    "    else:\n",
    "        str_list.append(\"~\")\n",
    "    if closing:\n",
    "        str_list.append(\n",
    "            f\"{closing} - {name_from_id(closing, trim_parens=True)}\",\n",
    "        )\n",
    "    else:\n",
    "        str_list.append(\"~\")\n",
    "    paste_str = \"\\n\".join(str_list)\n",
    "    return paste_str\n",
    "\n",
    "date = dt.date(2025, 2, 9) # EDIT ME!\n",
    "opening = 6\n",
    "sacrament = 172\n",
    "intermediate = 230\n",
    "closing = 136"
   ]
  },
  {
   "cell_type": "code",
   "execution_count": 9,
   "id": "1f8248b3",
   "metadata": {},
   "outputs": [
    {
     "name": "stdout",
     "output_type": "stream",
     "text": [
      "Does this look right?\n",
      "02/09/2025,opening,6,\"Redeemer of Israel\"\n",
      "02/09/2025,sacrament,172,\"In Humility, Our Savior\"\n",
      "02/09/2025,intermediate,230,\"Scatter Sunshine\"\n",
      "02/09/2025,closing,136,\"I Know That My Redeemer Lives\"\n"
     ]
    }
   ],
   "source": [
    "csv_str = format_for_csv(date, opening, sacrament, intermediate, closing)\n",
    "print(\"Does this look right?\")\n",
    "print(csv_str)"
   ]
  },
  {
   "cell_type": "code",
   "execution_count": 10,
   "id": "1bc805b4",
   "metadata": {},
   "outputs": [],
   "source": [
    "# Append to history csv\n",
    "with open('history.csv', 'a') as f:\n",
    "    f.write(csv_str)\n",
    "    f.write(\"\\n\")"
   ]
  },
  {
   "cell_type": "code",
   "execution_count": 11,
   "id": "cface9a5",
   "metadata": {},
   "outputs": [
    {
     "name": "stdout",
     "output_type": "stream",
     "text": [
      "6 - Redeemer of Israel\n",
      "172 - In Humility, Our Savior\n",
      "230 - Scatter Sunshine\n",
      "136 - I Know That My Redeemer Lives\n"
     ]
    }
   ],
   "source": [
    "# In Google Sheets, paste with *CTRL + SHIFT + V*\n",
    "paste_str = format_for_paste(opening, sacrament, intermediate, closing)\n",
    "print(paste_str)"
   ]
  },
  {
   "cell_type": "code",
   "execution_count": null,
   "id": "5f5843b8",
   "metadata": {},
   "outputs": [],
   "source": []
  }
 ],
 "metadata": {
  "kernelspec": {
   "display_name": ".venv",
   "language": "python",
   "name": "python3"
  },
  "language_info": {
   "codemirror_mode": {
    "name": "ipython",
    "version": 3
   },
   "file_extension": ".py",
   "mimetype": "text/x-python",
   "name": "python",
   "nbconvert_exporter": "python",
   "pygments_lexer": "ipython3",
   "version": "3.12.1"
  }
 },
 "nbformat": 4,
 "nbformat_minor": 5
}
