{
 "cells": [
  {
   "attachments": {},
   "cell_type": "markdown",
   "id": "fe153eff-ff7a-4ef4-9869-42c66368dd10",
   "metadata": {},
   "source": [
    "## TODO\n",
    " - Make a list of important dates (holidays, fast sundays, stake conferences)\n",
    " - Add a check for all future-scheduled dates that they don't have any hymns that were sung recently. This would happen if a hymn got changed after the schedule was made."
   ]
  },
  {
   "attachments": {},
   "cell_type": "markdown",
   "id": "5a0e8093",
   "metadata": {},
   "source": [
    "# Steps to use:\n",
    " 1. Make sure the history is accurate for the past few weeks\n",
    " 2. Check if there are any holidays, fast sundays, or special meetings coming up\n",
    " 3. Run most of the notebook to generate suggestions\n",
    " 4. Select hymns, enter on Edify\n",
    " 5. Add selected hymns to history\n",
    " 6. Add hymns to Gospel Library\n",
    " 7. Update ward program, if needed, using Gospel Library as reference\n"
   ]
  },
  {
   "cell_type": "code",
   "execution_count": 1,
   "id": "b3502914-dbad-43f8-a504-99b09d89e2f2",
   "metadata": {},
   "outputs": [
    {
     "data": {
      "text/plain": [
       "polars.config.Config"
      ]
     },
     "execution_count": 1,
     "metadata": {},
     "output_type": "execute_result"
    }
   ],
   "source": [
    "import datetime as dt\n",
    "\n",
    "import numpy as np\n",
    "import polars as pl\n",
    "\n",
    "pl.Config().set_tbl_rows(30)\n",
    "pl.Config().set_fmt_str_lengths(50)"
   ]
  },
  {
   "cell_type": "code",
   "execution_count": 2,
   "id": "b0f87709",
   "metadata": {},
   "outputs": [],
   "source": [
    "def load_history() -> pl.DataFrame:\n",
    "    history_df = pl.read_csv('history.csv', infer_schema_length=None)\n",
    "    history_df = history_df.with_columns(\n",
    "        pl.col(\"date\").str.strptime(pl.Date, \"%m/%d/%Y\").alias(\"date\"),\n",
    "    ).drop('name').drop_nulls()\n",
    "    return history_df\n",
    "\n",
    "def error_check_history() -> None:\n",
    "    \"\"\"Check that no future dates are duplicates with any dates since 8 weeks ago.\"\"\"\n",
    "    history_df = load_history()\n",
    "    num_weeks_cutoff = 8\n",
    "    today = dt.datetime.today().date()\n",
    "    lookback_date = today - dt.timedelta(days=7 * num_weeks_cutoff)\n",
    "    recent_and_future_history = history_df.filter(pl.col(\"date\") >= lookback_date)\n",
    "    value_counts = recent_and_future_history[\"id\"].value_counts()\n",
    "    recent_and_future_history = recent_and_future_history.join(\n",
    "        value_counts, on=\"id\", how=\"left\"\n",
    "    ).rename({\"count\": \"recent_count\"})\n",
    "\n",
    "    future_history = recent_and_future_history.filter(pl.col(\"date\") >= today)\n",
    "    duplicates = future_history.filter(pl.col(\"recent_count\") > 1)\n",
    "    if len(duplicates) > 0:\n",
    "        display(duplicates)\n",
    "        print(\">>> WARNING! DUPLICATES FOUND! <<<\\n\")\n",
    "\n",
    "def add_last_sung_col(df):\n",
    "    history_df = load_history()\n",
    "    last_sung = history_df.group_by('id').agg(pl.max('date').alias('last_sung'))\n",
    "    df = df.join(last_sung, on='id', how='left')\n",
    "    return df\n",
    "\n",
    "\n",
    "def get_ranking_score(df: pl.DataFrame, type_col: str, popularity_weight=0.5, noise=0.0) -> pl.Series:\n",
    "    score_df = df.filter((pl.col(type_col) == 1) & (pl.col('flagged').fill_null(0) != 1))\n",
    "    weeks_since_fill_value = 100\n",
    "    # Add days since last sung column\n",
    "    score_df = score_df.with_columns(\n",
    "        ((pl.lit(dt.datetime.today()) - pl.col('last_sung')).dt.total_days()//7)\n",
    "        .fill_null(weeks_since_fill_value)\n",
    "        .alias('weeks_since')\n",
    "    )\n",
    "\n",
    "    midpoint = 7\n",
    "    slope = 2\n",
    "\n",
    "    def popularity_func(x): return np.round(\n",
    "        1 / (1 + np.exp(-slope * (x - midpoint))), 2)\n",
    "    weeks_cutoff = 8\n",
    "    score_df = score_df.with_columns((pl.col('popularity') + pl.col('popularity_adjustment').fill_null(0)).alias('adj_popularity'))\n",
    "    score_df = score_df.with_columns(\n",
    "        pl.col('adj_popularity').map_elements(popularity_func).alias('popularity_score'),\n",
    "        pl.when(pl.col('weeks_since') > weeks_cutoff)\n",
    "        .then((pl.col('weeks_since') / (weeks_since_fill_value/2)).round(3))\n",
    "        .otherwise(-100).alias('weeks_since_score'),\n",
    "        pl.Series(np.round(np.random.uniform(-noise, noise,\n",
    "                  len(score_df)), 2)).alias('noise'),\n",
    "    ).with_columns(\n",
    "        (pl.col('popularity_score') * popularity_weight + pl.col('weeks_since_score')\n",
    "         * (1 - popularity_weight)).alias('score') + pl.col('noise')\n",
    "    )\n",
    "\n",
    "    score_df = score_df.select([\n",
    "        'id', 'name', 'length', 'adj_popularity', 'weeks_since', 'popularity_score', 'weeks_since_score', 'score'\n",
    "    ]).sort('score', descending=True)\n",
    "\n",
    "    return score_df"
   ]
  },
  {
   "cell_type": "code",
   "execution_count": 3,
   "id": "e60d50c3",
   "metadata": {},
   "outputs": [],
   "source": [
    "error_check_history()\n",
    "df = pl.read_csv(\"hymns.csv\")\n",
    "df = add_last_sung_col(df)"
   ]
  },
  {
   "attachments": {},
   "cell_type": "markdown",
   "id": "65fc7e07",
   "metadata": {},
   "source": [
    "## Sacrament Hymn"
   ]
  },
  {
   "cell_type": "code",
   "execution_count": 4,
   "id": "092bf52d",
   "metadata": {},
   "outputs": [
    {
     "data": {
      "text/html": [
       "<div><style>\n",
       ".dataframe > thead > tr,\n",
       ".dataframe > tbody > tr {\n",
       "  text-align: right;\n",
       "  white-space: pre-wrap;\n",
       "}\n",
       "</style>\n",
       "<small>shape: (10, 8)</small><table border=\"1\" class=\"dataframe\"><thead><tr><th>id</th><th>name</th><th>length</th><th>adj_popularity</th><th>weeks_since</th><th>popularity_score</th><th>weeks_since_score</th><th>score</th></tr><tr><td>i64</td><td>str</td><td>str</td><td>i64</td><td>i64</td><td>f64</td><td>f64</td><td>f64</td></tr></thead><tbody><tr><td>146</td><td>&quot;Gently Raise the Sacred Strain&quot;</td><td>&quot;3:55&quot;</td><td>8</td><td>33</td><td>0.88</td><td>0.66</td><td>0.84</td></tr><tr><td>171</td><td>&quot;With Humble Heart&quot;</td><td>&quot;2:44&quot;</td><td>10</td><td>22</td><td>1.0</td><td>0.44</td><td>0.82</td></tr><tr><td>188</td><td>&quot;Thy Will, O Lord, Be Done&quot;</td><td>&quot;2:18&quot;</td><td>10</td><td>29</td><td>1.0</td><td>0.58</td><td>0.81</td></tr><tr><td>177</td><td>&quot;Tis Sweet to Sing the Matchless Love (HANCOCK)&quot;</td><td>&quot;3:08&quot;</td><td>10</td><td>25</td><td>1.0</td><td>0.5</td><td>0.79</td></tr><tr><td>180</td><td>&quot;Father in Heaven, We Do Believe&quot;</td><td>&quot;2:14&quot;</td><td>10</td><td>19</td><td>1.0</td><td>0.38</td><td>0.73</td></tr><tr><td>194</td><td>&quot;There Is a Green Hill Far Away&quot;</td><td>&quot;2:19&quot;</td><td>10</td><td>24</td><td>1.0</td><td>0.48</td><td>0.71</td></tr><tr><td>193</td><td>&quot;I Stand All Amazed&quot;</td><td>&quot;3:41&quot;</td><td>10</td><td>17</td><td>1.0</td><td>0.34</td><td>0.7</td></tr><tr><td>186</td><td>&quot;Again We Meet around the Board&quot;</td><td>&quot;2:57&quot;</td><td>8</td><td>16</td><td>0.88</td><td>0.32</td><td>0.68</td></tr><tr><td>169</td><td>&quot;As Now We Take the Sacrament&quot;</td><td>&quot;3:01&quot;</td><td>10</td><td>15</td><td>1.0</td><td>0.3</td><td>0.66</td></tr><tr><td>185</td><td>&quot;Reverently and Meekly Now&quot;</td><td>&quot;5:06&quot;</td><td>8</td><td>27</td><td>0.88</td><td>0.54</td><td>0.64</td></tr></tbody></table></div>"
      ],
      "text/plain": [
       "shape: (10, 8)\n",
       "┌─────┬───────────────┬────────┬───────────────┬─────────────┬──────────────┬──────────────┬───────┐\n",
       "│ id  ┆ name          ┆ length ┆ adj_popularit ┆ weeks_since ┆ popularity_s ┆ weeks_since_ ┆ score │\n",
       "│ --- ┆ ---           ┆ ---    ┆ y             ┆ ---         ┆ core         ┆ score        ┆ ---   │\n",
       "│ i64 ┆ str           ┆ str    ┆ ---           ┆ i64         ┆ ---          ┆ ---          ┆ f64   │\n",
       "│     ┆               ┆        ┆ i64           ┆             ┆ f64          ┆ f64          ┆       │\n",
       "╞═════╪═══════════════╪════════╪═══════════════╪═════════════╪══════════════╪══════════════╪═══════╡\n",
       "│ 146 ┆ Gently Raise  ┆ 3:55   ┆ 8             ┆ 33          ┆ 0.88         ┆ 0.66         ┆ 0.84  │\n",
       "│     ┆ the Sacred    ┆        ┆               ┆             ┆              ┆              ┆       │\n",
       "│     ┆ Strain        ┆        ┆               ┆             ┆              ┆              ┆       │\n",
       "│ 171 ┆ With Humble   ┆ 2:44   ┆ 10            ┆ 22          ┆ 1.0          ┆ 0.44         ┆ 0.82  │\n",
       "│     ┆ Heart         ┆        ┆               ┆             ┆              ┆              ┆       │\n",
       "│ 188 ┆ Thy Will, O   ┆ 2:18   ┆ 10            ┆ 29          ┆ 1.0          ┆ 0.58         ┆ 0.81  │\n",
       "│     ┆ Lord, Be Done ┆        ┆               ┆             ┆              ┆              ┆       │\n",
       "│ 177 ┆ Tis Sweet to  ┆ 3:08   ┆ 10            ┆ 25          ┆ 1.0          ┆ 0.5          ┆ 0.79  │\n",
       "│     ┆ Sing the      ┆        ┆               ┆             ┆              ┆              ┆       │\n",
       "│     ┆ Matchless     ┆        ┆               ┆             ┆              ┆              ┆       │\n",
       "│     ┆ Love          ┆        ┆               ┆             ┆              ┆              ┆       │\n",
       "│     ┆ (HANCOCK)     ┆        ┆               ┆             ┆              ┆              ┆       │\n",
       "│ 180 ┆ Father in     ┆ 2:14   ┆ 10            ┆ 19          ┆ 1.0          ┆ 0.38         ┆ 0.73  │\n",
       "│     ┆ Heaven, We Do ┆        ┆               ┆             ┆              ┆              ┆       │\n",
       "│     ┆ Believe       ┆        ┆               ┆             ┆              ┆              ┆       │\n",
       "│ 194 ┆ There Is a    ┆ 2:19   ┆ 10            ┆ 24          ┆ 1.0          ┆ 0.48         ┆ 0.71  │\n",
       "│     ┆ Green Hill    ┆        ┆               ┆             ┆              ┆              ┆       │\n",
       "│     ┆ Far Away      ┆        ┆               ┆             ┆              ┆              ┆       │\n",
       "│ 193 ┆ I Stand All   ┆ 3:41   ┆ 10            ┆ 17          ┆ 1.0          ┆ 0.34         ┆ 0.7   │\n",
       "│     ┆ Amazed        ┆        ┆               ┆             ┆              ┆              ┆       │\n",
       "│ 186 ┆ Again We Meet ┆ 2:57   ┆ 8             ┆ 16          ┆ 0.88         ┆ 0.32         ┆ 0.68  │\n",
       "│     ┆ around the    ┆        ┆               ┆             ┆              ┆              ┆       │\n",
       "│     ┆ Board         ┆        ┆               ┆             ┆              ┆              ┆       │\n",
       "│ 169 ┆ As Now We     ┆ 3:01   ┆ 10            ┆ 15          ┆ 1.0          ┆ 0.3          ┆ 0.66  │\n",
       "│     ┆ Take the      ┆        ┆               ┆             ┆              ┆              ┆       │\n",
       "│     ┆ Sacrament     ┆        ┆               ┆             ┆              ┆              ┆       │\n",
       "│ 185 ┆ Reverently    ┆ 5:06   ┆ 8             ┆ 27          ┆ 0.88         ┆ 0.54         ┆ 0.64  │\n",
       "│     ┆ and Meekly    ┆        ┆               ┆             ┆              ┆              ┆       │\n",
       "│     ┆ Now           ┆        ┆               ┆             ┆              ┆              ┆       │\n",
       "└─────┴───────────────┴────────┴───────────────┴─────────────┴──────────────┴──────────────┴───────┘"
      ]
     },
     "metadata": {},
     "output_type": "display_data"
    }
   ],
   "source": [
    "sacrament_ranking = get_ranking_score(df, 'is_sacrament', noise=0.1)\n",
    "display(sacrament_ranking.head(10))"
   ]
  },
  {
   "attachments": {},
   "cell_type": "markdown",
   "id": "0f84e2cb",
   "metadata": {},
   "source": [
    "## General Hymns"
   ]
  },
  {
   "cell_type": "code",
   "execution_count": 5,
   "id": "eb1890f3",
   "metadata": {},
   "outputs": [
    {
     "data": {
      "text/html": [
       "<div><style>\n",
       ".dataframe > thead > tr,\n",
       ".dataframe > tbody > tr {\n",
       "  text-align: right;\n",
       "  white-space: pre-wrap;\n",
       "}\n",
       "</style>\n",
       "<small>shape: (30, 8)</small><table border=\"1\" class=\"dataframe\"><thead><tr><th>id</th><th>name</th><th>length</th><th>adj_popularity</th><th>weeks_since</th><th>popularity_score</th><th>weeks_since_score</th><th>score</th></tr><tr><td>i64</td><td>str</td><td>str</td><td>i64</td><td>i64</td><td>f64</td><td>f64</td><td>f64</td></tr></thead><tbody><tr><td>219</td><td>&quot;Because I Have Been Given Much&quot;</td><td>null</td><td>10</td><td>24</td><td>1.0</td><td>0.48</td><td>0.954</td></tr><tr><td>131</td><td>&quot;More Holiness Give Me&quot;</td><td>&quot;2:49&quot;</td><td>9</td><td>25</td><td>0.98</td><td>0.5</td><td>0.946</td></tr><tr><td>113</td><td>&quot;Our Savior&#x27;s Love&quot;</td><td>&quot;2:55&quot;</td><td>9</td><td>23</td><td>0.98</td><td>0.46</td><td>0.944</td></tr><tr><td>86</td><td>&quot;How Great Thou Art&quot;</td><td>null</td><td>8</td><td>41</td><td>0.88</td><td>0.82</td><td>0.942</td></tr><tr><td>134</td><td>&quot;I Believe in Christ&quot;</td><td>&quot;5:00&quot;</td><td>8</td><td>32</td><td>0.88</td><td>0.64</td><td>0.908</td></tr><tr><td>223</td><td>&quot;Have I Done Any Good?&quot;</td><td>&quot;2:46&quot;</td><td>8</td><td>31</td><td>0.88</td><td>0.62</td><td>0.902</td></tr><tr><td>304</td><td>&quot;Teach Me to Walk in the Light&quot;</td><td>&quot;2:18&quot;</td><td>10</td><td>12</td><td>1.0</td><td>0.24</td><td>0.842</td></tr><tr><td>133</td><td>&quot;Father in Heaven&quot;</td><td>&quot;2:41&quot;</td><td>6</td><td>100</td><td>0.12</td><td>2.0</td><td>0.834</td></tr><tr><td>6</td><td>&quot;Redeemer of Israel&quot;</td><td>&quot;2:45&quot;</td><td>9</td><td>18</td><td>0.98</td><td>0.36</td><td>0.834</td></tr><tr><td>92</td><td>&quot;For the Beauty of the Earth&quot;</td><td>&quot;2:13&quot;</td><td>9</td><td>14</td><td>0.98</td><td>0.28</td><td>0.83</td></tr><tr><td>139</td><td>&quot;In Fasting We Approach Thee&quot;</td><td>&quot;2:31&quot;</td><td>8</td><td>19</td><td>0.88</td><td>0.38</td><td>0.83</td></tr><tr><td>226</td><td>&quot;Improve the Shining Moments&quot;</td><td>&quot;2:25&quot;</td><td>6</td><td>100</td><td>0.12</td><td>2.0</td><td>0.824</td></tr><tr><td>152</td><td>&quot;God Be with You Till We Meet Again&quot;</td><td>&quot;3:15&quot;</td><td>8</td><td>24</td><td>0.88</td><td>0.48</td><td>0.81</td></tr><tr><td>95</td><td>&quot;Now Thank We All Our God&quot;</td><td>&quot;2:18&quot;</td><td>6</td><td>100</td><td>0.12</td><td>2.0</td><td>0.804</td></tr><tr><td>106</td><td>&quot;God Speed the Right&quot;</td><td>&quot;1:47&quot;</td><td>7</td><td>57</td><td>0.5</td><td>1.14</td><td>0.802</td></tr><tr><td>26</td><td>&quot;Joseph Smith&#x27;s First Prayer&quot;</td><td>&quot;3:37&quot;</td><td>8</td><td>44</td><td>0.88</td><td>0.88</td><td>0.8</td></tr><tr><td>246</td><td>&quot;Onward, Christian Soldiers&quot;</td><td>&quot;4:19&quot;</td><td>6</td><td>100</td><td>0.12</td><td>2.0</td><td>0.794</td></tr><tr><td>85</td><td>&quot;How Firm a Foundation&quot;</td><td>&quot;2:42&quot;</td><td>10</td><td>15</td><td>1.0</td><td>0.3</td><td>0.79</td></tr><tr><td>87</td><td>&quot;God Is Love&quot;</td><td>&quot;2:59&quot;</td><td>6</td><td>100</td><td>0.12</td><td>2.0</td><td>0.784</td></tr><tr><td>146</td><td>&quot;Gently Raise the Sacred Strain&quot;</td><td>&quot;3:55&quot;</td><td>8</td><td>33</td><td>0.88</td><td>0.66</td><td>0.784</td></tr><tr><td>84</td><td>&quot;Faith of Our Fathers&quot;</td><td>&quot;2:43&quot;</td><td>6</td><td>100</td><td>0.12</td><td>2.0</td><td>0.774</td></tr><tr><td>277</td><td>&quot;As I Search the Holy Scriptures&quot;</td><td>&quot;2:16&quot;</td><td>8</td><td>33</td><td>0.88</td><td>0.66</td><td>0.774</td></tr><tr><td>105</td><td>&quot;Master, the Tempest Is Raging&quot;</td><td>&quot;4:13&quot;</td><td>8</td><td>16</td><td>0.88</td><td>0.32</td><td>0.772</td></tr><tr><td>218</td><td>&quot;We Give Thee But Thine Own&quot;</td><td>&quot;2:20&quot;</td><td>5</td><td>100</td><td>0.02</td><td>2.0</td><td>0.764</td></tr><tr><td>254</td><td>&quot;True to the Faith&quot;</td><td>&quot;3:22&quot;</td><td>6</td><td>100</td><td>0.12</td><td>2.0</td><td>0.764</td></tr><tr><td>58</td><td>&quot;Come, Ye Children of the Lord&quot;</td><td>&quot;2:18&quot;</td><td>9</td><td>17</td><td>0.98</td><td>0.34</td><td>0.758</td></tr><tr><td>22</td><td>&quot;We Listen to a Prophet&#x27;s Voice&quot;</td><td>&quot;2:57&quot;</td><td>5</td><td>100</td><td>0.02</td><td>2.0</td><td>0.754</td></tr><tr><td>41</td><td>&quot;Let Zion in Her Beauty Rise&quot;</td><td>&quot;2:28&quot;</td><td>5</td><td>100</td><td>0.02</td><td>2.0</td><td>0.754</td></tr><tr><td>9</td><td>&quot;Come, Rejoice&quot;</td><td>&quot;2:34&quot;</td><td>6</td><td>100</td><td>0.12</td><td>2.0</td><td>0.754</td></tr><tr><td>243</td><td>&quot;Let Us All Press On&quot;</td><td>&quot;2:22&quot;</td><td>9</td><td>26</td><td>0.98</td><td>0.52</td><td>0.752</td></tr></tbody></table></div>"
      ],
      "text/plain": [
       "shape: (30, 8)\n",
       "┌─────┬───────────────┬────────┬───────────────┬─────────────┬──────────────┬──────────────┬───────┐\n",
       "│ id  ┆ name          ┆ length ┆ adj_popularit ┆ weeks_since ┆ popularity_s ┆ weeks_since_ ┆ score │\n",
       "│ --- ┆ ---           ┆ ---    ┆ y             ┆ ---         ┆ core         ┆ score        ┆ ---   │\n",
       "│ i64 ┆ str           ┆ str    ┆ ---           ┆ i64         ┆ ---          ┆ ---          ┆ f64   │\n",
       "│     ┆               ┆        ┆ i64           ┆             ┆ f64          ┆ f64          ┆       │\n",
       "╞═════╪═══════════════╪════════╪═══════════════╪═════════════╪══════════════╪══════════════╪═══════╡\n",
       "│ 219 ┆ Because I     ┆ null   ┆ 10            ┆ 24          ┆ 1.0          ┆ 0.48         ┆ 0.954 │\n",
       "│     ┆ Have Been     ┆        ┆               ┆             ┆              ┆              ┆       │\n",
       "│     ┆ Given Much    ┆        ┆               ┆             ┆              ┆              ┆       │\n",
       "│ 131 ┆ More Holiness ┆ 2:49   ┆ 9             ┆ 25          ┆ 0.98         ┆ 0.5          ┆ 0.946 │\n",
       "│     ┆ Give Me       ┆        ┆               ┆             ┆              ┆              ┆       │\n",
       "│ 113 ┆ Our Savior's  ┆ 2:55   ┆ 9             ┆ 23          ┆ 0.98         ┆ 0.46         ┆ 0.944 │\n",
       "│     ┆ Love          ┆        ┆               ┆             ┆              ┆              ┆       │\n",
       "│ 86  ┆ How Great     ┆ null   ┆ 8             ┆ 41          ┆ 0.88         ┆ 0.82         ┆ 0.942 │\n",
       "│     ┆ Thou Art      ┆        ┆               ┆             ┆              ┆              ┆       │\n",
       "│ 134 ┆ I Believe in  ┆ 5:00   ┆ 8             ┆ 32          ┆ 0.88         ┆ 0.64         ┆ 0.908 │\n",
       "│     ┆ Christ        ┆        ┆               ┆             ┆              ┆              ┆       │\n",
       "│ 223 ┆ Have I Done   ┆ 2:46   ┆ 8             ┆ 31          ┆ 0.88         ┆ 0.62         ┆ 0.902 │\n",
       "│     ┆ Any Good?     ┆        ┆               ┆             ┆              ┆              ┆       │\n",
       "│ 304 ┆ Teach Me to   ┆ 2:18   ┆ 10            ┆ 12          ┆ 1.0          ┆ 0.24         ┆ 0.842 │\n",
       "│     ┆ Walk in the   ┆        ┆               ┆             ┆              ┆              ┆       │\n",
       "│     ┆ Light         ┆        ┆               ┆             ┆              ┆              ┆       │\n",
       "│ 133 ┆ Father in     ┆ 2:41   ┆ 6             ┆ 100         ┆ 0.12         ┆ 2.0          ┆ 0.834 │\n",
       "│     ┆ Heaven        ┆        ┆               ┆             ┆              ┆              ┆       │\n",
       "│ 6   ┆ Redeemer of   ┆ 2:45   ┆ 9             ┆ 18          ┆ 0.98         ┆ 0.36         ┆ 0.834 │\n",
       "│     ┆ Israel        ┆        ┆               ┆             ┆              ┆              ┆       │\n",
       "│ 92  ┆ For the       ┆ 2:13   ┆ 9             ┆ 14          ┆ 0.98         ┆ 0.28         ┆ 0.83  │\n",
       "│     ┆ Beauty of the ┆        ┆               ┆             ┆              ┆              ┆       │\n",
       "│     ┆ Earth         ┆        ┆               ┆             ┆              ┆              ┆       │\n",
       "│ 139 ┆ In Fasting We ┆ 2:31   ┆ 8             ┆ 19          ┆ 0.88         ┆ 0.38         ┆ 0.83  │\n",
       "│     ┆ Approach Thee ┆        ┆               ┆             ┆              ┆              ┆       │\n",
       "│ 226 ┆ Improve the   ┆ 2:25   ┆ 6             ┆ 100         ┆ 0.12         ┆ 2.0          ┆ 0.824 │\n",
       "│     ┆ Shining       ┆        ┆               ┆             ┆              ┆              ┆       │\n",
       "│     ┆ Moments       ┆        ┆               ┆             ┆              ┆              ┆       │\n",
       "│ 152 ┆ God Be with   ┆ 3:15   ┆ 8             ┆ 24          ┆ 0.88         ┆ 0.48         ┆ 0.81  │\n",
       "│     ┆ You Till We   ┆        ┆               ┆             ┆              ┆              ┆       │\n",
       "│     ┆ Meet Again    ┆        ┆               ┆             ┆              ┆              ┆       │\n",
       "│ 95  ┆ Now Thank We  ┆ 2:18   ┆ 6             ┆ 100         ┆ 0.12         ┆ 2.0          ┆ 0.804 │\n",
       "│     ┆ All Our God   ┆        ┆               ┆             ┆              ┆              ┆       │\n",
       "│ 106 ┆ God Speed the ┆ 1:47   ┆ 7             ┆ 57          ┆ 0.5          ┆ 1.14         ┆ 0.802 │\n",
       "│     ┆ Right         ┆        ┆               ┆             ┆              ┆              ┆       │\n",
       "│ 26  ┆ Joseph        ┆ 3:37   ┆ 8             ┆ 44          ┆ 0.88         ┆ 0.88         ┆ 0.8   │\n",
       "│     ┆ Smith's First ┆        ┆               ┆             ┆              ┆              ┆       │\n",
       "│     ┆ Prayer        ┆        ┆               ┆             ┆              ┆              ┆       │\n",
       "│ 246 ┆ Onward,       ┆ 4:19   ┆ 6             ┆ 100         ┆ 0.12         ┆ 2.0          ┆ 0.794 │\n",
       "│     ┆ Christian     ┆        ┆               ┆             ┆              ┆              ┆       │\n",
       "│     ┆ Soldiers      ┆        ┆               ┆             ┆              ┆              ┆       │\n",
       "│ 85  ┆ How Firm a    ┆ 2:42   ┆ 10            ┆ 15          ┆ 1.0          ┆ 0.3          ┆ 0.79  │\n",
       "│     ┆ Foundation    ┆        ┆               ┆             ┆              ┆              ┆       │\n",
       "│ 87  ┆ God Is Love   ┆ 2:59   ┆ 6             ┆ 100         ┆ 0.12         ┆ 2.0          ┆ 0.784 │\n",
       "│ 146 ┆ Gently Raise  ┆ 3:55   ┆ 8             ┆ 33          ┆ 0.88         ┆ 0.66         ┆ 0.784 │\n",
       "│     ┆ the Sacred    ┆        ┆               ┆             ┆              ┆              ┆       │\n",
       "│     ┆ Strain        ┆        ┆               ┆             ┆              ┆              ┆       │\n",
       "│ 84  ┆ Faith of Our  ┆ 2:43   ┆ 6             ┆ 100         ┆ 0.12         ┆ 2.0          ┆ 0.774 │\n",
       "│     ┆ Fathers       ┆        ┆               ┆             ┆              ┆              ┆       │\n",
       "│ 277 ┆ As I Search   ┆ 2:16   ┆ 8             ┆ 33          ┆ 0.88         ┆ 0.66         ┆ 0.774 │\n",
       "│     ┆ the Holy      ┆        ┆               ┆             ┆              ┆              ┆       │\n",
       "│     ┆ Scriptures    ┆        ┆               ┆             ┆              ┆              ┆       │\n",
       "│ 105 ┆ Master, the   ┆ 4:13   ┆ 8             ┆ 16          ┆ 0.88         ┆ 0.32         ┆ 0.772 │\n",
       "│     ┆ Tempest Is    ┆        ┆               ┆             ┆              ┆              ┆       │\n",
       "│     ┆ Raging        ┆        ┆               ┆             ┆              ┆              ┆       │\n",
       "│ 218 ┆ We Give Thee  ┆ 2:20   ┆ 5             ┆ 100         ┆ 0.02         ┆ 2.0          ┆ 0.764 │\n",
       "│     ┆ But Thine Own ┆        ┆               ┆             ┆              ┆              ┆       │\n",
       "│ 254 ┆ True to the   ┆ 3:22   ┆ 6             ┆ 100         ┆ 0.12         ┆ 2.0          ┆ 0.764 │\n",
       "│     ┆ Faith         ┆        ┆               ┆             ┆              ┆              ┆       │\n",
       "│ 58  ┆ Come, Ye      ┆ 2:18   ┆ 9             ┆ 17          ┆ 0.98         ┆ 0.34         ┆ 0.758 │\n",
       "│     ┆ Children of   ┆        ┆               ┆             ┆              ┆              ┆       │\n",
       "│     ┆ the Lord      ┆        ┆               ┆             ┆              ┆              ┆       │\n",
       "│ 22  ┆ We Listen to  ┆ 2:57   ┆ 5             ┆ 100         ┆ 0.02         ┆ 2.0          ┆ 0.754 │\n",
       "│     ┆ a Prophet's   ┆        ┆               ┆             ┆              ┆              ┆       │\n",
       "│     ┆ Voice         ┆        ┆               ┆             ┆              ┆              ┆       │\n",
       "│ 41  ┆ Let Zion in   ┆ 2:28   ┆ 5             ┆ 100         ┆ 0.02         ┆ 2.0          ┆ 0.754 │\n",
       "│     ┆ Her Beauty    ┆        ┆               ┆             ┆              ┆              ┆       │\n",
       "│     ┆ Rise          ┆        ┆               ┆             ┆              ┆              ┆       │\n",
       "│ 9   ┆ Come, Rejoice ┆ 2:34   ┆ 6             ┆ 100         ┆ 0.12         ┆ 2.0          ┆ 0.754 │\n",
       "│ 243 ┆ Let Us All    ┆ 2:22   ┆ 9             ┆ 26          ┆ 0.98         ┆ 0.52         ┆ 0.752 │\n",
       "│     ┆ Press On      ┆        ┆               ┆             ┆              ┆              ┆       │\n",
       "└─────┴───────────────┴────────┴───────────────┴─────────────┴──────────────┴──────────────┴───────┘"
      ]
     },
     "metadata": {},
     "output_type": "display_data"
    }
   ],
   "source": [
    "general_ranking = get_ranking_score(df, 'is_general', noise=0.15, popularity_weight=0.7)\n",
    "display(general_ranking.head(30))"
   ]
  },
  {
   "attachments": {},
   "cell_type": "markdown",
   "id": "477fa8b3",
   "metadata": {},
   "source": [
    "# Add to History"
   ]
  },
  {
   "cell_type": "code",
   "execution_count": 6,
   "id": "930c85b9",
   "metadata": {},
   "outputs": [
    {
     "ename": "KeyboardInterrupt",
     "evalue": "This is here to stop you from running the whole notebook.",
     "output_type": "error",
     "traceback": [
      "\u001b[0;31m---------------------------------------------------------------------------\u001b[0m",
      "\u001b[0;31mKeyboardInterrupt\u001b[0m                         Traceback (most recent call last)",
      "Cell \u001b[0;32mIn[6], line 1\u001b[0m\n\u001b[0;32m----> 1\u001b[0m \u001b[38;5;28;01mraise\u001b[39;00m \u001b[38;5;167;01mKeyboardInterrupt\u001b[39;00m(\u001b[38;5;124m\"\u001b[39m\u001b[38;5;124mThis is here to stop you from running the whole notebook.\u001b[39m\u001b[38;5;124m\"\u001b[39m)\n",
      "\u001b[0;31mKeyboardInterrupt\u001b[0m: This is here to stop you from running the whole notebook."
     ]
    }
   ],
   "source": [
    "raise KeyboardInterrupt(\"This is here to stop you from running the whole notebook.\")"
   ]
  },
  {
   "cell_type": "code",
   "execution_count": null,
   "id": "175a466e",
   "metadata": {},
   "outputs": [],
   "source": [
    "def name_from_id(id):\n",
    "    name_row = df.filter(pl.col(\"id\") == id).select(\"name\")\n",
    "    if len(name_row) != 1:\n",
    "        raise ValueError(f\"Expected 1 row, got {len(name_row)}\")\n",
    "    return name_row[\"name\"].item()\n",
    "\n",
    "\n",
    "def format_for_csv(date, opening, sacrament, intermediate, closing):\n",
    "    str_list = []\n",
    "    if opening:\n",
    "        str_list.append(\n",
    "            f\"{date.strftime('%m/%d/%Y')},opening,{opening},\\\"{name_from_id(opening)}\\\"\"\n",
    "        )\n",
    "    if sacrament:\n",
    "        str_list.append(\n",
    "            f\"{date.strftime('%m/%d/%Y')},sacrament,{sacrament},\\\"{name_from_id(sacrament)}\\\"\"\n",
    "        )\n",
    "    if intermediate:\n",
    "        str_list.append(\n",
    "            f\"{date.strftime('%m/%d/%Y')},intermediate,{intermediate},\\\"{name_from_id(intermediate)}\\\"\"\n",
    "        )\n",
    "    if closing:\n",
    "        str_list.append(\n",
    "            f\"{date.strftime('%m/%d/%Y')},closing,{closing},\\\"{name_from_id(closing)}\\\"\"\n",
    "        )\n",
    "    csv_str = \"\\n\".join(str_list)\n",
    "    return csv_str\n",
    "\n",
    "date = dt.date(2024, 3, 20) # EDIT ME!\n",
    "opening = 89\n",
    "sacrament = 128\n",
    "intermediate = 134\n",
    "closing = 123"
   ]
  },
  {
   "cell_type": "code",
   "execution_count": null,
   "id": "1f8248b3",
   "metadata": {},
   "outputs": [
    {
     "name": "stdout",
     "output_type": "stream",
     "text": [
      "Does this look right?\n",
      "03/20/2024,opening,89,\"The Lord Is My Light\"\n",
      "03/20/2024,sacrament,128,\"When Faith Endures\"\n",
      "03/20/2024,intermediate,134,\"I Believe in Christ\"\n",
      "03/20/2024,closing,123,\"Oh, May My Soul Commune with Thee\"\n"
     ]
    }
   ],
   "source": [
    "csv_str = format_for_csv(date, opening, sacrament, intermediate, closing)\n",
    "print(\"Does this look right?\")\n",
    "print(csv_str)"
   ]
  },
  {
   "cell_type": "code",
   "execution_count": null,
   "id": "1bc805b4",
   "metadata": {},
   "outputs": [],
   "source": [
    "# Append to history csv\n",
    "with open('history.csv', 'a') as f:\n",
    "    f.write(csv_str)\n",
    "    f.write(\"\\n\")"
   ]
  },
  {
   "cell_type": "code",
   "execution_count": null,
   "id": "5f5843b8",
   "metadata": {},
   "outputs": [],
   "source": []
  }
 ],
 "metadata": {
  "kernelspec": {
   "display_name": "Python 3",
   "language": "python",
   "name": "python3"
  },
  "language_info": {
   "codemirror_mode": {
    "name": "ipython",
    "version": 3
   },
   "file_extension": ".py",
   "mimetype": "text/x-python",
   "name": "python",
   "nbconvert_exporter": "python",
   "pygments_lexer": "ipython3",
   "version": "3.12.1"
  }
 },
 "nbformat": 4,
 "nbformat_minor": 5
}
