{
 "cells": [
  {
   "attachments": {},
   "cell_type": "markdown",
   "id": "fe153eff-ff7a-4ef4-9869-42c66368dd10",
   "metadata": {},
   "source": [
    "## TODO\n",
    " - Make a list of important dates (holidays, fast sundays, stake conferences)\n",
    " - Add a check for all future-scheduled dates that they don't have any hymns that were sung recently. This would happen if a hymn got changed after the schedule was made."
   ]
  },
  {
   "attachments": {},
   "cell_type": "markdown",
   "id": "5a0e8093",
   "metadata": {},
   "source": [
    "# Steps to use:\n",
    " 1. Make sure the history is accurate for the past few weeks\n",
    " 2. Check if there are any holidays, fast sundays, or special meetings coming up\n",
    " 3. Run most of the notebook to generate suggestions\n",
    " 4. Select hymns, enter on Edify\n",
    " 5. Add selected hymns to history\n",
    " 6. Add hymns to Gospel Library\n",
    " 7. Update ward program, if needed, using Gospel Library as reference\n",
    " 8. Email Ilene Shelton what the hymns are ileneshelton66@gmail.com\n"
   ]
  },
  {
   "cell_type": "code",
   "execution_count": 1,
   "id": "b3502914-dbad-43f8-a504-99b09d89e2f2",
   "metadata": {},
   "outputs": [
    {
     "data": {
      "text/plain": [
       "polars.config.Config"
      ]
     },
     "execution_count": 1,
     "metadata": {},
     "output_type": "execute_result"
    }
   ],
   "source": [
    "import datetime as dt\n",
    "\n",
    "import numpy as np\n",
    "import polars as pl\n",
    "\n",
    "pl.Config().set_tbl_rows(30)\n",
    "pl.Config().set_fmt_str_lengths(50)"
   ]
  },
  {
   "cell_type": "code",
   "execution_count": 2,
   "id": "b0f87709",
   "metadata": {},
   "outputs": [],
   "source": [
    "def add_last_sung_col(df):\n",
    "    # Load history df\n",
    "    history_df = pl.read_csv('history.csv', infer_schema_length=None)\n",
    "    history_df = history_df.with_columns(\n",
    "        pl.col(\"date\").str.strptime(pl.Date, \"%m/%d/%Y\").alias(\"date\"),\n",
    "    ).drop('name').drop_nulls()\n",
    "    history_df.head()\n",
    "\n",
    "    last_sung = history_df.group_by('id').agg(pl.max('date').alias('last_sung'))\n",
    "    df = df.join(last_sung, on='id', how='left')\n",
    "    return df\n",
    "\n",
    "\n",
    "def get_ranking_score(df: pl.DataFrame, type_col: str, popularity_weight=0.5, noise=0.0) -> pl.Series:\n",
    "    score_df = df.filter((pl.col(type_col) == 1) & (pl.col('flagged').fill_null(0) != 1))\n",
    "    weeks_since_fill_value = 100\n",
    "    # Add days since last sung column\n",
    "    score_df = score_df.with_columns(\n",
    "        ((pl.lit(dt.datetime.today()) - pl.col('last_sung')).dt.total_days()//7)\n",
    "        .fill_null(weeks_since_fill_value)\n",
    "        .alias('weeks_since')\n",
    "    )\n",
    "\n",
    "    midpoint = 7\n",
    "    slope = 2\n",
    "\n",
    "    def popularity_func(x): return np.round(\n",
    "        1 / (1 + np.exp(-slope * (x - midpoint))), 2)\n",
    "    weeks_cutoff = 8\n",
    "    score_df = score_df.with_columns((pl.col('popularity') + pl.col('popularity_adjustment').fill_null(0)).alias('adj_popularity'))\n",
    "    score_df = score_df.with_columns(\n",
    "        pl.col('adj_popularity').map_elements(popularity_func).alias('popularity_score'),\n",
    "        pl.when(pl.col('weeks_since') > weeks_cutoff)\n",
    "        .then((pl.col('weeks_since') / (weeks_since_fill_value/2)).round(3))\n",
    "        .otherwise(-100).alias('weeks_since_score'),\n",
    "        pl.Series(np.round(np.random.uniform(-noise, noise,\n",
    "                  len(score_df)), 2)).alias('noise'),\n",
    "    ).with_columns(\n",
    "        (pl.col('popularity_score') * popularity_weight + pl.col('weeks_since_score')\n",
    "         * (1 - popularity_weight)).alias('score') + pl.col('noise')\n",
    "    )\n",
    "\n",
    "    score_df = score_df.select([\n",
    "        'id', 'name', 'length', 'adj_popularity', 'weeks_since', 'popularity_score', 'weeks_since_score', 'score'\n",
    "    ]).sort('score', descending=True)\n",
    "\n",
    "    return score_df"
   ]
  },
  {
   "cell_type": "code",
   "execution_count": 3,
   "id": "e60d50c3",
   "metadata": {},
   "outputs": [],
   "source": [
    "df = pl.read_csv(\"hymns.csv\")\n",
    "df = add_last_sung_col(df)"
   ]
  },
  {
   "attachments": {},
   "cell_type": "markdown",
   "id": "65fc7e07",
   "metadata": {},
   "source": [
    "## Sacrament Hymn"
   ]
  },
  {
   "cell_type": "code",
   "execution_count": 4,
   "id": "092bf52d",
   "metadata": {},
   "outputs": [
    {
     "data": {
      "text/html": [
       "<div><style>\n",
       ".dataframe > thead > tr,\n",
       ".dataframe > tbody > tr {\n",
       "  text-align: right;\n",
       "  white-space: pre-wrap;\n",
       "}\n",
       "</style>\n",
       "<small>shape: (10, 8)</small><table border=\"1\" class=\"dataframe\"><thead><tr><th>id</th><th>name</th><th>length</th><th>adj_popularity</th><th>weeks_since</th><th>popularity_score</th><th>weeks_since_score</th><th>score</th></tr><tr><td>i64</td><td>str</td><td>str</td><td>i64</td><td>i64</td><td>f64</td><td>f64</td><td>f64</td></tr></thead><tbody><tr><td>189</td><td>&quot;O Thou, Before the World Began&quot;</td><td>&quot;3:06&quot;</td><td>6</td><td>100</td><td>0.12</td><td>2.0</td><td>1.12</td></tr><tr><td>192</td><td>&quot;He Died! The Great Redeemer Died&quot;</td><td>&quot;3:05&quot;</td><td>10</td><td>38</td><td>1.0</td><td>0.76</td><td>0.9</td></tr><tr><td>195</td><td>&quot;How Great the Wisdom and the Love&quot;</td><td>&quot;3:57&quot;</td><td>10</td><td>39</td><td>1.0</td><td>0.78</td><td>0.89</td></tr><tr><td>187</td><td>&quot;God Loved Us, So He Sent His Son&quot;</td><td>&quot;1:46&quot;</td><td>10</td><td>33</td><td>1.0</td><td>0.66</td><td>0.85</td></tr><tr><td>174</td><td>&quot;While of These Emblems We Partake (AEOLIAN)&quot;</td><td>&quot;3:05&quot;</td><td>10</td><td>35</td><td>1.0</td><td>0.7</td><td>0.84</td></tr><tr><td>179</td><td>&quot;Again, Our Dear Redeeming Lord&quot;</td><td>&quot;2:36&quot;</td><td>9</td><td>27</td><td>0.98</td><td>0.54</td><td>0.83</td></tr><tr><td>191</td><td>&quot;Behold the Great Redeemer Die&quot;</td><td>&quot;3:19&quot;</td><td>10</td><td>25</td><td>1.0</td><td>0.5</td><td>0.83</td></tr><tr><td>170</td><td>&quot;God, Our Father, Hear Us Pray&quot;</td><td>&quot;2:21&quot;</td><td>10</td><td>32</td><td>1.0</td><td>0.64</td><td>0.79</td></tr><tr><td>190</td><td>&quot;In Memory of the Crucified&quot;</td><td>&quot;2:32&quot;</td><td>10</td><td>31</td><td>1.0</td><td>0.62</td><td>0.79</td></tr><tr><td>178</td><td>&quot;O Lord of Hosts&quot;</td><td>&quot;2:12&quot;</td><td>9</td><td>29</td><td>0.98</td><td>0.58</td><td>0.78</td></tr></tbody></table></div>"
      ],
      "text/plain": [
       "shape: (10, 8)\n",
       "┌─────┬───────────────┬────────┬───────────────┬─────────────┬──────────────┬──────────────┬───────┐\n",
       "│ id  ┆ name          ┆ length ┆ adj_popularit ┆ weeks_since ┆ popularity_s ┆ weeks_since_ ┆ score │\n",
       "│ --- ┆ ---           ┆ ---    ┆ y             ┆ ---         ┆ core         ┆ score        ┆ ---   │\n",
       "│ i64 ┆ str           ┆ str    ┆ ---           ┆ i64         ┆ ---          ┆ ---          ┆ f64   │\n",
       "│     ┆               ┆        ┆ i64           ┆             ┆ f64          ┆ f64          ┆       │\n",
       "╞═════╪═══════════════╪════════╪═══════════════╪═════════════╪══════════════╪══════════════╪═══════╡\n",
       "│ 189 ┆ O Thou,       ┆ 3:06   ┆ 6             ┆ 100         ┆ 0.12         ┆ 2.0          ┆ 1.12  │\n",
       "│     ┆ Before the    ┆        ┆               ┆             ┆              ┆              ┆       │\n",
       "│     ┆ World Began   ┆        ┆               ┆             ┆              ┆              ┆       │\n",
       "│ 192 ┆ He Died! The  ┆ 3:05   ┆ 10            ┆ 38          ┆ 1.0          ┆ 0.76         ┆ 0.9   │\n",
       "│     ┆ Great         ┆        ┆               ┆             ┆              ┆              ┆       │\n",
       "│     ┆ Redeemer Died ┆        ┆               ┆             ┆              ┆              ┆       │\n",
       "│ 195 ┆ How Great the ┆ 3:57   ┆ 10            ┆ 39          ┆ 1.0          ┆ 0.78         ┆ 0.89  │\n",
       "│     ┆ Wisdom and    ┆        ┆               ┆             ┆              ┆              ┆       │\n",
       "│     ┆ the Love      ┆        ┆               ┆             ┆              ┆              ┆       │\n",
       "│ 187 ┆ God Loved Us, ┆ 1:46   ┆ 10            ┆ 33          ┆ 1.0          ┆ 0.66         ┆ 0.85  │\n",
       "│     ┆ So He Sent    ┆        ┆               ┆             ┆              ┆              ┆       │\n",
       "│     ┆ His Son       ┆        ┆               ┆             ┆              ┆              ┆       │\n",
       "│ 174 ┆ While of      ┆ 3:05   ┆ 10            ┆ 35          ┆ 1.0          ┆ 0.7          ┆ 0.84  │\n",
       "│     ┆ These Emblems ┆        ┆               ┆             ┆              ┆              ┆       │\n",
       "│     ┆ We Partake    ┆        ┆               ┆             ┆              ┆              ┆       │\n",
       "│     ┆ (AEOLIAN)     ┆        ┆               ┆             ┆              ┆              ┆       │\n",
       "│ 179 ┆ Again, Our    ┆ 2:36   ┆ 9             ┆ 27          ┆ 0.98         ┆ 0.54         ┆ 0.83  │\n",
       "│     ┆ Dear          ┆        ┆               ┆             ┆              ┆              ┆       │\n",
       "│     ┆ Redeeming     ┆        ┆               ┆             ┆              ┆              ┆       │\n",
       "│     ┆ Lord          ┆        ┆               ┆             ┆              ┆              ┆       │\n",
       "│ 191 ┆ Behold the    ┆ 3:19   ┆ 10            ┆ 25          ┆ 1.0          ┆ 0.5          ┆ 0.83  │\n",
       "│     ┆ Great         ┆        ┆               ┆             ┆              ┆              ┆       │\n",
       "│     ┆ Redeemer Die  ┆        ┆               ┆             ┆              ┆              ┆       │\n",
       "│ 170 ┆ God, Our      ┆ 2:21   ┆ 10            ┆ 32          ┆ 1.0          ┆ 0.64         ┆ 0.79  │\n",
       "│     ┆ Father, Hear  ┆        ┆               ┆             ┆              ┆              ┆       │\n",
       "│     ┆ Us Pray       ┆        ┆               ┆             ┆              ┆              ┆       │\n",
       "│ 190 ┆ In Memory of  ┆ 2:32   ┆ 10            ┆ 31          ┆ 1.0          ┆ 0.62         ┆ 0.79  │\n",
       "│     ┆ the Crucified ┆        ┆               ┆             ┆              ┆              ┆       │\n",
       "│ 178 ┆ O Lord of     ┆ 2:12   ┆ 9             ┆ 29          ┆ 0.98         ┆ 0.58         ┆ 0.78  │\n",
       "│     ┆ Hosts         ┆        ┆               ┆             ┆              ┆              ┆       │\n",
       "└─────┴───────────────┴────────┴───────────────┴─────────────┴──────────────┴──────────────┴───────┘"
      ]
     },
     "metadata": {},
     "output_type": "display_data"
    }
   ],
   "source": [
    "sacrament_ranking = get_ranking_score(df, 'is_sacrament', noise=0.1)\n",
    "display(sacrament_ranking.head(10))"
   ]
  },
  {
   "attachments": {},
   "cell_type": "markdown",
   "id": "0f84e2cb",
   "metadata": {},
   "source": [
    "## General Hymns"
   ]
  },
  {
   "cell_type": "code",
   "execution_count": 5,
   "id": "eb1890f3",
   "metadata": {},
   "outputs": [
    {
     "data": {
      "text/html": [
       "<div><style>\n",
       ".dataframe > thead > tr,\n",
       ".dataframe > tbody > tr {\n",
       "  text-align: right;\n",
       "  white-space: pre-wrap;\n",
       "}\n",
       "</style>\n",
       "<small>shape: (8, 8)</small><table border=\"1\" class=\"dataframe\"><thead><tr><th>id</th><th>name</th><th>length</th><th>adj_popularity</th><th>weeks_since</th><th>popularity_score</th><th>weeks_since_score</th><th>score</th></tr><tr><td>i64</td><td>str</td><td>str</td><td>i64</td><td>i64</td><td>f64</td><td>f64</td><td>f64</td></tr></thead><tbody><tr><td>156</td><td>&quot;Sing We Now at Parting&quot;</td><td>&quot;2:47&quot;</td><td>8</td><td>36</td><td>0.88</td><td>0.72</td><td>0.922</td></tr><tr><td>3</td><td>&quot;Now Let Us Rejoice&quot;</td><td>&quot;3:29&quot;</td><td>10</td><td>23</td><td>1.0</td><td>0.46</td><td>0.888</td></tr><tr><td>95</td><td>&quot;Now Thank We All Our God&quot;</td><td>&quot;2:18&quot;</td><td>6</td><td>100</td><td>0.12</td><td>2.0</td><td>0.724</td></tr><tr><td>91</td><td>&quot;Father, Thy Children to Thee Now Raise&quot;</td><td>&quot;1:51&quot;</td><td>5</td><td>100</td><td>0.02</td><td>2.0</td><td>0.694</td></tr><tr><td>162</td><td>&quot;Lord, We Come before Thee Now&quot;</td><td>&quot;2:38&quot;</td><td>3</td><td>100</td><td>0.0</td><td>2.0</td><td>0.67</td></tr><tr><td>160</td><td>&quot;Softly Now the Light of Day&quot;</td><td>&quot;0:51&quot;</td><td>2</td><td>100</td><td>0.0</td><td>2.0</td><td>0.64</td></tr><tr><td>25</td><td>&quot;Now We&#x27;ll Sing with One Accord&quot;</td><td>&quot;3:28&quot;</td><td>5</td><td>100</td><td>0.02</td><td>2.0</td><td>0.624</td></tr><tr><td>159</td><td>&quot;Now the Day Is Over&quot;</td><td>&quot;1:36&quot;</td><td>3</td><td>100</td><td>0.0</td><td>2.0</td><td>0.46</td></tr></tbody></table></div>"
      ],
      "text/plain": [
       "shape: (8, 8)\n",
       "┌─────┬───────────────┬────────┬───────────────┬─────────────┬──────────────┬──────────────┬───────┐\n",
       "│ id  ┆ name          ┆ length ┆ adj_popularit ┆ weeks_since ┆ popularity_s ┆ weeks_since_ ┆ score │\n",
       "│ --- ┆ ---           ┆ ---    ┆ y             ┆ ---         ┆ core         ┆ score        ┆ ---   │\n",
       "│ i64 ┆ str           ┆ str    ┆ ---           ┆ i64         ┆ ---          ┆ ---          ┆ f64   │\n",
       "│     ┆               ┆        ┆ i64           ┆             ┆ f64          ┆ f64          ┆       │\n",
       "╞═════╪═══════════════╪════════╪═══════════════╪═════════════╪══════════════╪══════════════╪═══════╡\n",
       "│ 156 ┆ Sing We Now   ┆ 2:47   ┆ 8             ┆ 36          ┆ 0.88         ┆ 0.72         ┆ 0.922 │\n",
       "│     ┆ at Parting    ┆        ┆               ┆             ┆              ┆              ┆       │\n",
       "│ 3   ┆ Now Let Us    ┆ 3:29   ┆ 10            ┆ 23          ┆ 1.0          ┆ 0.46         ┆ 0.888 │\n",
       "│     ┆ Rejoice       ┆        ┆               ┆             ┆              ┆              ┆       │\n",
       "│ 95  ┆ Now Thank We  ┆ 2:18   ┆ 6             ┆ 100         ┆ 0.12         ┆ 2.0          ┆ 0.724 │\n",
       "│     ┆ All Our God   ┆        ┆               ┆             ┆              ┆              ┆       │\n",
       "│ 91  ┆ Father, Thy   ┆ 1:51   ┆ 5             ┆ 100         ┆ 0.02         ┆ 2.0          ┆ 0.694 │\n",
       "│     ┆ Children to   ┆        ┆               ┆             ┆              ┆              ┆       │\n",
       "│     ┆ Thee Now      ┆        ┆               ┆             ┆              ┆              ┆       │\n",
       "│     ┆ Raise         ┆        ┆               ┆             ┆              ┆              ┆       │\n",
       "│ 162 ┆ Lord, We Come ┆ 2:38   ┆ 3             ┆ 100         ┆ 0.0          ┆ 2.0          ┆ 0.67  │\n",
       "│     ┆ before Thee   ┆        ┆               ┆             ┆              ┆              ┆       │\n",
       "│     ┆ Now           ┆        ┆               ┆             ┆              ┆              ┆       │\n",
       "│ 160 ┆ Softly Now    ┆ 0:51   ┆ 2             ┆ 100         ┆ 0.0          ┆ 2.0          ┆ 0.64  │\n",
       "│     ┆ the Light of  ┆        ┆               ┆             ┆              ┆              ┆       │\n",
       "│     ┆ Day           ┆        ┆               ┆             ┆              ┆              ┆       │\n",
       "│ 25  ┆ Now We'll     ┆ 3:28   ┆ 5             ┆ 100         ┆ 0.02         ┆ 2.0          ┆ 0.624 │\n",
       "│     ┆ Sing with One ┆        ┆               ┆             ┆              ┆              ┆       │\n",
       "│     ┆ Accord        ┆        ┆               ┆             ┆              ┆              ┆       │\n",
       "│ 159 ┆ Now the Day   ┆ 1:36   ┆ 3             ┆ 100         ┆ 0.0          ┆ 2.0          ┆ 0.46  │\n",
       "│     ┆ Is Over       ┆        ┆               ┆             ┆              ┆              ┆       │\n",
       "└─────┴───────────────┴────────┴───────────────┴─────────────┴──────────────┴──────────────┴───────┘"
      ]
     },
     "metadata": {},
     "output_type": "display_data"
    }
   ],
   "source": [
    "general_ranking = get_ranking_score(df, 'is_general', noise=0.15, popularity_weight=0.7)\n",
    "# display(general_ranking.head(30))\n",
    "display(general_ranking.filter(pl.col('name').str.contains('Now')))"
   ]
  },
  {
   "attachments": {},
   "cell_type": "markdown",
   "id": "477fa8b3",
   "metadata": {},
   "source": [
    "# Add to History"
   ]
  },
  {
   "cell_type": "code",
   "execution_count": 6,
   "id": "930c85b9",
   "metadata": {},
   "outputs": [
    {
     "ename": "KeyboardInterrupt",
     "evalue": "This is here to stop you from running the whole notebook.",
     "output_type": "error",
     "traceback": [
      "\u001b[0;31m---------------------------------------------------------------------------\u001b[0m",
      "\u001b[0;31mKeyboardInterrupt\u001b[0m                         Traceback (most recent call last)",
      "Cell \u001b[0;32mIn[6], line 1\u001b[0m\n\u001b[0;32m----> 1\u001b[0m \u001b[38;5;28;01mraise\u001b[39;00m \u001b[38;5;167;01mKeyboardInterrupt\u001b[39;00m(\u001b[38;5;124m\"\u001b[39m\u001b[38;5;124mThis is here to stop you from running the whole notebook.\u001b[39m\u001b[38;5;124m\"\u001b[39m)\n",
      "\u001b[0;31mKeyboardInterrupt\u001b[0m: This is here to stop you from running the whole notebook."
     ]
    }
   ],
   "source": [
    "raise KeyboardInterrupt(\"This is here to stop you from running the whole notebook.\")"
   ]
  },
  {
   "cell_type": "code",
   "execution_count": 9,
   "id": "175a466e",
   "metadata": {},
   "outputs": [],
   "source": [
    "def name_from_id(id):\n",
    "    name_row = df.filter(pl.col(\"id\") == id).select(\"name\")\n",
    "    if len(name_row) != 1:\n",
    "        raise ValueError(f\"Expected 1 row, got {len(name_row)}\")\n",
    "    return name_row[\"name\"].item()\n",
    "\n",
    "\n",
    "def format_for_csv(date, opening, sacrament, intermediate, closing):\n",
    "    str_list = []\n",
    "    if opening:\n",
    "        str_list.append(\n",
    "            f\"{date.strftime('%m/%d/%Y')},opening,{opening},\\\"{name_from_id(opening)}\\\"\"\n",
    "        )\n",
    "    if sacrament:\n",
    "        str_list.append(\n",
    "            f\"{date.strftime('%m/%d/%Y')},sacrament,{sacrament},\\\"{name_from_id(sacrament)}\\\"\"\n",
    "        )\n",
    "    if intermediate:\n",
    "        str_list.append(\n",
    "            f\"{date.strftime('%m/%d/%Y')},intermediate,{intermediate},\\\"{name_from_id(intermediate)}\\\"\"\n",
    "        )\n",
    "    if closing:\n",
    "        str_list.append(\n",
    "            f\"{date.strftime('%m/%d/%Y')},closing,{closing},\\\"{name_from_id(closing)}\\\"\"\n",
    "        )\n",
    "    csv_str = \"\\n\".join(str_list)\n",
    "    return csv_str"
   ]
  },
  {
   "cell_type": "code",
   "execution_count": 31,
   "id": "7238d2cf",
   "metadata": {},
   "outputs": [],
   "source": [
    "date = dt.date(2024, 1, 28)\n",
    "opening = 30\n",
    "sacrament = 174\n",
    "intermediate = 249\n",
    "closing = 98"
   ]
  },
  {
   "cell_type": "code",
   "execution_count": 32,
   "id": "1f8248b3",
   "metadata": {},
   "outputs": [
    {
     "name": "stdout",
     "output_type": "stream",
     "text": [
      "Does this look right?\n",
      "01/28/2024,opening,30,\"Come, Come, Ye Saints\"\n",
      "01/28/2024,sacrament,174,\"While of These Emblems We Partake (AEOLIAN)\"\n",
      "01/28/2024,intermediate,249,\"Called to Serve\"\n",
      "01/28/2024,closing,98,\"I Need Thee Every Hour\"\n"
     ]
    }
   ],
   "source": [
    "csv_str = format_for_csv(date, opening, sacrament, intermediate, closing)\n",
    "print(\"Does this look right?\")\n",
    "print(csv_str)"
   ]
  },
  {
   "cell_type": "code",
   "execution_count": 33,
   "id": "1bc805b4",
   "metadata": {},
   "outputs": [],
   "source": [
    "# Append to history csv\n",
    "with open('history.csv', 'a') as f:\n",
    "    f.write(csv_str)\n",
    "    f.write(\"\\n\")"
   ]
  },
  {
   "cell_type": "code",
   "execution_count": null,
   "id": "5f5843b8",
   "metadata": {},
   "outputs": [],
   "source": []
  }
 ],
 "metadata": {
  "kernelspec": {
   "display_name": "Python 3",
   "language": "python",
   "name": "python3"
  },
  "language_info": {
   "codemirror_mode": {
    "name": "ipython",
    "version": 3
   },
   "file_extension": ".py",
   "mimetype": "text/x-python",
   "name": "python",
   "nbconvert_exporter": "python",
   "pygments_lexer": "ipython3",
   "version": "3.12.1"
  }
 },
 "nbformat": 4,
 "nbformat_minor": 5
}
